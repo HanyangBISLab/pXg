{
 "cells": [
  {
   "cell_type": "code",
   "execution_count": 6,
   "id": "7154916b",
   "metadata": {},
   "outputs": [],
   "source": [
    "import pandas as pd\n",
    "import math\n",
    "import numpy as np\n",
    "import os\n"
   ]
  },
  {
   "cell_type": "code",
   "execution_count": 13,
   "id": "0e5fd9f9",
   "metadata": {},
   "outputs": [],
   "source": [
    "###### POST-PROCESSING #########\n",
    "sample_names = ['C3N-01488.T',\n",
    "                'C3L-02549.T',\n",
    "                'C3N-01016.T',\n",
    "                'C3N-02423.T']\n",
    "sample_hla_types = ['HLA-A11:01,HLA-A68:01,HLA-B08:01,HLA-B35:01,HLA-C04:01,HLA-C07:02',\n",
    "                    'HLA-A01:01,HLA-A24:02,HLA-B07:02,HLA-B37:01,HLA-C06:02,HLA-C07:02',\n",
    "                    'HLA-A02:07,HLA-A33:03,HLA-B46:01,HLA-B58:01,HLA-C01:02,HLA-C03:02',\n",
    "                    'HLA-A02:01,HLA-A30:01,HLA-B13:02,HLA-B40:03,HLA-C03:04,HLA-C06:02']\n"
   ]
  },
  {
   "cell_type": "code",
   "execution_count": 14,
   "id": "f94a0ae8",
   "metadata": {},
   "outputs": [],
   "source": [
    "os.chdir(\"/Users/gistar/Documents/ZhangLab/2023_Immunopeptidomics_LUAD/Test/4sample_test_fdr\")\n"
   ]
  },
  {
   "cell_type": "code",
   "execution_count": 15,
   "id": "a0710fa3",
   "metadata": {
    "scrolled": true
   },
   "outputs": [
    {
     "name": "stdout",
     "output_type": "stream",
     "text": [
      "run netMHCpan: VY2021_C3L-02549.T.csnv.pXg.feat.netMHCpan.input\n",
      "/Users/gistar/tools/netMHCpan4.1/netMHCpan-4.1/netMHCpan -p VY2021_C3L-02549.T.csnv.pXg.feat.netMHCpan.input -xls -a HLA-A01:01,HLA-A24:02,HLA-B07:02,HLA-B37:01,HLA-C06:02,HLA-C07:02 -xlsfile VY2021_C3L-02549.T.csnv.pXg.feat.netMHCpan.xls > out\n"
     ]
    },
    {
     "name": "stderr",
     "output_type": "stream",
     "text": [
      "paste: stdout: Broken pipe\n",
      "paste: stdout: Broken pipe\n"
     ]
    },
    {
     "name": "stdout",
     "output_type": "stream",
     "text": [
      "run netMHCpan: VY2021_C3L-02549.T.PEAKS11.pXg.feat.netMHCpan.input\n",
      "/Users/gistar/tools/netMHCpan4.1/netMHCpan-4.1/netMHCpan -p VY2021_C3L-02549.T.PEAKS11.pXg.feat.netMHCpan.input -xls -a HLA-A01:01,HLA-A24:02,HLA-B07:02,HLA-B37:01,HLA-C06:02,HLA-C07:02 -xlsfile VY2021_C3L-02549.T.PEAKS11.pXg.feat.netMHCpan.xls > out\n"
     ]
    },
    {
     "name": "stderr",
     "output_type": "stream",
     "text": [
      "paste: stdout: Broken pipe\n",
      "paste: stdout: Broken pipe\n"
     ]
    },
    {
     "name": "stdout",
     "output_type": "stream",
     "text": [
      "run netMHCpan: VY2021_C3L-02549.T.pNovo3.pXg.feat.netMHCpan.input\n",
      "/Users/gistar/tools/netMHCpan4.1/netMHCpan-4.1/netMHCpan -p VY2021_C3L-02549.T.pNovo3.pXg.feat.netMHCpan.input -xls -a HLA-A01:01,HLA-A24:02,HLA-B07:02,HLA-B37:01,HLA-C06:02,HLA-C07:02 -xlsfile VY2021_C3L-02549.T.pNovo3.pXg.feat.netMHCpan.xls > out\n"
     ]
    },
    {
     "name": "stderr",
     "output_type": "stream",
     "text": [
      "paste: stdout: Broken pipe\n",
      "paste: stdout: Broken pipe\n"
     ]
    },
    {
     "name": "stdout",
     "output_type": "stream",
     "text": [
      "run netMHCpan: VY2021_C3N-01016.T.csnv.pXg.feat.netMHCpan.input\n",
      "/Users/gistar/tools/netMHCpan4.1/netMHCpan-4.1/netMHCpan -p VY2021_C3N-01016.T.csnv.pXg.feat.netMHCpan.input -xls -a HLA-A02:07,HLA-A33:03,HLA-B46:01,HLA-B58:01,HLA-C01:02,HLA-C03:02 -xlsfile VY2021_C3N-01016.T.csnv.pXg.feat.netMHCpan.xls > out\n"
     ]
    },
    {
     "name": "stderr",
     "output_type": "stream",
     "text": [
      "paste: stdout: Broken pipe\n",
      "paste: stdout: Broken pipe\n"
     ]
    },
    {
     "name": "stdout",
     "output_type": "stream",
     "text": [
      "run netMHCpan: VY2021_C3N-01016.T.PEAKS11.pXg.feat.netMHCpan.input\n",
      "/Users/gistar/tools/netMHCpan4.1/netMHCpan-4.1/netMHCpan -p VY2021_C3N-01016.T.PEAKS11.pXg.feat.netMHCpan.input -xls -a HLA-A02:07,HLA-A33:03,HLA-B46:01,HLA-B58:01,HLA-C01:02,HLA-C03:02 -xlsfile VY2021_C3N-01016.T.PEAKS11.pXg.feat.netMHCpan.xls > out\n"
     ]
    },
    {
     "name": "stderr",
     "output_type": "stream",
     "text": [
      "paste: stdout: Broken pipe\n",
      "paste: stdout: Broken pipe\n"
     ]
    },
    {
     "name": "stdout",
     "output_type": "stream",
     "text": [
      "run netMHCpan: VY2021_C3N-01016.T.pNovo3.pXg.feat.netMHCpan.input\n",
      "/Users/gistar/tools/netMHCpan4.1/netMHCpan-4.1/netMHCpan -p VY2021_C3N-01016.T.pNovo3.pXg.feat.netMHCpan.input -xls -a HLA-A02:07,HLA-A33:03,HLA-B46:01,HLA-B58:01,HLA-C01:02,HLA-C03:02 -xlsfile VY2021_C3N-01016.T.pNovo3.pXg.feat.netMHCpan.xls > out\n"
     ]
    },
    {
     "name": "stderr",
     "output_type": "stream",
     "text": [
      "paste: stdout: Broken pipe\n",
      "paste: stdout: Broken pipe\n"
     ]
    },
    {
     "name": "stdout",
     "output_type": "stream",
     "text": [
      "run netMHCpan: KZ2022_C3N-02423.T.PEAKS11.pXg.feat.netMHCpan.input\n",
      "/Users/gistar/tools/netMHCpan4.1/netMHCpan-4.1/netMHCpan -p KZ2022_C3N-02423.T.PEAKS11.pXg.feat.netMHCpan.input -xls -a HLA-A02:01,HLA-A30:01,HLA-B13:02,HLA-B40:03,HLA-C03:04,HLA-C06:02 -xlsfile KZ2022_C3N-02423.T.PEAKS11.pXg.feat.netMHCpan.xls > out\n"
     ]
    },
    {
     "name": "stderr",
     "output_type": "stream",
     "text": [
      "paste: stdout: Broken pipe\n",
      "paste: stdout: Broken pipe\n"
     ]
    },
    {
     "name": "stdout",
     "output_type": "stream",
     "text": [
      "run netMHCpan: KZ2022_C3N-02423.T.pNovo3.pXg.feat.netMHCpan.input\n",
      "/Users/gistar/tools/netMHCpan4.1/netMHCpan-4.1/netMHCpan -p KZ2022_C3N-02423.T.pNovo3.pXg.feat.netMHCpan.input -xls -a HLA-A02:01,HLA-A30:01,HLA-B13:02,HLA-B40:03,HLA-C03:04,HLA-C06:02 -xlsfile KZ2022_C3N-02423.T.pNovo3.pXg.feat.netMHCpan.xls > out\n"
     ]
    },
    {
     "name": "stderr",
     "output_type": "stream",
     "text": [
      "paste: stdout: Broken pipe\n",
      "paste: stdout: Broken pipe\n"
     ]
    },
    {
     "name": "stdout",
     "output_type": "stream",
     "text": [
      "run netMHCpan: KZ2022_C3N-02423.T.csnv.pXg.feat.netMHCpan.input\n",
      "/Users/gistar/tools/netMHCpan4.1/netMHCpan-4.1/netMHCpan -p KZ2022_C3N-02423.T.csnv.pXg.feat.netMHCpan.input -xls -a HLA-A02:01,HLA-A30:01,HLA-B13:02,HLA-B40:03,HLA-C03:04,HLA-C06:02 -xlsfile KZ2022_C3N-02423.T.csnv.pXg.feat.netMHCpan.xls > out\n"
     ]
    },
    {
     "name": "stderr",
     "output_type": "stream",
     "text": [
      "paste: stdout: Broken pipe\n",
      "paste: stdout: Broken pipe\n"
     ]
    }
   ],
   "source": [
    "\n",
    "###### NetMHCpan 4.1 ! ################\n",
    "## Run configuration\n",
    "netmhcpan_input_suffix = \".input.netmhcpan\"\n",
    "\n",
    "netmhcpan_output_suffix = \".netmhcpan.xls\"\n",
    "\n",
    "## input filename\n",
    "current_directory = os.getcwd()\n",
    "\n",
    "\n",
    "for idx in range(len(sample_names)):\n",
    "    sample_name = sample_names[idx]\n",
    "    hla_type = sample_hla_types[idx]\n",
    "    \n",
    "    if idx == 0:\n",
    "        continue\n",
    "\n",
    "    for file_name in os.listdir(current_directory):\n",
    "        if not file_name.endswith(\".netMHCpan.input\"):\n",
    "            continue\n",
    "\n",
    "        if not (sample_name in file_name):\n",
    "            continue\n",
    "\n",
    "        file_name_without_extension, extension = os.path.splitext(file_name)\n",
    "\n",
    "        print(\"run netMHCpan: \" + file_name)\n",
    "\n",
    "        netmhcpan_input_file = file_name\n",
    "        netmhcpan_output_file = file_name_without_extension + \".xls\"\n",
    "        netmhcpan_command = \"/Users/gistar/tools/netMHCpan4.1/netMHCpan-4.1/netMHCpan -p \" +netmhcpan_input_file +\" -xls -a \" + hla_type +\" -xlsfile \"+netmhcpan_output_file +\" > out\"\n",
    "\n",
    "        print(netmhcpan_command)\n",
    "\n",
    "        os.system(netmhcpan_command)"
   ]
  },
  {
   "cell_type": "code",
   "execution_count": null,
   "id": "0533c45c",
   "metadata": {},
   "outputs": [],
   "source": [
    "#### FEATURE APPENDING #####\n"
   ]
  },
  {
   "cell_type": "code",
   "execution_count": 4,
   "id": "d73d879e",
   "metadata": {},
   "outputs": [
    {
     "name": "stdout",
     "output_type": "stream",
     "text": [
      "run percolator: VY2021_C3L-02549.T.PEAKS11.pXg.feat.pin\n"
     ]
    },
    {
     "name": "stderr",
     "output_type": "stream",
     "text": [
      "Protein decoy-prefix used is XXX_\n",
      "All files have been read\n",
      "Percolator version 3.06.1, Build Date Jun 15 2023 15:03:57\n",
      "Copyright (c) 2006-9 University of Washington. All rights reserved.\n",
      "Written by Lukas Käll (lukall@u.washington.edu) in the\n",
      "Department of Genome Sciences at the University of Washington.\n",
      "Issued command:\n",
      "percolator -i 10 --default-direction MainScore --testFDR 0.01 --trainFDR 0.01 --weights VY2021_C3L-02549.T.PEAKS11.pXg.feat.weights --results-psms VY2021_C3L-02549.T.PEAKS11.pXg.feat.target.psm --decoy-results-psms VY2021_C3L-02549.T.PEAKS11.pXg.feat.decoy.psm -P XXX_ -Y -U VY2021_C3L-02549.T.PEAKS11.pXg.feat.pin\n",
      "Started Mon Jan  1 01:56:43 2024\n",
      "Hyperparameters: selectionFdr=0.01, Cpos=0, Cneg=0, maxNiter=10\n",
      "Reading tab-delimited input from datafile VY2021_C3L-02549.T.PEAKS11.pXg.feat.pin\n",
      "Features:\n",
      "MainScore DeltaScore Log2Reads Log2MeanQScore abs(PPMError) SA abs(deltaRT) Charge2 Charge3 Charge4 \n",
      "Found 36574 PSMs\n",
      "Separate target and decoy search inputs detected, using target-decoy competition on Percolator scores.\n",
      "Train/test set contains 31918 positives and 4656 negatives, size ratio=6.85524 and pi0=1\n",
      "Selecting Cpos by cross-validation.\n",
      "Selecting Cneg by cross-validation.\n",
      "Found 1441 test set positives with q<0.01 in initial direction\n",
      "Reading in data and feature calculation took 0.1051 cpu seconds or 0 seconds wall clock time.\n",
      "---Training with Cpos selected by cross validation, Cneg selected by cross validation, initial_fdr=0.01, fdr=0.01\n",
      "Iteration 1:\tEstimated 11432 PSMs with q<0.01\n",
      "Iteration 2:\tEstimated 15956 PSMs with q<0.01\n",
      "Iteration 3:\tEstimated 17347 PSMs with q<0.01\n",
      "Iteration 4:\tEstimated 17604 PSMs with q<0.01\n",
      "Iteration 5:\tEstimated 17693 PSMs with q<0.01\n",
      "Iteration 6:\tEstimated 17741 PSMs with q<0.01\n",
      "Iteration 7:\tEstimated 17764 PSMs with q<0.01\n",
      "Iteration 8:\tEstimated 17761 PSMs with q<0.01\n",
      "Iteration 9:\tEstimated 17764 PSMs with q<0.01\n",
      "Iteration 10:\tEstimated 17768 PSMs with q<0.01\n",
      "Learned normalized SVM weights for the 3 cross-validation splits:\n",
      " Split1\t Split2\t Split3\tFeatureName\n",
      " 0.3336\t 0.3020\t 0.2781\tMainScore\n",
      "-0.9225\t-0.8129\t-0.8389\tDeltaScore\n",
      " 1.3965\t 1.2293\t 1.2427\tLog2Reads\n",
      " 0.0292\t 0.0446\t 0.0842\tLog2MeanQScore\n",
      "-0.0912\t-0.0650\t-0.0345\tabs(PPMError)\n",
      " 0.7262\t 0.6591\t 0.5711\tSA\n",
      "-1.0579\t-0.6943\t-0.9661\tabs(deltaRT)\n",
      "-0.0866\t-0.1484\t-0.2273\tCharge2\n",
      " 0.0767\t 0.0422\t-0.1043\tCharge3\n",
      " 0.0358\t 0.0340\t 0.0205\tCharge4\n",
      "-0.8621\t-0.9929\t-1.0863\tm0\n",
      "Found 17677 test set PSMs with q<0.01.\n",
      "Selected best-scoring PSM per scan+expMass (target-decoy competition): 17886 target PSMs and 1234 decoy PSMs.\n",
      "Calculating q values.\n",
      "Final list yields 15790 target PSMs with q<0.01.\n",
      "Calculating posterior error probabilities (PEPs).\n",
      "Processing took 6.0161 cpu seconds or 6 seconds wall clock time.\n"
     ]
    },
    {
     "name": "stdout",
     "output_type": "stream",
     "text": [
      "run percolator: KZ2022_C3N-01488.T.csnv.pXg.feat.pin\n"
     ]
    },
    {
     "name": "stderr",
     "output_type": "stream",
     "text": [
      "Protein decoy-prefix used is XXX_\n",
      "All files have been read\n",
      "Percolator version 3.06.1, Build Date Jun 15 2023 15:03:57\n",
      "Copyright (c) 2006-9 University of Washington. All rights reserved.\n",
      "Written by Lukas Käll (lukall@u.washington.edu) in the\n",
      "Department of Genome Sciences at the University of Washington.\n",
      "Issued command:\n",
      "percolator -i 10 --default-direction MainScore --testFDR 0.01 --trainFDR 0.01 --weights KZ2022_C3N-01488.T.csnv.pXg.feat.weights --results-psms KZ2022_C3N-01488.T.csnv.pXg.feat.target.psm --decoy-results-psms KZ2022_C3N-01488.T.csnv.pXg.feat.decoy.psm -P XXX_ -Y -U KZ2022_C3N-01488.T.csnv.pXg.feat.pin\n",
      "Started Mon Jan  1 01:56:50 2024\n",
      "Hyperparameters: selectionFdr=0.01, Cpos=0, Cneg=0, maxNiter=10\n",
      "Reading tab-delimited input from datafile KZ2022_C3N-01488.T.csnv.pXg.feat.pin\n",
      "Features:\n",
      "MainScore DeltaScore Log2Reads Log2MeanQScore abs(PPMError) SA abs(deltaRT) Charge2 Charge3 Charge4 \n",
      "Found 98253 PSMs\n",
      "Separate target and decoy search inputs detected, using target-decoy competition on Percolator scores.\n",
      "Train/test set contains 92075 positives and 6178 negatives, size ratio=14.9037 and pi0=1\n",
      "Selecting Cpos by cross-validation.\n",
      "Selecting Cneg by cross-validation.\n",
      "Found 57195 test set positives with q<0.01 in initial direction\n",
      "Reading in data and feature calculation took 0.2764 cpu seconds or 0 seconds wall clock time.\n",
      "---Training with Cpos selected by cross validation, Cneg selected by cross validation, initial_fdr=0.01, fdr=0.01\n",
      "Iteration 1:\tEstimated 68005 PSMs with q<0.01\n",
      "Iteration 2:\tEstimated 69358 PSMs with q<0.01\n",
      "Iteration 3:\tEstimated 69766 PSMs with q<0.01\n",
      "Iteration 4:\tEstimated 69885 PSMs with q<0.01\n",
      "Iteration 5:\tEstimated 69935 PSMs with q<0.01\n",
      "Iteration 6:\tEstimated 69962 PSMs with q<0.01\n",
      "Iteration 7:\tEstimated 69992 PSMs with q<0.01\n",
      "Iteration 8:\tEstimated 69982 PSMs with q<0.01\n",
      "Iteration 9:\tEstimated 69987 PSMs with q<0.01\n",
      "Iteration 10:\tEstimated 69985 PSMs with q<0.01\n",
      "Learned normalized SVM weights for the 3 cross-validation splits:\n",
      " Split1\t Split2\t Split3\tFeatureName\n",
      " 0.5844\t 0.6050\t 0.5342\tMainScore\n",
      "-0.4696\t-0.5245\t-0.5011\tDeltaScore\n",
      " 0.9130\t 0.9955\t 0.9821\tLog2Reads\n",
      " 0.0910\t 0.0752\t 0.0679\tLog2MeanQScore\n",
      "-0.0800\t-0.0583\t-0.0570\tabs(PPMError)\n",
      " 0.1297\t 0.0636\t 0.0845\tSA\n",
      " 0.0224\t 0.0899\t 0.0747\tabs(deltaRT)\n",
      "-0.0347\t 0.0334\t 0.0259\tCharge2\n",
      " 0.0597\t 0.0683\t 0.0582\tCharge3\n",
      " 0.1108\t 0.1307\t 0.1265\tCharge4\n",
      " 0.5062\t 0.5887\t 0.5493\tm0\n",
      "Found 69715 test set PSMs with q<0.01.\n",
      "Selected best-scoring PSM per scan+expMass (target-decoy competition): 54250 target PSMs and 1186 decoy PSMs.\n",
      "Calculating q values.\n",
      "Final list yields 52798 target PSMs with q<0.01.\n",
      "Calculating posterior error probabilities (PEPs).\n",
      "Processing took 17.8528 cpu seconds or 18 seconds wall clock time.\n"
     ]
    },
    {
     "name": "stdout",
     "output_type": "stream",
     "text": [
      "run percolator: KZ2022_C3N-01488.T.pNovo3.pXg.feat.pin\n"
     ]
    },
    {
     "name": "stderr",
     "output_type": "stream",
     "text": [
      "Protein decoy-prefix used is XXX_\n",
      "All files have been read\n",
      "Percolator version 3.06.1, Build Date Jun 15 2023 15:03:57\n",
      "Copyright (c) 2006-9 University of Washington. All rights reserved.\n",
      "Written by Lukas Käll (lukall@u.washington.edu) in the\n",
      "Department of Genome Sciences at the University of Washington.\n",
      "Issued command:\n",
      "percolator -i 10 --default-direction MainScore --testFDR 0.01 --trainFDR 0.01 --weights KZ2022_C3N-01488.T.pNovo3.pXg.feat.weights --results-psms KZ2022_C3N-01488.T.pNovo3.pXg.feat.target.psm --decoy-results-psms KZ2022_C3N-01488.T.pNovo3.pXg.feat.decoy.psm -P XXX_ -Y -U KZ2022_C3N-01488.T.pNovo3.pXg.feat.pin\n",
      "Started Mon Jan  1 01:57:08 2024\n",
      "Hyperparameters: selectionFdr=0.01, Cpos=0, Cneg=0, maxNiter=10\n",
      "Reading tab-delimited input from datafile KZ2022_C3N-01488.T.pNovo3.pXg.feat.pin\n",
      "Features:\n",
      "MainScore DeltaScore Log2Reads Log2MeanQScore abs(PPMError) SA abs(deltaRT) Charge2 Charge3 Charge4 \n",
      "Found 180090 PSMs\n",
      "Separate target and decoy search inputs detected, using target-decoy competition on Percolator scores.\n",
      "Train/test set contains 155812 positives and 24278 negatives, size ratio=6.41783 and pi0=1\n",
      "Selecting Cpos by cross-validation.\n",
      "Selecting Cneg by cross-validation.\n",
      "Found 13195 test set positives with q<0.01 in initial direction\n",
      "Reading in data and feature calculation took 0.5006 cpu seconds or 1 seconds wall clock time.\n",
      "---Training with Cpos selected by cross validation, Cneg selected by cross validation, initial_fdr=0.01, fdr=0.01\n",
      "Iteration 1:\tEstimated 53746 PSMs with q<0.01\n",
      "Iteration 2:\tEstimated 66937 PSMs with q<0.01\n",
      "Iteration 3:\tEstimated 68702 PSMs with q<0.01\n",
      "Iteration 4:\tEstimated 69107 PSMs with q<0.01\n",
      "Iteration 5:\tEstimated 69269 PSMs with q<0.01\n",
      "Iteration 6:\tEstimated 69425 PSMs with q<0.01\n",
      "Iteration 7:\tEstimated 69523 PSMs with q<0.01\n",
      "Iteration 8:\tEstimated 69563 PSMs with q<0.01\n",
      "Iteration 9:\tEstimated 69598 PSMs with q<0.01\n",
      "Iteration 10:\tEstimated 69607 PSMs with q<0.01\n",
      "Learned normalized SVM weights for the 3 cross-validation splits:\n",
      " Split1\t Split2\t Split3\tFeatureName\n",
      " 0.6421\t 0.6889\t 0.6540\tMainScore\n",
      "-2.1023\t-1.9130\t-2.0474\tDeltaScore\n",
      " 1.4086\t 1.3308\t 1.4007\tLog2Reads\n",
      " 0.0260\t-0.0011\t 0.0097\tLog2MeanQScore\n",
      " 0.0122\t-0.0329\t-0.0111\tabs(PPMError)\n",
      " 0.2615\t 0.2712\t 0.2843\tSA\n",
      "-0.0938\t-0.1707\t-0.1816\tabs(deltaRT)\n",
      " 0.1884\t 0.2232\t 0.1895\tCharge2\n",
      " 0.1023\t 0.1600\t 0.0931\tCharge3\n",
      " 0.0690\t 0.0682\t 0.0545\tCharge4\n",
      "-1.2849\t-1.2467\t-1.2928\tm0\n",
      "Found 69288 test set PSMs with q<0.01.\n",
      "Selected best-scoring PSM per scan+expMass (target-decoy competition): 57313 target PSMs and 3416 decoy PSMs.\n",
      "Calculating q values.\n",
      "Final list yields 51552 target PSMs with q<0.01.\n",
      "Calculating posterior error probabilities (PEPs).\n",
      "Processing took 17.8091 cpu seconds or 18 seconds wall clock time.\n"
     ]
    },
    {
     "name": "stdout",
     "output_type": "stream",
     "text": [
      "run percolator: KZ2022_C3N-02423.T.pNovo3.pXg.feat.pin\n"
     ]
    },
    {
     "name": "stderr",
     "output_type": "stream",
     "text": [
      "Protein decoy-prefix used is XXX_\n",
      "All files have been read\n",
      "Percolator version 3.06.1, Build Date Jun 15 2023 15:03:57\n",
      "Copyright (c) 2006-9 University of Washington. All rights reserved.\n",
      "Written by Lukas Käll (lukall@u.washington.edu) in the\n",
      "Department of Genome Sciences at the University of Washington.\n",
      "Issued command:\n",
      "percolator -i 10 --default-direction MainScore --testFDR 0.01 --trainFDR 0.01 --weights KZ2022_C3N-02423.T.pNovo3.pXg.feat.weights --results-psms KZ2022_C3N-02423.T.pNovo3.pXg.feat.target.psm --decoy-results-psms KZ2022_C3N-02423.T.pNovo3.pXg.feat.decoy.psm -P XXX_ -Y -U KZ2022_C3N-02423.T.pNovo3.pXg.feat.pin\n",
      "Started Mon Jan  1 01:57:27 2024\n",
      "Hyperparameters: selectionFdr=0.01, Cpos=0, Cneg=0, maxNiter=10\n",
      "Reading tab-delimited input from datafile KZ2022_C3N-02423.T.pNovo3.pXg.feat.pin\n",
      "Features:\n",
      "MainScore DeltaScore Log2Reads Log2MeanQScore abs(PPMError) SA abs(deltaRT) Charge1 Charge2 Charge3 Charge4 \n",
      "Found 179391 PSMs\n",
      "Separate target and decoy search inputs detected, using target-decoy competition on Percolator scores.\n",
      "Train/test set contains 148616 positives and 30775 negatives, size ratio=4.82911 and pi0=1\n",
      "Selecting Cpos by cross-validation.\n",
      "Selecting Cneg by cross-validation.\n",
      "Found 1849 test set positives with q<0.01 in initial direction\n",
      "Reading in data and feature calculation took 0.5203 cpu seconds or 1 seconds wall clock time.\n",
      "---Training with Cpos selected by cross validation, Cneg selected by cross validation, initial_fdr=0.01, fdr=0.01\n",
      "Iteration 1:\tEstimated 36043 PSMs with q<0.01\n",
      "Iteration 2:\tEstimated 53740 PSMs with q<0.01\n",
      "Iteration 3:\tEstimated 57431 PSMs with q<0.01\n",
      "Iteration 4:\tEstimated 58174 PSMs with q<0.01\n",
      "Iteration 5:\tEstimated 58393 PSMs with q<0.01\n",
      "Iteration 6:\tEstimated 58474 PSMs with q<0.01\n",
      "Iteration 7:\tEstimated 58475 PSMs with q<0.01\n",
      "Iteration 8:\tEstimated 58507 PSMs with q<0.01\n",
      "Iteration 9:\tEstimated 58515 PSMs with q<0.01\n",
      "Iteration 10:\tEstimated 58490 PSMs with q<0.01\n",
      "Learned normalized SVM weights for the 3 cross-validation splits:\n",
      " Split1\t Split2\t Split3\tFeatureName\n",
      " 0.5465\t 0.5318\t 0.5248\tMainScore\n",
      "-2.3373\t-2.3638\t-2.4200\tDeltaScore\n",
      " 1.5635\t 1.5926\t 1.6700\tLog2Reads\n",
      " 0.0055\t 0.1112\t 0.1226\tLog2MeanQScore\n",
      "-0.0225\t-0.0295\t-0.0157\tabs(PPMError)\n",
      " 0.1746\t 0.1766\t 0.1886\tSA\n",
      "-0.2556\t-0.2939\t-0.2470\tabs(deltaRT)\n",
      "-0.1833\t-0.1616\t-0.1847\tCharge1\n",
      " 0.0977\t 0.0774\t 0.0863\tCharge2\n",
      " 0.1111\t 0.1123\t 0.1321\tCharge3\n",
      " 0.0325\t 0.0338\t 0.0343\tCharge4\n",
      "-1.7646\t-1.8313\t-1.8618\tm0\n",
      "Found 58437 test set PSMs with q<0.01.\n",
      "Selected best-scoring PSM per scan+expMass (target-decoy competition): 52845 target PSMs and 4782 decoy PSMs.\n",
      "Calculating q values.\n",
      "Final list yields 43282 target PSMs with q<0.01.\n",
      "Calculating posterior error probabilities (PEPs).\n",
      "Processing took 18.5041 cpu seconds or 18 seconds wall clock time.\n"
     ]
    },
    {
     "name": "stdout",
     "output_type": "stream",
     "text": [
      "run percolator: VY2021_C3N-01016.T.pNovo3.pXg.feat.pin\n"
     ]
    },
    {
     "name": "stderr",
     "output_type": "stream",
     "text": [
      "Protein decoy-prefix used is XXX_\n",
      "All files have been read\n",
      "Percolator version 3.06.1, Build Date Jun 15 2023 15:03:57\n",
      "Copyright (c) 2006-9 University of Washington. All rights reserved.\n",
      "Written by Lukas Käll (lukall@u.washington.edu) in the\n",
      "Department of Genome Sciences at the University of Washington.\n",
      "Issued command:\n",
      "percolator -i 10 --default-direction MainScore --testFDR 0.01 --trainFDR 0.01 --weights VY2021_C3N-01016.T.pNovo3.pXg.feat.weights --results-psms VY2021_C3N-01016.T.pNovo3.pXg.feat.target.psm --decoy-results-psms VY2021_C3N-01016.T.pNovo3.pXg.feat.decoy.psm -P XXX_ -Y -U VY2021_C3N-01016.T.pNovo3.pXg.feat.pin\n",
      "Started Mon Jan  1 01:57:47 2024\n",
      "Hyperparameters: selectionFdr=0.01, Cpos=0, Cneg=0, maxNiter=10\n",
      "Reading tab-delimited input from datafile VY2021_C3N-01016.T.pNovo3.pXg.feat.pin\n",
      "Features:\n",
      "MainScore DeltaScore Log2Reads Log2MeanQScore abs(PPMError) SA abs(deltaRT) Charge3 Charge4 \n",
      "Found 109359 PSMs\n",
      "Separate target and decoy search inputs detected, using target-decoy competition on Percolator scores.\n",
      "Train/test set contains 91779 positives and 17580 negatives, size ratio=5.22065 and pi0=1\n",
      "Selecting Cpos by cross-validation.\n",
      "Selecting Cneg by cross-validation.\n",
      "Found 4548 test set positives with q<0.01 in initial direction\n",
      "Reading in data and feature calculation took 0.3047 cpu seconds or 0 seconds wall clock time.\n",
      "---Training with Cpos selected by cross validation, Cneg selected by cross validation, initial_fdr=0.01, fdr=0.01\n",
      "Iteration 1:\tEstimated 25207 PSMs with q<0.01\n",
      "Iteration 2:\tEstimated 29205 PSMs with q<0.01\n",
      "Iteration 3:\tEstimated 29917 PSMs with q<0.01\n",
      "Iteration 4:\tEstimated 30047 PSMs with q<0.01\n",
      "Iteration 5:\tEstimated 30195 PSMs with q<0.01\n",
      "Iteration 6:\tEstimated 30218 PSMs with q<0.01\n",
      "Iteration 7:\tEstimated 30242 PSMs with q<0.01\n",
      "Iteration 8:\tEstimated 30397 PSMs with q<0.01\n",
      "Iteration 9:\tEstimated 30414 PSMs with q<0.01\n",
      "Iteration 10:\tEstimated 30433 PSMs with q<0.01\n",
      "Learned normalized SVM weights for the 3 cross-validation splits:\n",
      " Split1\t Split2\t Split3\tFeatureName\n",
      " 0.7493\t 0.7543\t 0.8087\tMainScore\n",
      "-2.7473\t-2.7010\t-2.8450\tDeltaScore\n",
      " 1.1425\t 1.0865\t 1.1702\tLog2Reads\n",
      " 0.1539\t 0.1378\t-0.0224\tLog2MeanQScore\n",
      " 0.0696\t-0.0829\t-0.0399\tabs(PPMError)\n",
      " 0.3398\t 0.3072\t 0.3398\tSA\n",
      "-1.4509\t-0.9102\t-1.3531\tabs(deltaRT)\n",
      " 0.1240\t 0.1129\t 0.1587\tCharge3\n",
      " 0.1587\t 0.1384\t 0.1604\tCharge4\n",
      "-2.8424\t-2.4786\t-2.8727\tm0\n",
      "Found 30371 test set PSMs with q<0.01.\n",
      "Selected best-scoring PSM per scan+expMass (target-decoy competition): 32811 target PSMs and 3779 decoy PSMs.\n",
      "Calculating q values.\n",
      "Final list yields 23771 target PSMs with q<0.01.\n",
      "Calculating posterior error probabilities (PEPs).\n",
      "Processing took 9.5016 cpu seconds or 10 seconds wall clock time.\n"
     ]
    },
    {
     "name": "stdout",
     "output_type": "stream",
     "text": [
      "run percolator: VY2021_C3N-01016.T.csnv.pXg.feat.pin\n"
     ]
    },
    {
     "name": "stderr",
     "output_type": "stream",
     "text": [
      "Protein decoy-prefix used is XXX_\n",
      "All files have been read\n",
      "Percolator version 3.06.1, Build Date Jun 15 2023 15:03:57\n",
      "Copyright (c) 2006-9 University of Washington. All rights reserved.\n",
      "Written by Lukas Käll (lukall@u.washington.edu) in the\n",
      "Department of Genome Sciences at the University of Washington.\n",
      "Issued command:\n",
      "percolator -i 10 --default-direction MainScore --testFDR 0.01 --trainFDR 0.01 --weights VY2021_C3N-01016.T.csnv.pXg.feat.weights --results-psms VY2021_C3N-01016.T.csnv.pXg.feat.target.psm --decoy-results-psms VY2021_C3N-01016.T.csnv.pXg.feat.decoy.psm -P XXX_ -Y -U VY2021_C3N-01016.T.csnv.pXg.feat.pin\n",
      "Started Mon Jan  1 01:57:57 2024\n",
      "Hyperparameters: selectionFdr=0.01, Cpos=0, Cneg=0, maxNiter=10\n",
      "Reading tab-delimited input from datafile VY2021_C3N-01016.T.csnv.pXg.feat.pin\n",
      "Features:\n",
      "MainScore DeltaScore Log2Reads Log2MeanQScore abs(PPMError) SA abs(deltaRT) Charge3 Charge4 \n",
      "Found 66305 PSMs\n",
      "Separate target and decoy search inputs detected, using target-decoy competition on Percolator scores.\n",
      "Train/test set contains 60765 positives and 5540 negatives, size ratio=10.9684 and pi0=1\n",
      "Selecting Cpos by cross-validation.\n",
      "Selecting Cneg by cross-validation.\n",
      "Found 31104 test set positives with q<0.01 in initial direction\n",
      "Reading in data and feature calculation took 0.1957 cpu seconds or 0 seconds wall clock time.\n",
      "---Training with Cpos selected by cross validation, Cneg selected by cross validation, initial_fdr=0.01, fdr=0.01\n",
      "Iteration 1:\tEstimated 36363 PSMs with q<0.01\n",
      "Iteration 2:\tEstimated 36624 PSMs with q<0.01\n",
      "Iteration 3:\tEstimated 36757 PSMs with q<0.01\n",
      "Iteration 4:\tEstimated 36762 PSMs with q<0.01\n",
      "Iteration 5:\tEstimated 36761 PSMs with q<0.01\n",
      "Iteration 6:\tEstimated 36767 PSMs with q<0.01\n",
      "Iteration 7:\tEstimated 36745 PSMs with q<0.01\n",
      "Iteration 8:\tEstimated 36743 PSMs with q<0.01\n",
      "Iteration 9:\tEstimated 36736 PSMs with q<0.01\n",
      "Iteration 10:\tEstimated 36745 PSMs with q<0.01\n",
      "Learned normalized SVM weights for the 3 cross-validation splits:\n",
      " Split1\t Split2\t Split3\tFeatureName\n",
      " 1.4347\t 1.2825\t 1.2634\tMainScore\n",
      "-0.5012\t-0.5218\t-0.4746\tDeltaScore\n",
      " 0.9446\t 0.9082\t 0.8039\tLog2Reads\n",
      " 0.1925\t 0.0729\t 0.1686\tLog2MeanQScore\n",
      "-0.1588\t-0.1127\t-0.0769\tabs(PPMError)\n",
      " 0.2603\t 0.3102\t 0.2427\tSA\n",
      "-0.3109\t-0.7146\t-0.5750\tabs(deltaRT)\n",
      " 0.2769\t 0.2686\t 0.2934\tCharge3\n",
      " 0.3072\t 0.2711\t 0.2516\tCharge4\n",
      "-0.4815\t-0.5782\t-0.8181\tm0\n",
      "Found 36625 test set PSMs with q<0.01.\n",
      "Selected best-scoring PSM per scan+expMass (target-decoy competition): 33834 target PSMs and 1875 decoy PSMs.\n",
      "Calculating q values.\n",
      "Final list yields 29047 target PSMs with q<0.01.\n",
      "Calculating posterior error probabilities (PEPs).\n",
      "Processing took 8.4948 cpu seconds or 9 seconds wall clock time.\n"
     ]
    },
    {
     "name": "stdout",
     "output_type": "stream",
     "text": [
      "run percolator: VY2021_C3L-02549.T.pNovo3.pXg.feat.pin\n"
     ]
    },
    {
     "name": "stderr",
     "output_type": "stream",
     "text": [
      "Protein decoy-prefix used is XXX_\n",
      "All files have been read\n",
      "Percolator version 3.06.1, Build Date Jun 15 2023 15:03:57\n",
      "Copyright (c) 2006-9 University of Washington. All rights reserved.\n",
      "Written by Lukas Käll (lukall@u.washington.edu) in the\n",
      "Department of Genome Sciences at the University of Washington.\n",
      "Issued command:\n",
      "percolator -i 10 --default-direction MainScore --testFDR 0.01 --trainFDR 0.01 --weights VY2021_C3L-02549.T.pNovo3.pXg.feat.weights --results-psms VY2021_C3L-02549.T.pNovo3.pXg.feat.target.psm --decoy-results-psms VY2021_C3L-02549.T.pNovo3.pXg.feat.decoy.psm -P XXX_ -Y -U VY2021_C3L-02549.T.pNovo3.pXg.feat.pin\n",
      "Started Mon Jan  1 01:58:06 2024\n",
      "Hyperparameters: selectionFdr=0.01, Cpos=0, Cneg=0, maxNiter=10\n",
      "Reading tab-delimited input from datafile VY2021_C3L-02549.T.pNovo3.pXg.feat.pin\n",
      "Features:\n",
      "MainScore DeltaScore Log2Reads Log2MeanQScore abs(PPMError) SA abs(deltaRT) Charge2 Charge3 Charge4 \n",
      "Found 104825 PSMs\n",
      "Separate target and decoy search inputs detected, using target-decoy competition on Percolator scores.\n",
      "Train/test set contains 86905 positives and 17920 negatives, size ratio=4.84961 and pi0=1\n",
      "Selecting Cpos by cross-validation.\n",
      "Selecting Cneg by cross-validation.\n",
      "Found 0 test set positives with q<0.01 in initial direction\n",
      "Reading in data and feature calculation took 0.2976 cpu seconds or 0 seconds wall clock time.\n",
      "---Training with Cpos selected by cross validation, Cneg selected by cross validation, initial_fdr=0.01, fdr=0.01\n",
      "Iteration 1:\tEstimated 16332 PSMs with q<0.01\n",
      "Iteration 2:\tEstimated 21933 PSMs with q<0.01\n",
      "Iteration 3:\tEstimated 23422 PSMs with q<0.01\n",
      "Iteration 4:\tEstimated 23877 PSMs with q<0.01\n",
      "Iteration 5:\tEstimated 23928 PSMs with q<0.01\n",
      "Iteration 6:\tEstimated 23987 PSMs with q<0.01\n",
      "Iteration 7:\tEstimated 24038 PSMs with q<0.01\n",
      "Iteration 8:\tEstimated 24061 PSMs with q<0.01\n",
      "Iteration 9:\tEstimated 24051 PSMs with q<0.01\n",
      "Iteration 10:\tEstimated 24081 PSMs with q<0.01\n",
      "Learned normalized SVM weights for the 3 cross-validation splits:\n",
      " Split1\t Split2\t Split3\tFeatureName\n",
      " 0.3435\t 0.3337\t 0.3800\tMainScore\n",
      "-2.1187\t-2.3578\t-1.7782\tDeltaScore\n",
      " 1.1318\t 1.2099\t 1.3107\tLog2Reads\n",
      "-0.0278\t 0.0131\t 0.0425\tLog2MeanQScore\n",
      "-0.0960\t-0.0398\t-0.0421\tabs(PPMError)\n",
      " 0.5387\t 0.5108\t 0.5193\tSA\n",
      "-0.8210\t-0.9335\t-1.0100\tabs(deltaRT)\n",
      "-0.0573\t-0.0546\t-0.0543\tCharge2\n",
      " 0.0529\t 0.0500\t 0.0504\tCharge3\n",
      " 0.0537\t 0.0572\t 0.0485\tCharge4\n",
      "-2.8979\t-3.0872\t-2.6183\tm0\n",
      "Found 23915 test set PSMs with q<0.01.\n",
      "Selected best-scoring PSM per scan+expMass (target-decoy competition): 30823 target PSMs and 3823 decoy PSMs.\n",
      "Calculating q values.\n",
      "Final list yields 21049 target PSMs with q<0.01.\n",
      "Calculating posterior error probabilities (PEPs).\n",
      "Processing took 8.4669 cpu seconds or 9 seconds wall clock time.\n"
     ]
    },
    {
     "name": "stdout",
     "output_type": "stream",
     "text": [
      "run percolator: KZ2022_C3N-02423.T.csnv.pXg.feat.pin\n"
     ]
    },
    {
     "name": "stderr",
     "output_type": "stream",
     "text": [
      "Protein decoy-prefix used is XXX_\n",
      "All files have been read\n",
      "Percolator version 3.06.1, Build Date Jun 15 2023 15:03:57\n",
      "Copyright (c) 2006-9 University of Washington. All rights reserved.\n",
      "Written by Lukas Käll (lukall@u.washington.edu) in the\n",
      "Department of Genome Sciences at the University of Washington.\n",
      "Issued command:\n",
      "percolator -i 10 --default-direction MainScore --testFDR 0.01 --trainFDR 0.01 --weights KZ2022_C3N-02423.T.csnv.pXg.feat.weights --results-psms KZ2022_C3N-02423.T.csnv.pXg.feat.target.psm --decoy-results-psms KZ2022_C3N-02423.T.csnv.pXg.feat.decoy.psm -P XXX_ -Y -U KZ2022_C3N-02423.T.csnv.pXg.feat.pin\n",
      "Started Mon Jan  1 01:58:15 2024\n",
      "Hyperparameters: selectionFdr=0.01, Cpos=0, Cneg=0, maxNiter=10\n",
      "Reading tab-delimited input from datafile KZ2022_C3N-02423.T.csnv.pXg.feat.pin\n",
      "Features:\n",
      "MainScore DeltaScore Log2Reads Log2MeanQScore abs(PPMError) SA abs(deltaRT) Charge2 Charge3 Charge4 \n",
      "Found 98989 PSMs\n",
      "Separate target and decoy search inputs detected, using target-decoy competition on Percolator scores.\n",
      "Train/test set contains 88949 positives and 10040 negatives, size ratio=8.85946 and pi0=1\n",
      "Selecting Cpos by cross-validation.\n",
      "Selecting Cneg by cross-validation.\n",
      "Found 37048 test set positives with q<0.01 in initial direction\n",
      "Reading in data and feature calculation took 0.3000 cpu seconds or 0 seconds wall clock time.\n",
      "---Training with Cpos selected by cross validation, Cneg selected by cross validation, initial_fdr=0.01, fdr=0.01\n",
      "Iteration 1:\tEstimated 53807 PSMs with q<0.01\n",
      "Iteration 2:\tEstimated 57849 PSMs with q<0.01\n",
      "Iteration 3:\tEstimated 58694 PSMs with q<0.01\n",
      "Iteration 4:\tEstimated 58904 PSMs with q<0.01\n",
      "Iteration 5:\tEstimated 58904 PSMs with q<0.01\n",
      "Iteration 6:\tEstimated 58832 PSMs with q<0.01\n",
      "Iteration 7:\tEstimated 58806 PSMs with q<0.01\n",
      "Iteration 8:\tEstimated 58825 PSMs with q<0.01\n",
      "Iteration 9:\tEstimated 58838 PSMs with q<0.01\n",
      "Iteration 10:\tEstimated 58829 PSMs with q<0.01\n",
      "Learned normalized SVM weights for the 3 cross-validation splits:\n",
      " Split1\t Split2\t Split3\tFeatureName\n",
      " 0.8624\t 0.7214\t 0.7122\tMainScore\n",
      "-0.5562\t-0.5230\t-0.5184\tDeltaScore\n",
      " 1.4154\t 1.3881\t 1.3880\tLog2Reads\n",
      " 0.0360\t 0.0201\t 0.0081\tLog2MeanQScore\n",
      " 0.0029\t-0.0215\t-0.0537\tabs(PPMError)\n",
      " 0.1658\t 0.1365\t 0.1183\tSA\n",
      " 0.0209\t-0.1486\t-0.0041\tabs(deltaRT)\n",
      " 0.1359\t 0.1008\t 0.0925\tCharge2\n",
      " 0.1989\t 0.2021\t 0.1547\tCharge3\n",
      " 0.0575\t 0.0568\t 0.0517\tCharge4\n",
      " 0.2432\t 0.1772\t 0.1715\tm0\n",
      "Found 58622 test set PSMs with q<0.01.\n",
      "Selected best-scoring PSM per scan+expMass (target-decoy competition): 49221 target PSMs and 1838 decoy PSMs.\n",
      "Calculating q values.\n",
      "Final list yields 45964 target PSMs with q<0.01.\n",
      "Calculating posterior error probabilities (PEPs).\n",
      "Processing took 13.4376 cpu seconds or 14 seconds wall clock time.\n"
     ]
    },
    {
     "name": "stdout",
     "output_type": "stream",
     "text": [
      "run percolator: VY2021_C3L-02549.T.csnv.pXg.feat.pin\n"
     ]
    },
    {
     "name": "stderr",
     "output_type": "stream",
     "text": [
      "Protein decoy-prefix used is XXX_\n",
      "All files have been read\n",
      "Percolator version 3.06.1, Build Date Jun 15 2023 15:03:57\n",
      "Copyright (c) 2006-9 University of Washington. All rights reserved.\n",
      "Written by Lukas Käll (lukall@u.washington.edu) in the\n",
      "Department of Genome Sciences at the University of Washington.\n",
      "Issued command:\n",
      "percolator -i 10 --default-direction MainScore --testFDR 0.01 --trainFDR 0.01 --weights VY2021_C3L-02549.T.csnv.pXg.feat.weights --results-psms VY2021_C3L-02549.T.csnv.pXg.feat.target.psm --decoy-results-psms VY2021_C3L-02549.T.csnv.pXg.feat.decoy.psm -P XXX_ -Y -U VY2021_C3L-02549.T.csnv.pXg.feat.pin\n",
      "Started Mon Jan  1 01:58:29 2024\n",
      "Hyperparameters: selectionFdr=0.01, Cpos=0, Cneg=0, maxNiter=10\n",
      "Reading tab-delimited input from datafile VY2021_C3L-02549.T.csnv.pXg.feat.pin\n",
      "Features:\n",
      "MainScore DeltaScore Log2Reads Log2MeanQScore abs(PPMError) SA abs(deltaRT) Charge2 Charge3 Charge4 \n",
      "Found 63245 PSMs\n",
      "Separate target and decoy search inputs detected, using target-decoy competition on Percolator scores.\n",
      "Train/test set contains 56253 positives and 6992 negatives, size ratio=8.04534 and pi0=1\n",
      "Selecting Cpos by cross-validation.\n",
      "Selecting Cneg by cross-validation.\n",
      "Found 20039 test set positives with q<0.01 in initial direction\n",
      "Reading in data and feature calculation took 0.1827 cpu seconds or 0 seconds wall clock time.\n",
      "---Training with Cpos selected by cross validation, Cneg selected by cross validation, initial_fdr=0.01, fdr=0.01\n",
      "Iteration 1:\tEstimated 25813 PSMs with q<0.01\n",
      "Iteration 2:\tEstimated 26644 PSMs with q<0.01\n",
      "Iteration 3:\tEstimated 26845 PSMs with q<0.01\n",
      "Iteration 4:\tEstimated 26903 PSMs with q<0.01\n",
      "Iteration 5:\tEstimated 26899 PSMs with q<0.01\n",
      "Iteration 6:\tEstimated 26890 PSMs with q<0.01\n",
      "Iteration 7:\tEstimated 26868 PSMs with q<0.01\n",
      "Iteration 8:\tEstimated 26864 PSMs with q<0.01\n",
      "Iteration 9:\tEstimated 26866 PSMs with q<0.01\n",
      "Iteration 10:\tEstimated 26854 PSMs with q<0.01\n",
      "Learned normalized SVM weights for the 3 cross-validation splits:\n",
      " Split1\t Split2\t Split3\tFeatureName\n",
      " 1.4652\t 1.2886\t 1.5079\tMainScore\n",
      "-0.4812\t-0.5135\t-0.4435\tDeltaScore\n",
      " 1.3018\t 1.0943\t 1.1751\tLog2Reads\n",
      " 0.0183\t 0.0992\t 0.1594\tLog2MeanQScore\n",
      "-0.2686\t-0.6802\t-0.4732\tabs(PPMError)\n",
      " 0.2614\t 0.3087\t 0.4138\tSA\n",
      "-0.7198\t-0.5850\t-0.5091\tabs(deltaRT)\n",
      "-0.0906\t-0.0873\t-0.0845\tCharge2\n",
      " 0.0804\t 0.0816\t 0.0739\tCharge3\n",
      " 0.0934\t 0.0536\t 0.0953\tCharge4\n",
      "-1.3653\t-1.5042\t-1.4965\tm0\n",
      "Found 26823 test set PSMs with q<0.01.\n",
      "Selected best-scoring PSM per scan+expMass (target-decoy competition): 30033 target PSMs and 2437 decoy PSMs.\n",
      "Calculating q values.\n",
      "Final list yields 23183 target PSMs with q<0.01.\n",
      "Calculating posterior error probabilities (PEPs).\n",
      "Processing took 8.0727 cpu seconds or 8 seconds wall clock time.\n"
     ]
    },
    {
     "name": "stdout",
     "output_type": "stream",
     "text": [
      "run percolator: KZ2022_C3N-01488.T.PEAKS11.pXg.feat.pin\n"
     ]
    },
    {
     "name": "stderr",
     "output_type": "stream",
     "text": [
      "Protein decoy-prefix used is XXX_\n",
      "All files have been read\n",
      "Percolator version 3.06.1, Build Date Jun 15 2023 15:03:57\n",
      "Copyright (c) 2006-9 University of Washington. All rights reserved.\n",
      "Written by Lukas Käll (lukall@u.washington.edu) in the\n",
      "Department of Genome Sciences at the University of Washington.\n",
      "Issued command:\n",
      "percolator -i 10 --default-direction MainScore --testFDR 0.01 --trainFDR 0.01 --weights KZ2022_C3N-01488.T.PEAKS11.pXg.feat.weights --results-psms KZ2022_C3N-01488.T.PEAKS11.pXg.feat.target.psm --decoy-results-psms KZ2022_C3N-01488.T.PEAKS11.pXg.feat.decoy.psm -P XXX_ -Y -U KZ2022_C3N-01488.T.PEAKS11.pXg.feat.pin\n",
      "Started Mon Jan  1 01:58:38 2024\n",
      "Hyperparameters: selectionFdr=0.01, Cpos=0, Cneg=0, maxNiter=10\n",
      "Reading tab-delimited input from datafile KZ2022_C3N-01488.T.PEAKS11.pXg.feat.pin\n",
      "Features:\n",
      "MainScore DeltaScore Log2Reads Log2MeanQScore abs(PPMError) SA abs(deltaRT) Charge2 Charge3 Charge4 \n",
      "Found 84320 PSMs\n",
      "Separate target and decoy search inputs detected, using target-decoy competition on Percolator scores.\n",
      "Train/test set contains 77063 positives and 7257 negatives, size ratio=10.6191 and pi0=1\n",
      "Selecting Cpos by cross-validation.\n",
      "Selecting Cneg by cross-validation.\n",
      "Found 15955 test set positives with q<0.01 in initial direction\n",
      "Reading in data and feature calculation took 0.2262 cpu seconds or 0 seconds wall clock time.\n",
      "---Training with Cpos selected by cross validation, Cneg selected by cross validation, initial_fdr=0.01, fdr=0.01\n",
      "Iteration 1:\tEstimated 35751 PSMs with q<0.01\n",
      "Iteration 2:\tEstimated 49202 PSMs with q<0.01\n",
      "Iteration 3:\tEstimated 50998 PSMs with q<0.01\n",
      "Iteration 4:\tEstimated 51223 PSMs with q<0.01\n",
      "Iteration 5:\tEstimated 51300 PSMs with q<0.01\n",
      "Iteration 6:\tEstimated 51270 PSMs with q<0.01\n",
      "Iteration 7:\tEstimated 51275 PSMs with q<0.01\n",
      "Iteration 8:\tEstimated 51249 PSMs with q<0.01\n",
      "Iteration 9:\tEstimated 51257 PSMs with q<0.01\n",
      "Iteration 10:\tEstimated 51253 PSMs with q<0.01\n",
      "Learned normalized SVM weights for the 3 cross-validation splits:\n",
      " Split1\t Split2\t Split3\tFeatureName\n",
      " 0.2632\t 0.2327\t 0.2541\tMainScore\n",
      "-0.7938\t-0.7949\t-0.8579\tDeltaScore\n",
      " 1.2012\t 1.2140\t 1.2440\tLog2Reads\n",
      " 0.0769\t 0.0333\t 0.0414\tLog2MeanQScore\n",
      " 0.0021\t-0.0310\t-0.0482\tabs(PPMError)\n",
      " 0.5206\t 0.4581\t 0.4255\tSA\n",
      "-0.5196\t-0.1645\t-0.0492\tabs(deltaRT)\n",
      " 0.0162\t 0.0499\t 0.0156\tCharge2\n",
      " 0.1805\t 0.1450\t 0.1408\tCharge3\n",
      " 0.1288\t 0.1474\t 0.1406\tCharge4\n",
      " 0.0203\t 0.0937\t 0.1160\tm0\n",
      "Found 51092 test set PSMs with q<0.01.\n",
      "Selected best-scoring PSM per scan+expMass (target-decoy competition): 41655 target PSMs and 1314 decoy PSMs.\n",
      "Calculating q values.\n",
      "Final list yields 40111 target PSMs with q<0.01.\n",
      "Calculating posterior error probabilities (PEPs).\n",
      "Processing took 12.9941 cpu seconds or 13 seconds wall clock time.\n"
     ]
    },
    {
     "name": "stdout",
     "output_type": "stream",
     "text": [
      "run percolator: VY2021_C3N-01016.T.PEAKS11.pXg.feat.pin\n"
     ]
    },
    {
     "name": "stderr",
     "output_type": "stream",
     "text": [
      "Protein decoy-prefix used is XXX_\n",
      "All files have been read\n",
      "Percolator version 3.06.1, Build Date Jun 15 2023 15:03:57\n",
      "Copyright (c) 2006-9 University of Washington. All rights reserved.\n",
      "Written by Lukas Käll (lukall@u.washington.edu) in the\n",
      "Department of Genome Sciences at the University of Washington.\n",
      "Issued command:\n",
      "percolator -i 10 --default-direction MainScore --testFDR 0.01 --trainFDR 0.01 --weights VY2021_C3N-01016.T.PEAKS11.pXg.feat.weights --results-psms VY2021_C3N-01016.T.PEAKS11.pXg.feat.target.psm --decoy-results-psms VY2021_C3N-01016.T.PEAKS11.pXg.feat.decoy.psm -P XXX_ -Y -U VY2021_C3N-01016.T.PEAKS11.pXg.feat.pin\n",
      "Started Mon Jan  1 01:58:51 2024\n",
      "Hyperparameters: selectionFdr=0.01, Cpos=0, Cneg=0, maxNiter=10\n",
      "Reading tab-delimited input from datafile VY2021_C3N-01016.T.PEAKS11.pXg.feat.pin\n",
      "Features:\n",
      "MainScore DeltaScore Log2Reads Log2MeanQScore abs(PPMError) SA abs(deltaRT) Charge2 Charge3 Charge4 \n",
      "Found 40950 PSMs\n",
      "Separate target and decoy search inputs detected, using target-decoy competition on Percolator scores.\n",
      "Train/test set contains 36922 positives and 4028 negatives, size ratio=9.16634 and pi0=1\n",
      "Selecting Cpos by cross-validation.\n",
      "Selecting Cneg by cross-validation.\n",
      "Found 5938 test set positives with q<0.01 in initial direction\n",
      "Reading in data and feature calculation took 0.1070 cpu seconds or 0 seconds wall clock time.\n",
      "---Training with Cpos selected by cross validation, Cneg selected by cross validation, initial_fdr=0.01, fdr=0.01\n",
      "Iteration 1:\tEstimated 13654 PSMs with q<0.01\n",
      "Iteration 2:\tEstimated 18322 PSMs with q<0.01\n",
      "Iteration 3:\tEstimated 21275 PSMs with q<0.01\n",
      "Iteration 4:\tEstimated 22269 PSMs with q<0.01\n",
      "Iteration 5:\tEstimated 22453 PSMs with q<0.01\n",
      "Iteration 6:\tEstimated 22529 PSMs with q<0.01\n",
      "Iteration 7:\tEstimated 22562 PSMs with q<0.01\n",
      "Iteration 8:\tEstimated 22547 PSMs with q<0.01\n",
      "Iteration 9:\tEstimated 22550 PSMs with q<0.01\n",
      "Iteration 10:\tEstimated 22554 PSMs with q<0.01\n",
      "Learned normalized SVM weights for the 3 cross-validation splits:\n",
      " Split1\t Split2\t Split3\tFeatureName\n",
      " 0.3298\t 0.3278\t 0.3608\tMainScore\n",
      "-1.0187\t-0.9150\t-0.8548\tDeltaScore\n",
      " 0.9475\t 0.9268\t 0.8631\tLog2Reads\n",
      "-0.0488\t 0.1353\t 0.1274\tLog2MeanQScore\n",
      " 0.0262\t-0.0535\t-0.0090\tabs(PPMError)\n",
      " 0.6086\t 0.5404\t 0.5611\tSA\n",
      "-0.6714\t-0.9189\t-0.7948\tabs(deltaRT)\n",
      "-1.3548\t-0.1585\t-1.2298\tCharge2\n",
      "-1.1417\t 0.1094\t-0.9632\tCharge3\n",
      " 0.0500\t 0.2282\t 0.0562\tCharge4\n",
      "-0.7628\t-0.8857\t-0.8574\tm0\n",
      "Found 22326 test set PSMs with q<0.01.\n",
      "Selected best-scoring PSM per scan+expMass (target-decoy competition): 20198 target PSMs and 1129 decoy PSMs.\n",
      "Calculating q values.\n",
      "Final list yields 18070 target PSMs with q<0.01.\n",
      "Calculating posterior error probabilities (PEPs).\n",
      "Processing took 7.6983 cpu seconds or 8 seconds wall clock time.\n",
      "Protein decoy-prefix used is XXX_\n",
      "All files have been read\n",
      "Percolator version 3.06.1, Build Date Jun 15 2023 15:03:57\n",
      "Copyright (c) 2006-9 University of Washington. All rights reserved.\n",
      "Written by Lukas Käll (lukall@u.washington.edu) in the\n",
      "Department of Genome Sciences at the University of Washington.\n",
      "Issued command:\n",
      "percolator -i 10 --default-direction MainScore --testFDR 0.01 --trainFDR 0.01 --weights KZ2022_C3N-02423.T.PEAKS11.pXg.feat.weights --results-psms KZ2022_C3N-02423.T.PEAKS11.pXg.feat.target.psm --decoy-results-psms KZ2022_C3N-02423.T.PEAKS11.pXg.feat.decoy.psm -P XXX_ -Y -U KZ2022_C3N-02423.T.PEAKS11.pXg.feat.pin\n",
      "Started Mon Jan  1 01:58:59 2024\n",
      "Hyperparameters: selectionFdr=0.01, Cpos=0, Cneg=0, maxNiter=10\n",
      "Reading tab-delimited input from datafile KZ2022_C3N-02423.T.PEAKS11.pXg.feat.pin\n",
      "Features:\n",
      "MainScore DeltaScore Log2Reads Log2MeanQScore abs(PPMError) SA abs(deltaRT) Charge2 Charge3 Charge4 \n"
     ]
    },
    {
     "name": "stdout",
     "output_type": "stream",
     "text": [
      "run percolator: KZ2022_C3N-02423.T.PEAKS11.pXg.feat.pin\n"
     ]
    },
    {
     "name": "stderr",
     "output_type": "stream",
     "text": [
      "Found 66460 PSMs\n",
      "Separate target and decoy search inputs detected, using target-decoy competition on Percolator scores.\n",
      "Train/test set contains 58514 positives and 7946 negatives, size ratio=7.36396 and pi0=1\n",
      "Selecting Cpos by cross-validation.\n",
      "Selecting Cneg by cross-validation.\n",
      "Found 1584 test set positives with q<0.01 in initial direction\n",
      "Reading in data and feature calculation took 0.1791 cpu seconds or 0 seconds wall clock time.\n",
      "---Training with Cpos selected by cross validation, Cneg selected by cross validation, initial_fdr=0.01, fdr=0.01\n",
      "Iteration 1:\tEstimated 19936 PSMs with q<0.01\n",
      "Iteration 2:\tEstimated 30499 PSMs with q<0.01\n",
      "Iteration 3:\tEstimated 33834 PSMs with q<0.01\n",
      "Iteration 4:\tEstimated 34361 PSMs with q<0.01\n",
      "Iteration 5:\tEstimated 34659 PSMs with q<0.01\n",
      "Iteration 6:\tEstimated 34899 PSMs with q<0.01\n",
      "Iteration 7:\tEstimated 34976 PSMs with q<0.01\n",
      "Iteration 8:\tEstimated 35014 PSMs with q<0.01\n",
      "Iteration 9:\tEstimated 35041 PSMs with q<0.01\n",
      "Iteration 10:\tEstimated 35052 PSMs with q<0.01\n",
      "Learned normalized SVM weights for the 3 cross-validation splits:\n",
      " Split1\t Split2\t Split3\tFeatureName\n",
      " 0.2232\t 0.2465\t 0.2099\tMainScore\n",
      "-0.7022\t-0.7588\t-0.7467\tDeltaScore\n",
      " 1.3823\t 1.4704\t 1.4983\tLog2Reads\n",
      "-0.0428\t-0.0221\t-0.0052\tLog2MeanQScore\n",
      " 0.0228\t 0.0017\t 0.0224\tabs(PPMError)\n",
      " 0.4607\t 0.3405\t 0.3561\tSA\n",
      "-0.7856\t-0.2374\t-0.0793\tabs(deltaRT)\n",
      " 0.0712\t 0.0557\t 0.0838\tCharge2\n",
      " 0.1839\t 0.1734\t 0.1774\tCharge3\n",
      " 0.0285\t 0.0291\t 0.0267\tCharge4\n",
      "-0.3932\t-0.1442\t-0.1317\tm0\n",
      "Found 34801 test set PSMs with q<0.01.\n",
      "Selected best-scoring PSM per scan+expMass (target-decoy competition): 31408 target PSMs and 1794 decoy PSMs.\n",
      "Calculating q values.\n",
      "Final list yields 28404 target PSMs with q<0.01.\n",
      "Calculating posterior error probabilities (PEPs).\n",
      "Processing took 9.2159 cpu seconds or 10 seconds wall clock time.\n"
     ]
    }
   ],
   "source": [
    "os.chdir(\"/Users/gistar/Documents/ZhangLab/2023_Immunopeptidomics_LUAD/Test/4sample_test_pin\")\n",
    "\n",
    "current_directory = os.getcwd()\n",
    "\n",
    "\n",
    "for file_name in os.listdir(current_directory):\n",
    "    if not file_name.endswith(\".pin\"):\n",
    "        continue\n",
    "    \n",
    "    input_name = file_name\n",
    "    print(\"run percolator: \" + input_name)\n",
    "\n",
    "    file_name_without_extension, extension = os.path.splitext(file_name)\n",
    "    \n",
    "    p_target_psm = file_name_without_extension+\".target.psm\"\n",
    "    p_decoy_psm = file_name_without_extension+\".decoy.psm\"\n",
    "    p_weights = file_name_without_extension+\".weights\"\n",
    "    os.system(\"percolator -i 10 --default-direction MainScore --testFDR 0.01 --trainFDR 0.01 --weights \"+p_weights+\" --results-psms \"+p_target_psm+\" --decoy-results-psms \"+p_decoy_psm+ \" -P XXX_ -Y -U \" +input_name +\" > out\")\n",
    "\n"
   ]
  },
  {
   "cell_type": "code",
   "execution_count": null,
   "id": "2c8e721a",
   "metadata": {},
   "outputs": [],
   "source": []
  }
 ],
 "metadata": {
  "kernelspec": {
   "display_name": "Python 3 (ipykernel)",
   "language": "python",
   "name": "python3"
  },
  "language_info": {
   "codemirror_mode": {
    "name": "ipython",
    "version": 3
   },
   "file_extension": ".py",
   "mimetype": "text/x-python",
   "name": "python",
   "nbconvert_exporter": "python",
   "pygments_lexer": "ipython3",
   "version": "3.9.17"
  }
 },
 "nbformat": 4,
 "nbformat_minor": 5
}
