{
 "cells": [
  {
   "cell_type": "code",
   "execution_count": 2,
   "id": "7154916b",
   "metadata": {},
   "outputs": [],
   "source": [
    "import pandas as pd\n",
    "import math\n",
    "import numpy as np\n",
    "import os\n",
    "## Set working directory\n",
    "os.chdir(\"/Users/gistar/projects/GastricCancer_NCC/pXg\")\n"
   ]
  },
  {
   "cell_type": "code",
   "execution_count": 4,
   "id": "0e5fd9f9",
   "metadata": {},
   "outputs": [],
   "source": [
    "###### POST-PROCESSING #########\n",
    "sample_names = ['DI2T', 'DI5T', 'IN19T', \n",
    "                'IN26T', 'IN81T', 'R1_IN403T', 'R2_IN403T',\n",
    "                'IN407T', 'IN506T', 'IN524T', \n",
    "                'IN525T', 'IN526T', 'IN529T', \n",
    "                'R1_IN532T', 'R2_IN532T',\n",
    "                'M004T', 'M009T']\n",
    "sample_hla_types = ['HLA-A24:02,HLA-A26:01,HLA-B07:02,HLA-B15:11,HLA-C07:02,HLA-C03:03',\n",
    "                    'HLA-A11:01,HLA-A03:01,HLA-B07:02,HLA-B15:01,HLA-C07:02,HLA-C04:01',\n",
    "                    'HLA-A24:02,HLA-A30:01,HLA-B13:02,HLA-B54:01,HLA-C01:02,HLA-C06:02',\n",
    "                    'HLA-A02:07,HLA-A01:01,HLA-B13:02,HLA-B57:01,HLA-C06:02',\n",
    "                    'HLA-A24:02,HLA-A02:01,HLA-B15:18,HLA-B54:01,HLA-C01:02',\n",
    "                    'HLA-A33:03,HLA-A30:01,HLA-B15:11,HLA-B13:02,HLA-C03:03,HLA-C06:02',\n",
    "                    'HLA-A33:03,HLA-A30:01,HLA-B15:11,HLA-B13:02,HLA-C03:03,HLA-C06:02',\n",
    "                    'HLA-A24:02,HLA-A02:06,HLA-B38:02,HLA-B15:01,HLA-C07:02,HLA-C03:03',\n",
    "                    'HLA-A24:02,HLA-A03:01,HLA-B13:02,HLA-B52:01,HLA-C06:02,HLA-C12:02',\n",
    "                    'HLA-A24:02,HLA-A30:04,HLA-B55:02,HLA-B14:01,HLA-C08:02,HLA-C03:03',\n",
    "                    'HLA-A24:02,,HLA-B07:02,HLA-B54:01,HLA-C07:02,HLA-C01:02',\n",
    "                    'HLA-A29:01,HLA-A33:03,HLA-B07:05,HLA-B58:01,HLA-C15:05,HLA-C03:02',\n",
    "                    'HLA-A31:01,HLA-A11:01,HLA-B27:04,HLA-B51:01,HLA-C15:02,HLA-C08:01',\n",
    "                    'HLA-A02:03,HLA-A31:01,HLA-B38:02,HLA-B46:01,HLA-C07:02,HLA-C01:02',\n",
    "                    'HLA-A02:03,HLA-A31:01,HLA-B38:02,HLA-B46:01,HLA-C07:02,HLA-C01:02',\n",
    "                    'HLA-A24:02,HLA-A11:01,HLA-B40:01,HLA-B40:02,HLA-C03:03,HLA-C03:04',\n",
    "                    'HLA-A11:01,HLA-A31:01,HLA-B51:01,HLA-B59:01,HLA-C15:02,HLA-C01:02']\n",
    "select = [True, True, True,\n",
    "         True, True, True,True,\n",
    "         True, True, True,\n",
    "         True, True, True,\n",
    "         True, True,\n",
    "         True, True]\n"
   ]
  },
  {
   "cell_type": "code",
   "execution_count": 8,
   "id": "751e187a",
   "metadata": {},
   "outputs": [
    {
     "name": "stdout",
     "output_type": "stream",
     "text": [
      "curl -F \"peptides=@DI2T.input.prosit\" http://166.104.112.60:5000/predict/msp > DI2T.msp\n"
     ]
    },
    {
     "name": "stderr",
     "output_type": "stream",
     "text": [
      "  % Total    % Received % Xferd  Average Speed   Time    Time     Time  Current\n",
      "                                 Dload  Upload   Total   Spent    Left  Speed\n",
      "100 8989k  100 8822k  100  167k   252k   4915  0:00:34  0:00:34 --:--:-- 1910k\n",
      "  % Total    % Received % Xferd  Average Speed   Time    Time     Time  Current\n",
      "                                 Dload  Upload   Total   Spent    Left  Speed\n",
      "  0     0    0     0    0     0      0      0 --:--:-- --:--:-- --:--:--     0"
     ]
    },
    {
     "name": "stdout",
     "output_type": "stream",
     "text": [
      "curl -F \"peptides=@DI5T.input.prosit\" http://166.104.112.60:5000/predict/msp > DI5T.msp\n"
     ]
    },
    {
     "name": "stderr",
     "output_type": "stream",
     "text": [
      "100 10.2M  100 10.0M  100  196k   255k   4961  0:00:40  0:00:40 --:--:-- 2532k\n",
      "  % Total    % Received % Xferd  Average Speed   Time    Time     Time  Current\n",
      "                                 Dload  Upload   Total   Spent    Left  Speed\n",
      "  0     0    0     0    0     0      0      0 --:--:-- --:--:-- --:--:--     0"
     ]
    },
    {
     "name": "stdout",
     "output_type": "stream",
     "text": [
      "curl -F \"peptides=@IN19T.input.prosit\" http://166.104.112.60:5000/predict/msp > IN19T.msp\n"
     ]
    },
    {
     "name": "stderr",
     "output_type": "stream",
     "text": [
      "100 9142k  100 8971k  100  171k   255k   4984  0:00:35  0:00:35 --:--:-- 2351k\n",
      "  % Total    % Received % Xferd  Average Speed   Time    Time     Time  Current\n",
      "                                 Dload  Upload   Total   Spent    Left  Speed\n",
      "  0     0    0     0    0     0      0      0 --:--:-- --:--:-- --:--:--     0"
     ]
    },
    {
     "name": "stdout",
     "output_type": "stream",
     "text": [
      "curl -F \"peptides=@IN26T.input.prosit\" http://166.104.112.60:5000/predict/msp > IN26T.msp\n"
     ]
    },
    {
     "name": "stderr",
     "output_type": "stream",
     "text": [
      "100 7850k  100 7706k  100  144k   258k   4966  0:00:29  0:00:29 --:--:-- 2176k\n",
      "  % Total    % Received % Xferd  Average Speed   Time    Time     Time  Current\n",
      "                                 Dload  Upload   Total   Spent    Left  Speed\n",
      "  0     0    0     0    0     0      0      0 --:--:-- --:--:-- --:--:--     0"
     ]
    },
    {
     "name": "stdout",
     "output_type": "stream",
     "text": [
      "curl -F \"peptides=@IN81T.input.prosit\" http://166.104.112.60:5000/predict/msp > IN81T.msp\n"
     ]
    },
    {
     "name": "stderr",
     "output_type": "stream",
     "text": [
      "100 11.8M  100 11.6M  100  227k   260k   5077  0:00:45  0:00:45 --:--:-- 3510k\n",
      "  % Total    % Received % Xferd  Average Speed   Time    Time     Time  Current\n",
      "                                 Dload  Upload   Total   Spent    Left  Speed\n",
      "  0     0    0     0    0     0      0      0 --:--:-- --:--:-- --:--:--     0"
     ]
    },
    {
     "name": "stdout",
     "output_type": "stream",
     "text": [
      "curl -F \"peptides=@R1_IN403T.input.prosit\" http://166.104.112.60:5000/predict/msp > R1_IN403T.msp\n"
     ]
    },
    {
     "name": "stderr",
     "output_type": "stream",
     "text": [
      "100 3748k  100 3676k  100 73708   250k   5026  0:00:14  0:00:14 --:--:--  829k\n",
      "  % Total    % Received % Xferd  Average Speed   Time    Time     Time  Current\n",
      "                                 Dload  Upload   Total   Spent    Left  Speed\n",
      "  0     0    0     0    0     0      0      0 --:--:-- --:--:-- --:--:--     0"
     ]
    },
    {
     "name": "stdout",
     "output_type": "stream",
     "text": [
      "curl -F \"peptides=@R2_IN403T.input.prosit\" http://166.104.112.60:5000/predict/msp > R2_IN403T.msp\n"
     ]
    },
    {
     "name": "stderr",
     "output_type": "stream",
     "text": [
      "100 3769k  100 3697k  100 73762   249k   4971  0:00:14  0:00:14 --:--:--  818k\n",
      "  % Total    % Received % Xferd  Average Speed   Time    Time     Time  Current\n",
      "                                 Dload  Upload   Total   Spent    Left  Speed\n",
      "  0     0    0     0    0     0      0      0 --:--:-- --:--:-- --:--:--     0"
     ]
    },
    {
     "name": "stdout",
     "output_type": "stream",
     "text": [
      "curl -F \"peptides=@IN407T.input.prosit\" http://166.104.112.60:5000/predict/msp > IN407T.msp\n"
     ]
    },
    {
     "name": "stderr",
     "output_type": "stream",
     "text": [
      "100 10.5M  100 10.3M  100  193k   265k   4984  0:00:39  0:00:39 --:--:-- 3028k\n",
      "  % Total    % Received % Xferd  Average Speed   Time    Time     Time  Current\n",
      "                                 Dload  Upload   Total   Spent    Left  Speed\n",
      "  0     0    0     0    0     0      0      0 --:--:-- --:--:-- --:--:--     0"
     ]
    },
    {
     "name": "stdout",
     "output_type": "stream",
     "text": [
      "curl -F \"peptides=@IN506T.input.prosit\" http://166.104.112.60:5000/predict/msp > IN506T.msp\n"
     ]
    },
    {
     "name": "stderr",
     "output_type": "stream",
     "text": [
      "100 5802k  100 5696k  100  105k   251k   4781  0:00:22  0:00:22 --:--:-- 1725k\n",
      "  % Total    % Received % Xferd  Average Speed   Time    Time     Time  Current\n",
      "                                 Dload  Upload   Total   Spent    Left  Speed\n",
      "  0     0    0     0    0     0      0      0 --:--:-- --:--:-- --:--:--     0"
     ]
    },
    {
     "name": "stdout",
     "output_type": "stream",
     "text": [
      "curl -F \"peptides=@IN524T.input.prosit\" http://166.104.112.60:5000/predict/msp > IN524T.msp\n"
     ]
    },
    {
     "name": "stderr",
     "output_type": "stream",
     "text": [
      "100 7410k  100 7277k  100  133k   258k   4844  0:00:28  0:00:28 --:--:-- 1871k\n",
      "  % Total    % Received % Xferd  Average Speed   Time    Time     Time  Current\n",
      "                                 Dload  Upload   Total   Spent    Left  Speed\n",
      "  0     0    0     0    0     0      0      0 --:--:-- --:--:-- --:--:--     0"
     ]
    },
    {
     "name": "stdout",
     "output_type": "stream",
     "text": [
      "curl -F \"peptides=@IN525T.input.prosit\" http://166.104.112.60:5000/predict/msp > IN525T.msp\n"
     ]
    },
    {
     "name": "stderr",
     "output_type": "stream",
     "text": [
      "100 10.3M  100 10.1M  100  199k   254k   5027  0:00:40  0:00:40 --:--:-- 3070k\n",
      "  % Total    % Received % Xferd  Average Speed   Time    Time     Time  Current\n",
      "                                 Dload  Upload   Total   Spent    Left  Speed\n",
      "  0     0    0     0    0     0      0      0 --:--:-- --:--:-- --:--:--     0"
     ]
    },
    {
     "name": "stdout",
     "output_type": "stream",
     "text": [
      "curl -F \"peptides=@IN526T.input.prosit\" http://166.104.112.60:5000/predict/msp > IN526T.msp\n"
     ]
    },
    {
     "name": "stderr",
     "output_type": "stream",
     "text": [
      "100 2672k  100 2620k  100 52609   246k   4939  0:00:10  0:00:10 --:--:--  591k\n",
      "  % Total    % Received % Xferd  Average Speed   Time    Time     Time  Current\n",
      "                                 Dload  Upload   Total   Spent    Left  Speed\n",
      "  0     0    0     0    0     0      0      0 --:--:-- --:--:-- --:--:--     0"
     ]
    },
    {
     "name": "stdout",
     "output_type": "stream",
     "text": [
      "curl -F \"peptides=@IN529T.input.prosit\" http://166.104.112.60:5000/predict/msp > IN529T.msp\n"
     ]
    },
    {
     "name": "stderr",
     "output_type": "stream",
     "text": [
      "100 6443k  100 6326k  100  117k   254k   4847  0:00:24  0:00:24 --:--:-- 1410k\n",
      "  % Total    % Received % Xferd  Average Speed   Time    Time     Time  Current\n",
      "                                 Dload  Upload   Total   Spent    Left  Speed\n",
      "  0     0    0     0    0     0      0      0 --:--:-- --:--:-- --:--:--     0"
     ]
    },
    {
     "name": "stdout",
     "output_type": "stream",
     "text": [
      "curl -F \"peptides=@R1_IN532T.input.prosit\" http://166.104.112.60:5000/predict/msp > R1_IN532T.msp\n"
     ]
    },
    {
     "name": "stderr",
     "output_type": "stream",
     "text": [
      "100 1245k  100 1222k  100 23902   250k   4906  0:00:04  0:00:04 --:--:--  333k\n",
      "  % Total    % Received % Xferd  Average Speed   Time    Time     Time  Current\n",
      "                                 Dload  Upload   Total   Spent    Left  Speed\n",
      "  0     0    0     0    0     0      0      0 --:--:-- --:--:-- --:--:--     0"
     ]
    },
    {
     "name": "stdout",
     "output_type": "stream",
     "text": [
      "curl -F \"peptides=@R2_IN532T.input.prosit\" http://166.104.112.60:5000/predict/msp > R2_IN532T.msp\n"
     ]
    },
    {
     "name": "stderr",
     "output_type": "stream",
     "text": [
      "100 2509k  100 2461k  100 49243   242k   4860  0:00:10  0:00:10 --:--:--  644k\n",
      "  % Total    % Received % Xferd  Average Speed   Time    Time     Time  Current\n",
      "                                 Dload  Upload   Total   Spent    Left  Speed\n",
      "  0     0    0     0    0     0      0      0 --:--:-- --:--:-- --:--:--     0"
     ]
    },
    {
     "name": "stdout",
     "output_type": "stream",
     "text": [
      "curl -F \"peptides=@M004T.input.prosit\" http://166.104.112.60:5000/predict/msp > M004T.msp\n"
     ]
    },
    {
     "name": "stderr",
     "output_type": "stream",
     "text": [
      "100 6838k  100 6714k  100  124k   258k   4909  0:00:25  0:00:25 --:--:-- 1848k\n",
      "  % Total    % Received % Xferd  Average Speed   Time    Time     Time  Current\n",
      "                                 Dload  Upload   Total   Spent    Left  Speed\n",
      "  0     0    0     0    0     0      0      0 --:--:-- --:--:-- --:--:--     0"
     ]
    },
    {
     "name": "stdout",
     "output_type": "stream",
     "text": [
      "curl -F \"peptides=@M009T.input.prosit\" http://166.104.112.60:5000/predict/msp > M009T.msp\n"
     ]
    },
    {
     "name": "stderr",
     "output_type": "stream",
     "text": [
      "100 12.7M  100 12.5M  100  247k   259k   5125  0:00:49  0:00:49 --:--:-- 3212k\n"
     ]
    }
   ],
   "source": [
    "\n",
    "###### PROSIT ! ################\n",
    "###### Please check again: cs <=6, length <= 30 and proper amino acid sequence ####\n",
    "\n",
    "## Run configuration\n",
    "prosit_input_suffix = \".input.prosit\"\n",
    "prosit_server_ip = \"http://166.104.112.60:5000/predict/msp\"\n",
    "\n",
    "prosit_output_suffix = \".msp\"\n",
    "\n",
    "## input filrname\n",
    "for idx in range(len(sample_names)):\n",
    "    if(not select[idx]):\n",
    "        continue\n",
    "    \n",
    "    sample_name = sample_names[idx]\n",
    "    prosit_input_file = sample_name + prosit_input_suffix\n",
    "    prosit_output_file = sample_name + prosit_output_suffix\n",
    "    prosit_command = \"curl -F \\\"peptides=@\"+prosit_input_file+\"\\\" \"+prosit_server_ip+\" > \"+prosit_output_file;\n",
    "    \n",
    "    print(prosit_command)\n",
    "    \n",
    "    os.system(prosit_command)\n"
   ]
  },
  {
   "cell_type": "code",
   "execution_count": 5,
   "id": "72cd5a47",
   "metadata": {},
   "outputs": [
    {
     "name": "stdout",
     "output_type": "stream",
     "text": [
      "deeplc --file_pred DI2T.input.deeplc --file_cal DI2T.input.cal.deeplc --pygam_calibration --file_pred_out DI2T.deeplc\n",
      "2023-04-07 01:11:34 - INFO - Using DeepLC version 1.1.2\n",
      "2023-04-07 01:11:34 - INFO - Selecting best model and calibrating predictions...\n",
      "2023-04-07 01:11:34 - INFO - Going to predict retention times for this amount of identifiers: 2926\n",
      "1/1 [==============================] - 1s 791ms/step\n",
      "2023-04-07 01:11:40 - INFO - Going to predict retention times for this amount of identifiers: 2926\n",
      "2023-04-07 01:11:46 - INFO - Going to predict retention times for this amount of identifiers: 2926\n",
      "1/1 [==============================] - 0s 427ms/step\n",
      "2023-04-07 01:11:52 - INFO - Going to predict retention times for this amount of identifiers: 2926\n",
      "2023-04-07 01:11:57 - INFO - Going to predict retention times for this amount of identifiers: 2926\n",
      "1/1 [==============================] - 1s 531ms/step\n",
      "2023-04-07 01:12:02 - INFO - Going to predict retention times for this amount of identifiers: 2926\n",
      "2023-04-07 01:12:08 - INFO - Going to predict retention times for this amount of identifiers: 2926\n",
      "1/1 [==============================] - 1s 523ms/step\n",
      "2023-04-07 01:12:13 - INFO - Going to predict retention times for this amount of identifiers: 2926\n",
      "2023-04-07 01:12:18 - INFO - Making predictions using model: {'/Users/gistar/miniforge3/lib/python3.9/site-packages/deeplc/mods/full_hc_PXD005573_mcp_cb975cfdd4105f97efa0b3afffe075cc.hdf5': '/Users/gistar/miniforge3/lib/python3.9/site-packages/deeplc/mods/full_hc_PXD005573_mcp_cb975cfdd4105f97efa0b3afffe075cc.hdf5'}\n",
      "2023-04-07 01:12:18 - INFO - Going to predict retention times for this amount of identifiers: 11750\n",
      "2023-04-07 01:12:25 - INFO - Writing predictions to file: DI2T.deeplc\n",
      "2023-04-07 01:12:25 - INFO - DeepLC finished!\n",
      "deeplc --file_pred DI5T.input.deeplc --file_cal DI5T.input.cal.deeplc --pygam_calibration --file_pred_out DI5T.deeplc\n",
      "2023-04-07 01:12:28 - INFO - Using DeepLC version 1.1.2\n",
      "2023-04-07 01:12:28 - INFO - Selecting best model and calibrating predictions...\n",
      "2023-04-07 01:12:28 - INFO - Going to predict retention times for this amount of identifiers: 2748\n",
      "1/1 [==============================] - 1s 728ms/step\n",
      "2023-04-07 01:12:33 - INFO - Going to predict retention times for this amount of identifiers: 2748\n",
      "2023-04-07 01:12:39 - INFO - Going to predict retention times for this amount of identifiers: 2748\n",
      "1/1 [==============================] - 0s 382ms/step\n",
      "2023-04-07 01:12:44 - INFO - Going to predict retention times for this amount of identifiers: 2748\n",
      "2023-04-07 01:12:49 - INFO - Going to predict retention times for this amount of identifiers: 2748\n",
      "1/1 [==============================] - 0s 492ms/step\n",
      "2023-04-07 01:12:54 - INFO - Going to predict retention times for this amount of identifiers: 2748\n"
     ]
    },
    {
     "name": "stderr",
     "output_type": "stream",
     "text": [
      "dyld[35840]: Assertion failed: (this->magic == kMagic), function matchesPath, file Loader.cpp, line 154.\n",
      "\n"
     ]
    },
    {
     "name": "stdout",
     "output_type": "stream",
     "text": [
      "2023-04-07 01:13:00 - INFO - Going to predict retention times for this amount of identifiers: 2748\n",
      "1/1 [==============================] - 0s 492ms/step\n",
      "2023-04-07 01:13:06 - INFO - Going to predict retention times for this amount of identifiers: 2748\n",
      "2023-04-07 01:13:11 - INFO - Making predictions using model: {'/Users/gistar/miniforge3/lib/python3.9/site-packages/deeplc/mods/full_hc_PXD005573_mcp_cb975cfdd4105f97efa0b3afffe075cc.hdf5': '/Users/gistar/miniforge3/lib/python3.9/site-packages/deeplc/mods/full_hc_PXD005573_mcp_cb975cfdd4105f97efa0b3afffe075cc.hdf5'}\n",
      "2023-04-07 01:13:11 - INFO - Going to predict retention times for this amount of identifiers: 13795\n",
      "2023-04-07 01:13:18 - INFO - Writing predictions to file: DI5T.deeplc\n",
      "2023-04-07 01:13:18 - INFO - DeepLC finished!\n",
      "deeplc --file_pred IN19T.input.deeplc --file_cal IN19T.input.cal.deeplc --pygam_calibration --file_pred_out IN19T.deeplc\n",
      "2023-04-07 01:13:21 - INFO - Using DeepLC version 1.1.2\n",
      "2023-04-07 01:13:21 - INFO - Selecting best model and calibrating predictions...\n",
      "2023-04-07 01:13:21 - INFO - Going to predict retention times for this amount of identifiers: 2167\n",
      "1/1 [==============================] - 1s 643ms/step\n",
      "2023-04-07 01:13:27 - INFO - Going to predict retention times for this amount of identifiers: 2167\n",
      "2023-04-07 01:13:32 - INFO - Going to predict retention times for this amount of identifiers: 2167\n",
      "1/1 [==============================] - 0s 313ms/step\n",
      "2023-04-07 01:13:37 - INFO - Going to predict retention times for this amount of identifiers: 2167\n"
     ]
    },
    {
     "name": "stderr",
     "output_type": "stream",
     "text": [
      "dyld[35916]: Assertion failed: (this->magic == kMagic), function matchesPath, file Loader.cpp, line 154.\n",
      "\n"
     ]
    },
    {
     "name": "stdout",
     "output_type": "stream",
     "text": [
      "2023-04-07 01:13:42 - INFO - Going to predict retention times for this amount of identifiers: 2167\n",
      "1/1 [==============================] - 0s 431ms/step\n",
      "2023-04-07 01:13:47 - INFO - Going to predict retention times for this amount of identifiers: 2167\n",
      "2023-04-07 01:13:52 - INFO - Going to predict retention times for this amount of identifiers: 2167\n",
      "1/1 [==============================] - 0s 451ms/step\n",
      "2023-04-07 01:13:57 - INFO - Going to predict retention times for this amount of identifiers: 2167\n",
      "2023-04-07 01:14:02 - INFO - Making predictions using model: {'/Users/gistar/miniforge3/lib/python3.9/site-packages/deeplc/mods/full_hc_PXD005573_mcp_cb975cfdd4105f97efa0b3afffe075cc.hdf5': '/Users/gistar/miniforge3/lib/python3.9/site-packages/deeplc/mods/full_hc_PXD005573_mcp_cb975cfdd4105f97efa0b3afffe075cc.hdf5'}\n",
      "2023-04-07 01:14:02 - INFO - Going to predict retention times for this amount of identifiers: 12052\n",
      "2023-04-07 01:14:09 - INFO - Writing predictions to file: IN19T.deeplc\n",
      "2023-04-07 01:14:09 - INFO - DeepLC finished!\n",
      "deeplc --file_pred IN26T.input.deeplc --file_cal IN26T.input.cal.deeplc --pygam_calibration --file_pred_out IN26T.deeplc\n",
      "2023-04-07 01:14:12 - INFO - Using DeepLC version 1.1.2\n",
      "2023-04-07 01:14:12 - INFO - Selecting best model and calibrating predictions...\n",
      "2023-04-07 01:14:12 - INFO - Going to predict retention times for this amount of identifiers: 2917\n",
      "1/1 [==============================] - 1s 760ms/step\n",
      "2023-04-07 01:14:17 - INFO - Going to predict retention times for this amount of identifiers: 2917\n",
      "2023-04-07 01:14:23 - INFO - Going to predict retention times for this amount of identifiers: 2917\n",
      "1/1 [==============================] - 0s 394ms/step\n",
      "2023-04-07 01:14:28 - INFO - Going to predict retention times for this amount of identifiers: 2917\n",
      "2023-04-07 01:14:33 - INFO - Going to predict retention times for this amount of identifiers: 2917\n",
      "1/1 [==============================] - 1s 523ms/step\n",
      "2023-04-07 01:14:39 - INFO - Going to predict retention times for this amount of identifiers: 2917\n",
      "2023-04-07 01:14:45 - INFO - Going to predict retention times for this amount of identifiers: 2917\n",
      "1/1 [==============================] - 1s 533ms/step\n",
      "2023-04-07 01:14:51 - INFO - Going to predict retention times for this amount of identifiers: 2917\n",
      "2023-04-07 01:14:57 - INFO - Making predictions using model: {'/Users/gistar/miniforge3/lib/python3.9/site-packages/deeplc/mods/full_hc_PXD005573_mcp_cb975cfdd4105f97efa0b3afffe075cc.hdf5': '/Users/gistar/miniforge3/lib/python3.9/site-packages/deeplc/mods/full_hc_PXD005573_mcp_cb975cfdd4105f97efa0b3afffe075cc.hdf5'}\n",
      "2023-04-07 01:14:57 - INFO - Going to predict retention times for this amount of identifiers: 9984\n",
      "2023-04-07 01:15:04 - INFO - Writing predictions to file: IN26T.deeplc\n",
      "2023-04-07 01:15:04 - INFO - DeepLC finished!\n",
      "deeplc --file_pred IN81T.input.deeplc --file_cal IN81T.input.cal.deeplc --pygam_calibration --file_pred_out IN81T.deeplc\n",
      "2023-04-07 01:15:06 - INFO - Using DeepLC version 1.1.2\n",
      "2023-04-07 01:15:06 - INFO - Selecting best model and calibrating predictions...\n",
      "2023-04-07 01:15:06 - INFO - Going to predict retention times for this amount of identifiers: 3532\n",
      "1/1 [==============================] - 1s 948ms/step\n",
      "2023-04-07 01:15:12 - INFO - Going to predict retention times for this amount of identifiers: 3532\n",
      "2023-04-07 01:15:18 - INFO - Going to predict retention times for this amount of identifiers: 3532\n",
      "1/1 [==============================] - 0s 497ms/step\n",
      "2023-04-07 01:15:24 - INFO - Going to predict retention times for this amount of identifiers: 3532\n",
      "2023-04-07 01:15:29 - INFO - Going to predict retention times for this amount of identifiers: 3532\n",
      "1/1 [==============================] - 1s 647ms/step\n",
      "2023-04-07 01:15:35 - INFO - Going to predict retention times for this amount of identifiers: 3532\n",
      "2023-04-07 01:15:41 - INFO - Going to predict retention times for this amount of identifiers: 3532\n",
      "1/1 [==============================] - 1s 655ms/step\n",
      "2023-04-07 01:15:46 - INFO - Going to predict retention times for this amount of identifiers: 3532\n",
      "2023-04-07 01:15:52 - INFO - Making predictions using model: {'/Users/gistar/miniforge3/lib/python3.9/site-packages/deeplc/mods/full_hc_PXD005573_mcp_cb975cfdd4105f97efa0b3afffe075cc.hdf5': '/Users/gistar/miniforge3/lib/python3.9/site-packages/deeplc/mods/full_hc_PXD005573_mcp_cb975cfdd4105f97efa0b3afffe075cc.hdf5'}\n",
      "2023-04-07 01:15:52 - INFO - Going to predict retention times for this amount of identifiers: 15887\n",
      "2023-04-07 01:15:59 - INFO - Writing predictions to file: IN81T.deeplc\n",
      "2023-04-07 01:15:59 - INFO - DeepLC finished!\n",
      "deeplc --file_pred R1_IN403T.input.deeplc --file_cal R1_IN403T.input.cal.deeplc --pygam_calibration --file_pred_out R1_IN403T.deeplc\n",
      "2023-04-07 01:16:02 - INFO - Using DeepLC version 1.1.2\n",
      "2023-04-07 01:16:02 - INFO - Selecting best model and calibrating predictions...\n",
      "2023-04-07 01:16:02 - INFO - Going to predict retention times for this amount of identifiers: 1498\n",
      "1/1 [==============================] - 0s 458ms/step\n",
      "2023-04-07 01:16:07 - INFO - Going to predict retention times for this amount of identifiers: 1498\n",
      "2023-04-07 01:16:12 - INFO - Going to predict retention times for this amount of identifiers: 1498\n",
      "1/1 [==============================] - 0s 277ms/step\n",
      "2023-04-07 01:16:17 - INFO - Going to predict retention times for this amount of identifiers: 1498\n",
      "2023-04-07 01:16:22 - INFO - Going to predict retention times for this amount of identifiers: 1498\n",
      "1/1 [==============================] - 0s 336ms/step\n",
      "2023-04-07 01:16:28 - INFO - Going to predict retention times for this amount of identifiers: 1498\n",
      "2023-04-07 01:16:33 - INFO - Going to predict retention times for this amount of identifiers: 1498\n",
      "1/1 [==============================] - 0s 322ms/step\n",
      "2023-04-07 01:16:38 - INFO - Going to predict retention times for this amount of identifiers: 1498\n",
      "2023-04-07 01:16:43 - INFO - Making predictions using model: {'/Users/gistar/miniforge3/lib/python3.9/site-packages/deeplc/mods/full_hc_PXD005573_mcp_cb975cfdd4105f97efa0b3afffe075cc.hdf5': '/Users/gistar/miniforge3/lib/python3.9/site-packages/deeplc/mods/full_hc_PXD005573_mcp_cb975cfdd4105f97efa0b3afffe075cc.hdf5'}\n",
      "2023-04-07 01:16:43 - INFO - Going to predict retention times for this amount of identifiers: 4899\n"
     ]
    },
    {
     "name": "stderr",
     "output_type": "stream",
     "text": [
      "dyld[36256]: Assertion failed: (0), function deserialize, file ProcessAtlas.cpp, line 1981.\n",
      "\n"
     ]
    },
    {
     "name": "stdout",
     "output_type": "stream",
     "text": [
      "2023-04-07 01:16:49 - INFO - Writing predictions to file: R1_IN403T.deeplc\n",
      "2023-04-07 01:16:49 - INFO - DeepLC finished!\n",
      "deeplc --file_pred R2_IN403T.input.deeplc --file_cal R2_IN403T.input.cal.deeplc --pygam_calibration --file_pred_out R2_IN403T.deeplc\n",
      "2023-04-07 01:16:52 - INFO - Using DeepLC version 1.1.2\n",
      "2023-04-07 01:16:52 - INFO - Selecting best model and calibrating predictions...\n",
      "2023-04-07 01:16:52 - INFO - Going to predict retention times for this amount of identifiers: 1403\n",
      "1/1 [==============================] - 0s 434ms/step\n",
      "2023-04-07 01:16:57 - INFO - Going to predict retention times for this amount of identifiers: 1403\n",
      "2023-04-07 01:17:02 - INFO - Going to predict retention times for this amount of identifiers: 1403\n"
     ]
    },
    {
     "name": "stderr",
     "output_type": "stream",
     "text": [
      "dyld[36296]: Assertion failed: (0), function deserialize, file ProcessAtlas.cpp, line 1981.\n",
      "\n"
     ]
    },
    {
     "name": "stdout",
     "output_type": "stream",
     "text": [
      "1/1 [==============================] - 0s 261ms/step\n",
      "2023-04-07 01:17:08 - INFO - Going to predict retention times for this amount of identifiers: 1403\n",
      "2023-04-07 01:17:14 - INFO - Going to predict retention times for this amount of identifiers: 1403\n",
      "1/1 [==============================] - 0s 371ms/step\n",
      "2023-04-07 01:17:19 - INFO - Going to predict retention times for this amount of identifiers: 1403\n",
      "2023-04-07 01:17:24 - INFO - Going to predict retention times for this amount of identifiers: 1403\n",
      "1/1 [==============================] - 0s 311ms/step\n",
      "2023-04-07 01:17:31 - INFO - Going to predict retention times for this amount of identifiers: 1403\n",
      "2023-04-07 01:17:36 - INFO - Making predictions using model: {'/Users/gistar/miniforge3/lib/python3.9/site-packages/deeplc/mods/full_hc_PXD005573_mcp_cb975cfdd4105f97efa0b3afffe075cc.hdf5': '/Users/gistar/miniforge3/lib/python3.9/site-packages/deeplc/mods/full_hc_PXD005573_mcp_cb975cfdd4105f97efa0b3afffe075cc.hdf5'}\n",
      "2023-04-07 01:17:36 - INFO - Going to predict retention times for this amount of identifiers: 4928\n",
      "2023-04-07 01:17:42 - INFO - Writing predictions to file: R2_IN403T.deeplc\n",
      "2023-04-07 01:17:42 - INFO - DeepLC finished!\n",
      "deeplc --file_pred IN407T.input.deeplc --file_cal IN407T.input.cal.deeplc --pygam_calibration --file_pred_out IN407T.deeplc\n",
      "2023-04-07 01:17:45 - INFO - Using DeepLC version 1.1.2\n",
      "2023-04-07 01:17:45 - INFO - Selecting best model and calibrating predictions...\n",
      "2023-04-07 01:17:45 - INFO - Going to predict retention times for this amount of identifiers: 4404\n",
      "1/1 [==============================] - 1s 1s/step\n",
      "2023-04-07 01:17:52 - INFO - Going to predict retention times for this amount of identifiers: 4404\n",
      "2023-04-07 01:17:58 - INFO - Going to predict retention times for this amount of identifiers: 4404\n",
      "1/1 [==============================] - 1s 587ms/step\n",
      "2023-04-07 01:18:04 - INFO - Going to predict retention times for this amount of identifiers: 4404\n",
      "2023-04-07 01:18:09 - INFO - Going to predict retention times for this amount of identifiers: 4404\n",
      "1/1 [==============================] - 1s 725ms/step\n",
      "2023-04-07 01:18:15 - INFO - Going to predict retention times for this amount of identifiers: 4404\n",
      "2023-04-07 01:18:21 - INFO - Going to predict retention times for this amount of identifiers: 4404\n",
      "1/1 [==============================] - 1s 789ms/step\n",
      "2023-04-07 01:18:27 - INFO - Going to predict retention times for this amount of identifiers: 4404\n",
      "2023-04-07 01:18:32 - INFO - Making predictions using model: {'/Users/gistar/miniforge3/lib/python3.9/site-packages/deeplc/mods/full_hc_PXD005573_mcp_cb975cfdd4105f97efa0b3afffe075cc.hdf5': '/Users/gistar/miniforge3/lib/python3.9/site-packages/deeplc/mods/full_hc_PXD005573_mcp_cb975cfdd4105f97efa0b3afffe075cc.hdf5'}\n",
      "2023-04-07 01:18:32 - INFO - Going to predict retention times for this amount of identifiers: 12984\n",
      "2023-04-07 01:18:39 - INFO - Writing predictions to file: IN407T.deeplc\n",
      "2023-04-07 01:18:39 - INFO - DeepLC finished!\n",
      "deeplc --file_pred IN506T.input.deeplc --file_cal IN506T.input.cal.deeplc --pygam_calibration --file_pred_out IN506T.deeplc\n",
      "2023-04-07 01:18:42 - INFO - Using DeepLC version 1.1.2\n",
      "2023-04-07 01:18:42 - INFO - Selecting best model and calibrating predictions...\n",
      "2023-04-07 01:18:42 - INFO - Going to predict retention times for this amount of identifiers: 2757\n",
      "1/1 [==============================] - 1s 729ms/step\n",
      "2023-04-07 01:18:47 - INFO - Going to predict retention times for this amount of identifiers: 2757\n",
      "2023-04-07 01:18:52 - INFO - Going to predict retention times for this amount of identifiers: 2757\n",
      "1/1 [==============================] - 0s 369ms/step\n",
      "2023-04-07 01:18:57 - INFO - Going to predict retention times for this amount of identifiers: 2757\n",
      "2023-04-07 01:19:03 - INFO - Going to predict retention times for this amount of identifiers: 2757\n",
      "1/1 [==============================] - 1s 522ms/step\n",
      "2023-04-07 01:19:08 - INFO - Going to predict retention times for this amount of identifiers: 2757\n",
      "2023-04-07 01:19:13 - INFO - Going to predict retention times for this amount of identifiers: 2757\n",
      "1/1 [==============================] - 0s 498ms/step\n",
      "2023-04-07 01:19:18 - INFO - Going to predict retention times for this amount of identifiers: 2757\n",
      "2023-04-07 01:19:24 - INFO - Making predictions using model: {'/Users/gistar/miniforge3/lib/python3.9/site-packages/deeplc/mods/full_hc_PXD005573_mcp_cb975cfdd4105f97efa0b3afffe075cc.hdf5': '/Users/gistar/miniforge3/lib/python3.9/site-packages/deeplc/mods/full_hc_PXD005573_mcp_cb975cfdd4105f97efa0b3afffe075cc.hdf5'}\n",
      "2023-04-07 01:19:24 - INFO - Going to predict retention times for this amount of identifiers: 7331\n",
      "2023-04-07 01:19:30 - INFO - Writing predictions to file: IN506T.deeplc\n",
      "2023-04-07 01:19:30 - INFO - DeepLC finished!\n",
      "deeplc --file_pred IN524T.input.deeplc --file_cal IN524T.input.cal.deeplc --pygam_calibration --file_pred_out IN524T.deeplc\n",
      "2023-04-07 01:19:33 - INFO - Using DeepLC version 1.1.2\n",
      "2023-04-07 01:19:33 - INFO - Selecting best model and calibrating predictions...\n",
      "2023-04-07 01:19:33 - INFO - Going to predict retention times for this amount of identifiers: 3163\n",
      "1/1 [==============================] - 1s 852ms/step\n",
      "2023-04-07 01:19:38 - INFO - Going to predict retention times for this amount of identifiers: 3163\n",
      "2023-04-07 01:19:44 - INFO - Going to predict retention times for this amount of identifiers: 3163\n",
      "1/1 [==============================] - 0s 448ms/step\n",
      "2023-04-07 01:19:49 - INFO - Going to predict retention times for this amount of identifiers: 3163\n",
      "2023-04-07 01:19:55 - INFO - Going to predict retention times for this amount of identifiers: 3163\n"
     ]
    },
    {
     "name": "stderr",
     "output_type": "stream",
     "text": [
      "dyld[36601]: Assertion failed: (this->magic == kMagic), function mf, file Loader.cpp, line 123.\n",
      "\n"
     ]
    },
    {
     "name": "stdout",
     "output_type": "stream",
     "text": [
      "1/1 [==============================] - 1s 551ms/step\n",
      "2023-04-07 01:20:02 - INFO - Going to predict retention times for this amount of identifiers: 3163\n",
      "2023-04-07 01:20:07 - INFO - Going to predict retention times for this amount of identifiers: 3163\n",
      "1/1 [==============================] - 1s 579ms/step\n",
      "2023-04-07 01:20:12 - INFO - Going to predict retention times for this amount of identifiers: 3163\n",
      "2023-04-07 01:20:18 - INFO - Making predictions using model: {'/Users/gistar/miniforge3/lib/python3.9/site-packages/deeplc/mods/full_hc_PXD005573_mcp_cb975cfdd4105f97efa0b3afffe075cc.hdf5': '/Users/gistar/miniforge3/lib/python3.9/site-packages/deeplc/mods/full_hc_PXD005573_mcp_cb975cfdd4105f97efa0b3afffe075cc.hdf5'}\n",
      "2023-04-07 01:20:18 - INFO - Going to predict retention times for this amount of identifiers: 8875\n",
      "2023-04-07 01:20:24 - INFO - Writing predictions to file: IN524T.deeplc\n",
      "2023-04-07 01:20:24 - INFO - DeepLC finished!\n",
      "deeplc --file_pred IN525T.input.deeplc --file_cal IN525T.input.cal.deeplc --pygam_calibration --file_pred_out IN525T.deeplc\n",
      "2023-04-07 01:20:27 - INFO - Using DeepLC version 1.1.2\n",
      "2023-04-07 01:20:27 - INFO - Selecting best model and calibrating predictions...\n",
      "2023-04-07 01:20:27 - INFO - Going to predict retention times for this amount of identifiers: 2999\n",
      "1/1 [==============================] - 1s 820ms/step\n",
      "2023-04-07 01:20:32 - INFO - Going to predict retention times for this amount of identifiers: 2999\n",
      "2023-04-07 01:20:38 - INFO - Going to predict retention times for this amount of identifiers: 2999\n"
     ]
    },
    {
     "name": "stderr",
     "output_type": "stream",
     "text": [
      "dyld[36684]: Assertion failed: (this->magic == kMagic), function matchesPath, file Loader.cpp, line 154.\n",
      "\n"
     ]
    },
    {
     "name": "stdout",
     "output_type": "stream",
     "text": [
      "1/1 [==============================] - 0s 420ms/step\n",
      "2023-04-07 01:20:44 - INFO - Going to predict retention times for this amount of identifiers: 2999\n",
      "2023-04-07 01:20:49 - INFO - Going to predict retention times for this amount of identifiers: 2999\n",
      "1/1 [==============================] - 1s 546ms/step\n",
      "2023-04-07 01:20:55 - INFO - Going to predict retention times for this amount of identifiers: 2999\n",
      "2023-04-07 01:21:00 - INFO - Going to predict retention times for this amount of identifiers: 2999\n",
      "1/1 [==============================] - 1s 547ms/step\n",
      "2023-04-07 01:21:06 - INFO - Going to predict retention times for this amount of identifiers: 2999\n",
      "2023-04-07 01:21:11 - INFO - Making predictions using model: {'/Users/gistar/miniforge3/lib/python3.9/site-packages/deeplc/mods/full_hc_PXD005573_mcp_cb975cfdd4105f97efa0b3afffe075cc.hdf5': '/Users/gistar/miniforge3/lib/python3.9/site-packages/deeplc/mods/full_hc_PXD005573_mcp_cb975cfdd4105f97efa0b3afffe075cc.hdf5'}\n",
      "2023-04-07 01:21:11 - INFO - Going to predict retention times for this amount of identifiers: 14085\n",
      "2023-04-07 01:21:18 - INFO - Writing predictions to file: IN525T.deeplc\n",
      "2023-04-07 01:21:18 - INFO - DeepLC finished!\n",
      "deeplc --file_pred IN526T.input.deeplc --file_cal IN526T.input.cal.deeplc --pygam_calibration --file_pred_out IN526T.deeplc\n",
      "2023-04-07 01:21:20 - INFO - Using DeepLC version 1.1.2\n",
      "2023-04-07 01:21:20 - INFO - Selecting best model and calibrating predictions...\n",
      "2023-04-07 01:21:20 - INFO - Going to predict retention times for this amount of identifiers: 1933\n",
      "1/1 [==============================] - 1s 542ms/step\n",
      "2023-04-07 01:21:26 - INFO - Going to predict retention times for this amount of identifiers: 1933\n",
      "2023-04-07 01:21:31 - INFO - Going to predict retention times for this amount of identifiers: 1933\n",
      "1/1 [==============================] - 0s 308ms/step\n",
      "2023-04-07 01:21:36 - INFO - Going to predict retention times for this amount of identifiers: 1933\n",
      "2023-04-07 01:21:41 - INFO - Going to predict retention times for this amount of identifiers: 1933\n",
      "1/1 [==============================] - 0s 391ms/step\n",
      "2023-04-07 01:21:46 - INFO - Going to predict retention times for this amount of identifiers: 1933\n"
     ]
    },
    {
     "name": "stderr",
     "output_type": "stream",
     "text": [
      "dyld[36807]: Assertion failed: (this->magic == kMagic), function matchesPath, file Loader.cpp, line 154.\n",
      "\n"
     ]
    },
    {
     "name": "stdout",
     "output_type": "stream",
     "text": [
      "2023-04-07 01:21:52 - INFO - Going to predict retention times for this amount of identifiers: 1933\n",
      "1/1 [==============================] - 0s 423ms/step\n",
      "2023-04-07 01:21:57 - INFO - Going to predict retention times for this amount of identifiers: 1933\n",
      "2023-04-07 01:22:02 - INFO - Making predictions using model: {'/Users/gistar/miniforge3/lib/python3.9/site-packages/deeplc/mods/full_hc_PXD005573_mcp_cb975cfdd4105f97efa0b3afffe075cc.hdf5': '/Users/gistar/miniforge3/lib/python3.9/site-packages/deeplc/mods/full_hc_PXD005573_mcp_cb975cfdd4105f97efa0b3afffe075cc.hdf5'}\n",
      "2023-04-07 01:22:02 - INFO - Going to predict retention times for this amount of identifiers: 3461\n",
      "2023-04-07 01:22:07 - INFO - Writing predictions to file: IN526T.deeplc\n",
      "2023-04-07 01:22:07 - INFO - DeepLC finished!\n",
      "deeplc --file_pred IN529T.input.deeplc --file_cal IN529T.input.cal.deeplc --pygam_calibration --file_pred_out IN529T.deeplc\n",
      "2023-04-07 01:22:10 - INFO - Using DeepLC version 1.1.2\n",
      "2023-04-07 01:22:10 - INFO - Selecting best model and calibrating predictions...\n",
      "2023-04-07 01:22:10 - INFO - Going to predict retention times for this amount of identifiers: 2583\n",
      "1/1 [==============================] - 1s 661ms/step\n",
      "2023-04-07 01:22:15 - INFO - Going to predict retention times for this amount of identifiers: 2583\n",
      "2023-04-07 01:22:20 - INFO - Going to predict retention times for this amount of identifiers: 2583\n",
      "1/1 [==============================] - 0s 353ms/step\n",
      "2023-04-07 01:22:24 - INFO - Going to predict retention times for this amount of identifiers: 2583\n",
      "2023-04-07 01:22:29 - INFO - Going to predict retention times for this amount of identifiers: 2583\n",
      "1/1 [==============================] - 0s 463ms/step\n",
      "2023-04-07 01:22:34 - INFO - Going to predict retention times for this amount of identifiers: 2583\n",
      "2023-04-07 01:22:40 - INFO - Going to predict retention times for this amount of identifiers: 2583\n",
      "1/1 [==============================] - 0s 469ms/step\n",
      "2023-04-07 01:22:45 - INFO - Going to predict retention times for this amount of identifiers: 2583\n",
      "2023-04-07 01:22:52 - INFO - Making predictions using model: {'/Users/gistar/miniforge3/lib/python3.9/site-packages/deeplc/mods/full_hc_PXD005573_mcp_cb975cfdd4105f97efa0b3afffe075cc.hdf5': '/Users/gistar/miniforge3/lib/python3.9/site-packages/deeplc/mods/full_hc_PXD005573_mcp_cb975cfdd4105f97efa0b3afffe075cc.hdf5'}\n",
      "2023-04-07 01:22:52 - INFO - Going to predict retention times for this amount of identifiers: 8062\n",
      "2023-04-07 01:22:58 - INFO - Writing predictions to file: IN529T.deeplc\n",
      "2023-04-07 01:22:58 - INFO - DeepLC finished!\n",
      "deeplc --file_pred R1_IN532T.input.deeplc --file_cal R1_IN532T.input.cal.deeplc --pygam_calibration --file_pred_out R1_IN532T.deeplc\n",
      "2023-04-07 01:23:01 - INFO - Using DeepLC version 1.1.2\n",
      "2023-04-07 01:23:01 - INFO - Selecting best model and calibrating predictions...\n",
      "2023-04-07 01:23:01 - INFO - Going to predict retention times for this amount of identifiers: 710\n",
      "1/1 [==============================] - 0s 285ms/step\n",
      "2023-04-07 01:23:07 - INFO - Going to predict retention times for this amount of identifiers: 710\n",
      "2023-04-07 01:23:11 - INFO - Going to predict retention times for this amount of identifiers: 710\n",
      "1/1 [==============================] - 0s 185ms/step\n",
      "2023-04-07 01:23:16 - INFO - Going to predict retention times for this amount of identifiers: 710\n",
      "2023-04-07 01:23:21 - INFO - Going to predict retention times for this amount of identifiers: 710\n",
      "1/1 [==============================] - 0s 213ms/step\n",
      "2023-04-07 01:23:26 - INFO - Going to predict retention times for this amount of identifiers: 710\n"
     ]
    },
    {
     "name": "stderr",
     "output_type": "stream",
     "text": [
      "dyld[36998]: Assertion failed: (this->magic == kMagic), function matchesPath, file Loader.cpp, line 154.\n",
      "\n"
     ]
    },
    {
     "name": "stdout",
     "output_type": "stream",
     "text": [
      "2023-04-07 01:23:32 - INFO - Going to predict retention times for this amount of identifiers: 710\n",
      "1/1 [==============================] - 0s 219ms/step\n",
      "2023-04-07 01:23:37 - INFO - Going to predict retention times for this amount of identifiers: 710\n",
      "2023-04-07 01:23:42 - INFO - Making predictions using model: {'/Users/gistar/miniforge3/lib/python3.9/site-packages/deeplc/mods/full_hc_PXD005573_mcp_cb975cfdd4105f97efa0b3afffe075cc.hdf5': '/Users/gistar/miniforge3/lib/python3.9/site-packages/deeplc/mods/full_hc_PXD005573_mcp_cb975cfdd4105f97efa0b3afffe075cc.hdf5'}\n",
      "2023-04-07 01:23:42 - INFO - Going to predict retention times for this amount of identifiers: 1527\n",
      "2023-04-07 01:23:48 - INFO - Writing predictions to file: R1_IN532T.deeplc\n",
      "2023-04-07 01:23:48 - INFO - DeepLC finished!\n",
      "deeplc --file_pred R2_IN532T.input.deeplc --file_cal R2_IN532T.input.cal.deeplc --pygam_calibration --file_pred_out R2_IN532T.deeplc\n",
      "2023-04-07 01:23:50 - INFO - Using DeepLC version 1.1.2\n",
      "2023-04-07 01:23:50 - INFO - Selecting best model and calibrating predictions...\n",
      "2023-04-07 01:23:50 - INFO - Going to predict retention times for this amount of identifiers: 1414\n",
      "1/1 [==============================] - 0s 467ms/step\n",
      "2023-04-07 01:23:55 - INFO - Going to predict retention times for this amount of identifiers: 1414\n"
     ]
    },
    {
     "name": "stderr",
     "output_type": "stream",
     "text": [
      "dyld[37052]: Assertion failed: (this->magic == kMagic), function matchesPath, file Loader.cpp, line 154.\n",
      "\n"
     ]
    },
    {
     "name": "stdout",
     "output_type": "stream",
     "text": [
      "2023-04-07 01:24:01 - INFO - Going to predict retention times for this amount of identifiers: 1414\n",
      "1/1 [==============================] - 0s 255ms/step\n",
      "2023-04-07 01:24:06 - INFO - Going to predict retention times for this amount of identifiers: 1414\n",
      "2023-04-07 01:24:12 - INFO - Going to predict retention times for this amount of identifiers: 1414\n",
      "1/1 [==============================] - 0s 319ms/step\n",
      "2023-04-07 01:24:17 - INFO - Going to predict retention times for this amount of identifiers: 1414\n",
      "2023-04-07 01:24:23 - INFO - Going to predict retention times for this amount of identifiers: 1414\n",
      "1/1 [==============================] - 0s 315ms/step\n",
      "2023-04-07 01:24:28 - INFO - Going to predict retention times for this amount of identifiers: 1414\n"
     ]
    },
    {
     "name": "stderr",
     "output_type": "stream",
     "text": [
      "dyld[37122]: Assertion failed: (this->magic == kMagic), function loadAddress, file Loader.cpp, line 133.\n",
      "\n"
     ]
    },
    {
     "name": "stdout",
     "output_type": "stream",
     "text": [
      "2023-04-07 01:24:34 - INFO - Making predictions using model: {'/Users/gistar/miniforge3/lib/python3.9/site-packages/deeplc/mods/full_hc_PXD005573_mcp_cb975cfdd4105f97efa0b3afffe075cc.hdf5': '/Users/gistar/miniforge3/lib/python3.9/site-packages/deeplc/mods/full_hc_PXD005573_mcp_cb975cfdd4105f97efa0b3afffe075cc.hdf5'}\n",
      "2023-04-07 01:24:34 - INFO - Going to predict retention times for this amount of identifiers: 3256\n",
      "2023-04-07 01:24:39 - INFO - Writing predictions to file: R2_IN532T.deeplc\n",
      "2023-04-07 01:24:39 - INFO - DeepLC finished!\n",
      "deeplc --file_pred M004T.input.deeplc --file_cal M004T.input.cal.deeplc --pygam_calibration --file_pred_out M004T.deeplc\n",
      "2023-04-07 01:24:42 - INFO - Using DeepLC version 1.1.2\n",
      "2023-04-07 01:24:42 - INFO - Selecting best model and calibrating predictions...\n",
      "2023-04-07 01:24:42 - INFO - Going to predict retention times for this amount of identifiers: 3765\n",
      "1/1 [==============================] - 1s 1s/step\n",
      "2023-04-07 01:24:48 - INFO - Going to predict retention times for this amount of identifiers: 3765\n",
      "2023-04-07 01:24:54 - INFO - Going to predict retention times for this amount of identifiers: 3765\n",
      "1/1 [==============================] - 1s 502ms/step\n",
      "2023-04-07 01:25:01 - INFO - Going to predict retention times for this amount of identifiers: 3765\n",
      "2023-04-07 01:25:06 - INFO - Going to predict retention times for this amount of identifiers: 3765\n",
      "1/1 [==============================] - 1s 703ms/step\n",
      "2023-04-07 01:25:11 - INFO - Going to predict retention times for this amount of identifiers: 3765\n",
      "2023-04-07 01:25:17 - INFO - Going to predict retention times for this amount of identifiers: 3765\n",
      "1/1 [==============================] - 1s 634ms/step\n",
      "2023-04-07 01:25:23 - INFO - Going to predict retention times for this amount of identifiers: 3765\n",
      "2023-04-07 01:25:28 - INFO - Making predictions using model: {'/Users/gistar/miniforge3/lib/python3.9/site-packages/deeplc/mods/full_hc_PXD005573_mcp_cb975cfdd4105f97efa0b3afffe075cc.hdf5': '/Users/gistar/miniforge3/lib/python3.9/site-packages/deeplc/mods/full_hc_PXD005573_mcp_cb975cfdd4105f97efa0b3afffe075cc.hdf5'}\n",
      "2023-04-07 01:25:28 - INFO - Going to predict retention times for this amount of identifiers: 8403\n",
      "2023-04-07 01:25:34 - INFO - Writing predictions to file: M004T.deeplc\n",
      "2023-04-07 01:25:34 - INFO - DeepLC finished!\n",
      "deeplc --file_pred M009T.input.deeplc --file_cal M009T.input.cal.deeplc --pygam_calibration --file_pred_out M009T.deeplc\n",
      "2023-04-07 01:25:36 - INFO - Using DeepLC version 1.1.2\n",
      "2023-04-07 01:25:36 - INFO - Selecting best model and calibrating predictions...\n",
      "2023-04-07 01:25:36 - INFO - Going to predict retention times for this amount of identifiers: 3021\n",
      "1/1 [==============================] - 1s 781ms/step\n",
      "2023-04-07 01:25:42 - INFO - Going to predict retention times for this amount of identifiers: 3021\n"
     ]
    },
    {
     "name": "stderr",
     "output_type": "stream",
     "text": [
      "dyld[37252]: Assertion failed: (this->magic == kMagic), function matchesPath, file Loader.cpp, line 154.\n",
      "\n"
     ]
    },
    {
     "name": "stdout",
     "output_type": "stream",
     "text": [
      "2023-04-07 01:25:48 - INFO - Going to predict retention times for this amount of identifiers: 3021\n",
      "1/1 [==============================] - 0s 467ms/step\n",
      "2023-04-07 01:25:54 - INFO - Going to predict retention times for this amount of identifiers: 3021\n",
      "2023-04-07 01:25:59 - INFO - Going to predict retention times for this amount of identifiers: 3021\n",
      "1/1 [==============================] - 1s 561ms/step\n",
      "2023-04-07 01:26:04 - INFO - Going to predict retention times for this amount of identifiers: 3021\n",
      "2023-04-07 01:26:10 - INFO - Going to predict retention times for this amount of identifiers: 3021\n",
      "1/1 [==============================] - 1s 535ms/step\n",
      "2023-04-07 01:26:15 - INFO - Going to predict retention times for this amount of identifiers: 3021\n",
      "2023-04-07 01:26:21 - INFO - Making predictions using model: {'/Users/gistar/miniforge3/lib/python3.9/site-packages/deeplc/mods/full_hc_PXD005573_mcp_cb975cfdd4105f97efa0b3afffe075cc.hdf5': '/Users/gistar/miniforge3/lib/python3.9/site-packages/deeplc/mods/full_hc_PXD005573_mcp_cb975cfdd4105f97efa0b3afffe075cc.hdf5'}\n",
      "2023-04-07 01:26:21 - INFO - Going to predict retention times for this amount of identifiers: 17507\n",
      "2023-04-07 01:26:28 - INFO - Writing predictions to file: M009T.deeplc\n",
      "2023-04-07 01:26:28 - INFO - DeepLC finished!\n"
     ]
    }
   ],
   "source": [
    "\n",
    "###### DeepLC ! ################\n",
    "## Run configuration\n",
    "deeplc_input_suffix = \".input.deeplc\"\n",
    "deeplc_input_cal_suffix = \".input.cal.deeplc\"\n",
    "\n",
    "deeplc_output_suffix = \".deeplc\"\n",
    "\n",
    "## input filrname\n",
    "for idx in range(len(sample_names)):\n",
    "    if(not select[idx]):\n",
    "        continue\n",
    "        \n",
    "    sample_name = sample_names[idx]\n",
    "    deeplc_input_file = sample_name + deeplc_input_suffix\n",
    "    deeplc_input_cal_file = sample_name + deeplc_input_cal_suffix\n",
    "    deeplc_output_file = sample_name + deeplc_output_suffix\n",
    "    deeplc_command = \"deeplc --file_pred \" + deeplc_input_file +\" --file_cal \" +deeplc_input_cal_file + \" --pygam_calibration --file_pred_out \"+ deeplc_output_file\n",
    "    \n",
    "    print(deeplc_command)\n",
    "    \n",
    "    os.system(deeplc_command)"
   ]
  },
  {
   "cell_type": "code",
   "execution_count": 6,
   "id": "a0710fa3",
   "metadata": {
    "scrolled": true
   },
   "outputs": [
    {
     "name": "stdout",
     "output_type": "stream",
     "text": [
      "/Users/gistar/tools/netMHCpan4.1/netMHCpan-4.1/netMHCpan -p DI2T.input.netmhcpan -xls -a HLA-A24:02,HLA-A26:01,HLA-B07:02,HLA-B15:11,HLA-C07:02,HLA-C03:03 -xlsfile DI2T.netmhcpan.xls > out\n"
     ]
    },
    {
     "name": "stderr",
     "output_type": "stream",
     "text": [
      "paste: stdout: Broken pipe\n",
      "paste: stdout: Broken pipe\n"
     ]
    },
    {
     "name": "stdout",
     "output_type": "stream",
     "text": [
      "/Users/gistar/tools/netMHCpan4.1/netMHCpan-4.1/netMHCpan -p DI5T.input.netmhcpan -xls -a HLA-A11:01,HLA-A03:01,HLA-B07:02,HLA-B15:01,HLA-C07:02,HLA-C04:01 -xlsfile DI5T.netmhcpan.xls > out\n"
     ]
    },
    {
     "name": "stderr",
     "output_type": "stream",
     "text": [
      "paste: stdout: Broken pipe\n",
      "paste: stdout: Broken pipe\n"
     ]
    },
    {
     "name": "stdout",
     "output_type": "stream",
     "text": [
      "/Users/gistar/tools/netMHCpan4.1/netMHCpan-4.1/netMHCpan -p IN19T.input.netmhcpan -xls -a HLA-A24:02,HLA-A30:01,HLA-B13:02,HLA-B54:01,HLA-C01:02,HLA-C06:02 -xlsfile IN19T.netmhcpan.xls > out\n"
     ]
    },
    {
     "name": "stderr",
     "output_type": "stream",
     "text": [
      "paste: stdout: Broken pipe\n",
      "paste: stdout: Broken pipe\n"
     ]
    },
    {
     "name": "stdout",
     "output_type": "stream",
     "text": [
      "/Users/gistar/tools/netMHCpan4.1/netMHCpan-4.1/netMHCpan -p IN26T.input.netmhcpan -xls -a HLA-A02:07,HLA-A01:01,HLA-B13:02,HLA-B57:01,HLA-C06:02 -xlsfile IN26T.netmhcpan.xls > out\n"
     ]
    },
    {
     "name": "stderr",
     "output_type": "stream",
     "text": [
      "paste: stdout: Broken pipe\n",
      "paste: stdout: Broken pipe\n"
     ]
    },
    {
     "name": "stdout",
     "output_type": "stream",
     "text": [
      "/Users/gistar/tools/netMHCpan4.1/netMHCpan-4.1/netMHCpan -p IN81T.input.netmhcpan -xls -a HLA-A24:02,HLA-A02:01,HLA-B15:18,HLA-B54:01,HLA-C01:02 -xlsfile IN81T.netmhcpan.xls > out\n"
     ]
    },
    {
     "name": "stderr",
     "output_type": "stream",
     "text": [
      "paste: stdout: Broken pipe\n",
      "paste: stdout: Broken pipe\n"
     ]
    },
    {
     "name": "stdout",
     "output_type": "stream",
     "text": [
      "/Users/gistar/tools/netMHCpan4.1/netMHCpan-4.1/netMHCpan -p R1_IN403T.input.netmhcpan -xls -a HLA-A33:03,HLA-A30:01,HLA-B15:11,HLA-B13:02,HLA-C03:03,HLA-C06:02 -xlsfile R1_IN403T.netmhcpan.xls > out\n"
     ]
    },
    {
     "name": "stderr",
     "output_type": "stream",
     "text": [
      "paste: stdout: Broken pipe\n",
      "paste: stdout: Broken pipe\n"
     ]
    },
    {
     "name": "stdout",
     "output_type": "stream",
     "text": [
      "/Users/gistar/tools/netMHCpan4.1/netMHCpan-4.1/netMHCpan -p R2_IN403T.input.netmhcpan -xls -a HLA-A33:03,HLA-A30:01,HLA-B15:11,HLA-B13:02,HLA-C03:03,HLA-C06:02 -xlsfile R2_IN403T.netmhcpan.xls > out\n"
     ]
    },
    {
     "name": "stderr",
     "output_type": "stream",
     "text": [
      "paste: stdout: Broken pipe\n",
      "paste: stdout: Broken pipe\n"
     ]
    },
    {
     "name": "stdout",
     "output_type": "stream",
     "text": [
      "/Users/gistar/tools/netMHCpan4.1/netMHCpan-4.1/netMHCpan -p IN407T.input.netmhcpan -xls -a HLA-A24:02,HLA-A02:06,HLA-B38:02,HLA-B15:01,HLA-C07:02,HLA-C03:03 -xlsfile IN407T.netmhcpan.xls > out\n"
     ]
    },
    {
     "name": "stderr",
     "output_type": "stream",
     "text": [
      "paste: stdout: Broken pipe\n",
      "paste: stdout: Broken pipe\n"
     ]
    },
    {
     "name": "stdout",
     "output_type": "stream",
     "text": [
      "/Users/gistar/tools/netMHCpan4.1/netMHCpan-4.1/netMHCpan -p IN506T.input.netmhcpan -xls -a HLA-A24:02,HLA-A03:01,HLA-B13:02,HLA-B52:01,HLA-C06:02,HLA-C12:02 -xlsfile IN506T.netmhcpan.xls > out\n"
     ]
    },
    {
     "name": "stderr",
     "output_type": "stream",
     "text": [
      "paste: stdout: Broken pipe\n",
      "paste: stdout: Broken pipe\n"
     ]
    },
    {
     "name": "stdout",
     "output_type": "stream",
     "text": [
      "/Users/gistar/tools/netMHCpan4.1/netMHCpan-4.1/netMHCpan -p IN524T.input.netmhcpan -xls -a HLA-A24:02,HLA-A30:04,HLA-B55:02,HLA-B14:01,HLA-C08:02,HLA-C03:03 -xlsfile IN524T.netmhcpan.xls > out\n"
     ]
    },
    {
     "name": "stderr",
     "output_type": "stream",
     "text": [
      "paste: stdout: Broken pipe\n",
      "paste: stdout: Broken pipe\n"
     ]
    },
    {
     "name": "stdout",
     "output_type": "stream",
     "text": [
      "/Users/gistar/tools/netMHCpan4.1/netMHCpan-4.1/netMHCpan -p IN525T.input.netmhcpan -xls -a HLA-A24:02,,HLA-B07:02,HLA-B54:01,HLA-C07:02,HLA-C01:02 -xlsfile IN525T.netmhcpan.xls > out\n"
     ]
    },
    {
     "name": "stderr",
     "output_type": "stream",
     "text": [
      "paste: stdout: Broken pipe\n",
      "paste: stdout: Broken pipe\n"
     ]
    },
    {
     "name": "stdout",
     "output_type": "stream",
     "text": [
      "/Users/gistar/tools/netMHCpan4.1/netMHCpan-4.1/netMHCpan -p IN526T.input.netmhcpan -xls -a HLA-A29:01,HLA-A33:03,HLA-B07:05,HLA-B58:01,HLA-C15:05,HLA-C03:02 -xlsfile IN526T.netmhcpan.xls > out\n"
     ]
    },
    {
     "name": "stderr",
     "output_type": "stream",
     "text": [
      "paste: stdout: Broken pipe\n",
      "paste: stdout: Broken pipe\n"
     ]
    },
    {
     "name": "stdout",
     "output_type": "stream",
     "text": [
      "/Users/gistar/tools/netMHCpan4.1/netMHCpan-4.1/netMHCpan -p IN529T.input.netmhcpan -xls -a HLA-A31:01,HLA-A11:01,HLA-B27:04,HLA-B51:01,HLA-C15:02,HLA-C08:01 -xlsfile IN529T.netmhcpan.xls > out\n"
     ]
    },
    {
     "name": "stderr",
     "output_type": "stream",
     "text": [
      "paste: stdout: Broken pipe\n",
      "paste: stdout: Broken pipe\n"
     ]
    },
    {
     "name": "stdout",
     "output_type": "stream",
     "text": [
      "/Users/gistar/tools/netMHCpan4.1/netMHCpan-4.1/netMHCpan -p R1_IN532T.input.netmhcpan -xls -a HLA-A02:03,HLA-A31:01,HLA-B38:02,HLA-B46:01,HLA-C07:02,HLA-C01:02 -xlsfile R1_IN532T.netmhcpan.xls > out\n"
     ]
    },
    {
     "name": "stderr",
     "output_type": "stream",
     "text": [
      "paste: stdout: Broken pipe\n",
      "paste: stdout: Broken pipe\n"
     ]
    },
    {
     "name": "stdout",
     "output_type": "stream",
     "text": [
      "/Users/gistar/tools/netMHCpan4.1/netMHCpan-4.1/netMHCpan -p R2_IN532T.input.netmhcpan -xls -a HLA-A02:03,HLA-A31:01,HLA-B38:02,HLA-B46:01,HLA-C07:02,HLA-C01:02 -xlsfile R2_IN532T.netmhcpan.xls > out\n"
     ]
    },
    {
     "name": "stderr",
     "output_type": "stream",
     "text": [
      "paste: stdout: Broken pipe\n",
      "paste: stdout: Broken pipe\n"
     ]
    },
    {
     "name": "stdout",
     "output_type": "stream",
     "text": [
      "/Users/gistar/tools/netMHCpan4.1/netMHCpan-4.1/netMHCpan -p M004T.input.netmhcpan -xls -a HLA-A24:02,HLA-A11:01,HLA-B40:01,HLA-B40:02,HLA-C03:03,HLA-C03:04 -xlsfile M004T.netmhcpan.xls > out\n"
     ]
    },
    {
     "name": "stderr",
     "output_type": "stream",
     "text": [
      "paste: stdout: Broken pipe\n",
      "paste: stdout: Broken pipe\n"
     ]
    },
    {
     "name": "stdout",
     "output_type": "stream",
     "text": [
      "/Users/gistar/tools/netMHCpan4.1/netMHCpan-4.1/netMHCpan -p M009T.input.netmhcpan -xls -a HLA-A11:01,HLA-A31:01,HLA-B51:01,HLA-B59:01,HLA-C15:02,HLA-C01:02 -xlsfile M009T.netmhcpan.xls > out\n"
     ]
    },
    {
     "name": "stderr",
     "output_type": "stream",
     "text": [
      "paste: stdout: Broken pipe\n",
      "paste: stdout: Broken pipe\n"
     ]
    }
   ],
   "source": [
    "\n",
    "###### NetMHCpan 4.1 ! ################\n",
    "## Run configuration\n",
    "netmhcpan_input_suffix = \".input.netmhcpan\"\n",
    "\n",
    "netmhcpan_output_suffix = \".netmhcpan.xls\"\n",
    "\n",
    "## input filename\n",
    "for idx in range(len(sample_names)):\n",
    "    if(not select[idx]):\n",
    "        continue\n",
    "        \n",
    "    sample_name = sample_names[idx]\n",
    "    hla_type = sample_hla_types[idx]\n",
    "    netmhcpan_input_file = sample_name + netmhcpan_input_suffix\n",
    "    netmhcpan_output_file = sample_name + netmhcpan_output_suffix\n",
    "    netmhcpan_command = \"/Users/gistar/tools/netMHCpan4.1/netMHCpan-4.1/netMHCpan -p \" +netmhcpan_input_file +\" -xls -a \" + hla_type +\" -xlsfile \"+netmhcpan_output_file +\" > out\"\n",
    "    \n",
    "    print(netmhcpan_command)\n",
    "    \n",
    "    os.system(netmhcpan_command)"
   ]
  },
  {
   "cell_type": "code",
   "execution_count": null,
   "id": "0533c45c",
   "metadata": {},
   "outputs": [],
   "source": [
    "#### FEATURE APPENDING #####\n"
   ]
  },
  {
   "cell_type": "code",
   "execution_count": 8,
   "id": "d73d879e",
   "metadata": {},
   "outputs": [
    {
     "name": "stdout",
     "output_type": "stream",
     "text": [
      "run percolator: DI2T.pxg.predfeat.feat.pin\n"
     ]
    },
    {
     "name": "stderr",
     "output_type": "stream",
     "text": [
      "Protein decoy-preix used is random_\n",
      "All files have been read\n",
      "Percolator version 3.06.0, Build Date May 11 2022 12:45:02\n",
      "Copyright (c) 2006-9 University of Washington. All rights reserved.\n",
      "Written by Lukas Käll (lukall@u.washington.edu) in the\n",
      "Department of Genome Sciences at the University of Washington.\n",
      "Issued command:\n",
      "percolator -i 10 --default-direction MainScore --testFDR 0.01 --trainFDR 0.01 --weights DI2T.feat.weights --results-psms DI2T.feat.target.psm --decoy-results-psms DI2T.feat.decoy.psm -P random_ -Y -U DI2T.pxg.predfeat.feat.pin --xmloutput DI2T.feat.xml\n",
      "Started Tue May  9 23:26:25 2023\n",
      "Hyperparameters: selectionFdr=0.01, Cpos=0, Cneg=0, maxNiter=10\n",
      "Reading tab-delimited input from datafile DI2T.pxg.predfeat.feat.pin\n",
      "Features:\n",
      "MainScore DeltaScore Log2Reads absppm Charge2 Charge3 Charge4 SA BestDeltaRT Log2MeanQScore \n",
      "Found 14862 PSMs\n",
      "Separate target and decoy search inputs detected, using target-decoy competition on Percolator scores.\n",
      "Train/test set contains 10847 positives and 4015 negatives, size ratio=2.70162 and pi0=1\n",
      "Selecting Cpos by cross-validation.\n",
      "Selecting Cneg by cross-validation.\n",
      "Found 1663 test set positives with q<0.01 in initial direction\n",
      "Reading in data and feature calculation took 0.0548 cpu seconds or 0 seconds wall clock time.\n",
      "---Training with Cpos selected by cross validation, Cneg selected by cross validation, initial_fdr=0.01, fdr=0.01\n",
      "Iteration 1:\tEstimated 3100 PSMs with q<0.01\n",
      "Iteration 2:\tEstimated 3358 PSMs with q<0.01\n",
      "Iteration 3:\tEstimated 3432 PSMs with q<0.01\n",
      "Iteration 4:\tEstimated 3471 PSMs with q<0.01\n",
      "Iteration 5:\tEstimated 3501 PSMs with q<0.01\n",
      "Iteration 6:\tEstimated 3520 PSMs with q<0.01\n",
      "Iteration 7:\tEstimated 3526 PSMs with q<0.01\n",
      "Iteration 8:\tEstimated 3531 PSMs with q<0.01\n",
      "Iteration 9:\tEstimated 3533 PSMs with q<0.01\n",
      "Iteration 10:\tEstimated 3534 PSMs with q<0.01\n",
      "Learned normalized SVM weights for the 3 cross-validation splits:\n",
      " Split1\t Split2\t Split3\tFeatureName\n",
      " 0.5447\t 0.6108\t 0.7213\tMainScore\n",
      "-0.5023\t-0.5833\t-0.6801\tDeltaScore\n",
      " 0.9612\t 0.9178\t 1.0704\tLog2Reads\n",
      " 0.1113\t 0.6082\t 0.4520\tabsppm\n",
      " 0.0000\t 0.0000\t 0.0000\tCharge2\n",
      " 0.0000\t 0.0000\t 0.0000\tCharge3\n",
      " 0.0000\t 0.0000\t 0.0000\tCharge4\n",
      " 1.8970\t 1.6459\t 1.2258\tSA\n",
      "-1.0974\t-0.6491\t-0.9242\tBestDeltaRT\n",
      " 1.0365\t 0.8967\t 0.7483\tLog2MeanQScore\n",
      "-3.8915\t-3.7433\t-3.6359\tm0\n",
      "Found 3413 test set PSMs with q<0.01.\n",
      "Selected best-scoring PSM per scan+expMass (target-decoy competition): 4556 target PSMs and 1280 decoy PSMs.\n",
      "Calculating q values.\n",
      "Final list yields 2822 target PSMs with q<0.01.\n",
      "Calculating posterior error probabilities (PEPs).\n",
      "Processing took 2.6685 cpu seconds or 2 seconds wall clock time.\n",
      "Protein decoy-preix used is random_\n",
      "All files have been read\n",
      "Percolator version 3.06.0, Build Date May 11 2022 12:45:02\n",
      "Copyright (c) 2006-9 University of Washington. All rights reserved.\n",
      "Written by Lukas Käll (lukall@u.washington.edu) in the\n",
      "Department of Genome Sciences at the University of Washington.\n",
      "Issued command:\n",
      "percolator -i 10 --default-direction MainScore --testFDR 0.01 --trainFDR 0.01 --weights DI5T.feat.weights --results-psms DI5T.feat.target.psm --decoy-results-psms DI5T.feat.decoy.psm -P random_ -Y -U DI5T.pxg.predfeat.feat.pin --xmloutput DI5T.feat.xml\n",
      "Started Tue May  9 23:26:27 2023\n",
      "Hyperparameters: selectionFdr=0.01, Cpos=0, Cneg=0, maxNiter=10\n"
     ]
    },
    {
     "name": "stdout",
     "output_type": "stream",
     "text": [
      "run percolator: DI5T.pxg.predfeat.feat.pin\n"
     ]
    },
    {
     "name": "stderr",
     "output_type": "stream",
     "text": [
      "Reading tab-delimited input from datafile DI5T.pxg.predfeat.feat.pin\n",
      "Features:\n",
      "MainScore DeltaScore Log2Reads absppm Charge2 Charge3 Charge4 SA BestDeltaRT Log2MeanQScore \n",
      "Found 17996 PSMs\n",
      "Separate target and decoy search inputs detected, using target-decoy competition on Percolator scores.\n",
      "Train/test set contains 12880 positives and 5116 negatives, size ratio=2.51759 and pi0=1\n",
      "Selecting Cpos by cross-validation.\n",
      "Selecting Cneg by cross-validation.\n",
      "Found 547 test set positives with q<0.01 in initial direction\n",
      "Reading in data and feature calculation took 0.0599 cpu seconds or 0 seconds wall clock time.\n",
      "---Training with Cpos selected by cross validation, Cneg selected by cross validation, initial_fdr=0.01, fdr=0.01\n",
      "Iteration 1:\tEstimated 3113 PSMs with q<0.01\n",
      "Iteration 2:\tEstimated 3343 PSMs with q<0.01\n",
      "Iteration 3:\tEstimated 3410 PSMs with q<0.01\n",
      "Iteration 4:\tEstimated 3427 PSMs with q<0.01\n",
      "Iteration 5:\tEstimated 3422 PSMs with q<0.01\n",
      "Iteration 6:\tEstimated 3417 PSMs with q<0.01\n",
      "Iteration 7:\tEstimated 3425 PSMs with q<0.01\n",
      "Iteration 8:\tEstimated 3425 PSMs with q<0.01\n",
      "Iteration 9:\tEstimated 3425 PSMs with q<0.01\n",
      "Iteration 10:\tEstimated 3427 PSMs with q<0.01\n",
      "Learned normalized SVM weights for the 3 cross-validation splits:\n",
      " Split1\t Split2\t Split3\tFeatureName\n",
      " 0.7354\t 0.6149\t 0.2774\tMainScore\n",
      "-0.4010\t-0.3940\t-0.3062\tDeltaScore\n",
      " 1.0833\t 1.1808\t 0.9613\tLog2Reads\n",
      " 0.0471\t 0.1468\t 0.0140\tabsppm\n",
      " 0.0000\t 0.0000\t 0.0000\tCharge2\n",
      " 0.0000\t 0.0000\t 0.0000\tCharge3\n",
      " 0.0000\t 0.0000\t 0.0000\tCharge4\n",
      " 2.1432\t 1.5954\t 0.9902\tSA\n",
      "-0.3276\t-0.2756\t-0.5868\tBestDeltaRT\n",
      " 0.6456\t 1.0794\t 0.3166\tLog2MeanQScore\n",
      "-5.1819\t-3.7114\t-2.2637\tm0\n",
      "Found 3373 test set PSMs with q<0.01.\n",
      "Selected best-scoring PSM per scan+expMass (target-decoy competition): 4608 target PSMs and 1473 decoy PSMs.\n",
      "Calculating q values.\n",
      "Final list yields 2666 target PSMs with q<0.01.\n",
      "Calculating posterior error probabilities (PEPs).\n",
      "Processing took 2.6426 cpu seconds or 2 seconds wall clock time.\n",
      "Protein decoy-preix used is random_\n",
      "All files have been read\n",
      "Percolator version 3.06.0, Build Date May 11 2022 12:45:02\n",
      "Copyright (c) 2006-9 University of Washington. All rights reserved.\n",
      "Written by Lukas Käll (lukall@u.washington.edu) in the\n",
      "Department of Genome Sciences at the University of Washington.\n",
      "Issued command:\n",
      "percolator -i 10 --default-direction MainScore --testFDR 0.01 --trainFDR 0.01 --weights IN19T.feat.weights --results-psms IN19T.feat.target.psm --decoy-results-psms IN19T.feat.decoy.psm -P random_ -Y -U IN19T.pxg.predfeat.feat.pin --xmloutput IN19T.feat.xml\n",
      "Started Tue May  9 23:26:29 2023\n",
      "Hyperparameters: selectionFdr=0.01, Cpos=0, Cneg=0, maxNiter=10\n"
     ]
    },
    {
     "name": "stdout",
     "output_type": "stream",
     "text": [
      "run percolator: IN19T.pxg.predfeat.feat.pin\n"
     ]
    },
    {
     "name": "stderr",
     "output_type": "stream",
     "text": [
      "Reading tab-delimited input from datafile IN19T.pxg.predfeat.feat.pin\n",
      "Features:\n",
      "MainScore DeltaScore Log2Reads absppm Charge2 Charge3 SA BestDeltaRT Log2MeanQScore \n",
      "Found 16385 PSMs\n",
      "Separate target and decoy search inputs detected, using target-decoy competition on Percolator scores.\n",
      "Train/test set contains 11871 positives and 4514 negatives, size ratio=2.62982 and pi0=1\n",
      "Selecting Cpos by cross-validation.\n",
      "Selecting Cneg by cross-validation.\n",
      "Found 426 test set positives with q<0.01 in initial direction\n",
      "Reading in data and feature calculation took 0.0553 cpu seconds or 0 seconds wall clock time.\n",
      "---Training with Cpos selected by cross validation, Cneg selected by cross validation, initial_fdr=0.01, fdr=0.01\n",
      "Iteration 1:\tEstimated 2403 PSMs with q<0.01\n",
      "Iteration 2:\tEstimated 2794 PSMs with q<0.01\n",
      "Iteration 3:\tEstimated 2828 PSMs with q<0.01\n",
      "Iteration 4:\tEstimated 2856 PSMs with q<0.01\n",
      "Iteration 5:\tEstimated 2852 PSMs with q<0.01\n",
      "Iteration 6:\tEstimated 2853 PSMs with q<0.01\n",
      "Iteration 7:\tEstimated 2861 PSMs with q<0.01\n",
      "Iteration 8:\tEstimated 2861 PSMs with q<0.01\n",
      "Iteration 9:\tEstimated 2860 PSMs with q<0.01\n",
      "Iteration 10:\tEstimated 2857 PSMs with q<0.01\n",
      "Learned normalized SVM weights for the 3 cross-validation splits:\n",
      " Split1\t Split2\t Split3\tFeatureName\n",
      " 0.5224\t 1.3004\t 0.9030\tMainScore\n",
      "-0.5524\t-0.7876\t-0.6468\tDeltaScore\n",
      " 0.6645\t 0.8053\t 0.6162\tLog2Reads\n",
      "-0.1585\t 0.0250\t 0.0313\tabsppm\n",
      " 0.0000\t 0.0000\t 0.0000\tCharge2\n",
      " 0.0000\t 0.0000\t 0.0000\tCharge3\n",
      " 0.6881\t 1.5373\t 1.3873\tSA\n",
      "-0.8666\t-2.1153\t-1.8609\tBestDeltaRT\n",
      " 0.1796\t-0.2437\t 0.0976\tLog2MeanQScore\n",
      "-2.7627\t-5.7662\t-4.4723\tm0\n",
      "Found 2504 test set PSMs with q<0.01.\n",
      "Selected best-scoring PSM per scan+expMass (target-decoy competition): 3848 target PSMs and 1339 decoy PSMs.\n",
      "Calculating q values.\n",
      "Final list yields 1939 target PSMs with q<0.01.\n",
      "Calculating posterior error probabilities (PEPs).\n",
      "Processing took 2.7339 cpu seconds or 2 seconds wall clock time.\n",
      "Protein decoy-preix used is random_\n",
      "All files have been read\n",
      "Percolator version 3.06.0, Build Date May 11 2022 12:45:02\n",
      "Copyright (c) 2006-9 University of Washington. All rights reserved.\n",
      "Written by Lukas Käll (lukall@u.washington.edu) in the\n",
      "Department of Genome Sciences at the University of Washington.\n",
      "Issued command:\n",
      "percolator -i 10 --default-direction MainScore --testFDR 0.01 --trainFDR 0.01 --weights IN26T.feat.weights --results-psms IN26T.feat.target.psm --decoy-results-psms IN26T.feat.decoy.psm -P random_ -Y -U IN26T.pxg.predfeat.feat.pin --xmloutput IN26T.feat.xml\n",
      "Started Tue May  9 23:26:31 2023\n",
      "Hyperparameters: selectionFdr=0.01, Cpos=0, Cneg=0, maxNiter=10\n",
      "Reading tab-delimited input from datafile IN26T.pxg.predfeat.feat.pin\n",
      "Features:\n",
      "MainScore DeltaScore Log2Reads absppm Charge2 Charge3 Charge4 SA BestDeltaRT Log2MeanQScore \n"
     ]
    },
    {
     "name": "stdout",
     "output_type": "stream",
     "text": [
      "run percolator: IN26T.pxg.predfeat.feat.pin\n"
     ]
    },
    {
     "name": "stderr",
     "output_type": "stream",
     "text": [
      "Found 13489 PSMs\n",
      "Separate target and decoy search inputs detected, using target-decoy competition on Percolator scores.\n",
      "Train/test set contains 10272 positives and 3217 negatives, size ratio=3.19304 and pi0=1\n",
      "Selecting Cpos by cross-validation.\n",
      "Selecting Cneg by cross-validation.\n",
      "Found 1142 test set positives with q<0.01 in initial direction\n",
      "Reading in data and feature calculation took 0.0464 cpu seconds or 0 seconds wall clock time.\n",
      "---Training with Cpos selected by cross validation, Cneg selected by cross validation, initial_fdr=0.01, fdr=0.01\n",
      "Iteration 1:\tEstimated 3674 PSMs with q<0.01\n",
      "Iteration 2:\tEstimated 4025 PSMs with q<0.01\n",
      "Iteration 3:\tEstimated 4067 PSMs with q<0.01\n",
      "Iteration 4:\tEstimated 4077 PSMs with q<0.01\n",
      "Iteration 5:\tEstimated 4077 PSMs with q<0.01\n",
      "Iteration 6:\tEstimated 4081 PSMs with q<0.01\n",
      "Iteration 7:\tEstimated 4075 PSMs with q<0.01\n",
      "Iteration 8:\tEstimated 4077 PSMs with q<0.01\n",
      "Iteration 9:\tEstimated 4068 PSMs with q<0.01\n",
      "Iteration 10:\tEstimated 4075 PSMs with q<0.01\n",
      "Learned normalized SVM weights for the 3 cross-validation splits:\n",
      " Split1\t Split2\t Split3\tFeatureName\n",
      " 0.3596\t 0.4377\t 0.1715\tMainScore\n",
      "-0.5518\t-0.6405\t-0.6105\tDeltaScore\n",
      " 0.9214\t 0.8334\t 0.7209\tLog2Reads\n",
      " 0.0824\t-0.1094\t-0.1055\tabsppm\n",
      " 0.0000\t 0.0000\t 0.0000\tCharge2\n",
      " 0.0000\t 0.0000\t 0.0000\tCharge3\n",
      " 0.0000\t 0.0000\t 0.0000\tCharge4\n",
      " 1.5045\t 1.5810\t 1.1252\tSA\n",
      "-0.6839\t-1.0600\t-0.6046\tBestDeltaRT\n",
      " 0.8022\t 0.9727\t 0.4625\tLog2MeanQScore\n",
      "-2.3945\t-2.6841\t-1.7086\tm0\n",
      "Found 3970 test set PSMs with q<0.01.\n",
      "Selected best-scoring PSM per scan+expMass (target-decoy competition): 4363 target PSMs and 944 decoy PSMs.\n",
      "Calculating q values.\n",
      "Final list yields 3057 target PSMs with q<0.01.\n",
      "Calculating posterior error probabilities (PEPs).\n",
      "Processing took 2.5654 cpu seconds or 2 seconds wall clock time.\n",
      "Protein decoy-preix used is random_\n",
      "All files have been read\n",
      "Percolator version 3.06.0, Build Date May 11 2022 12:45:02\n",
      "Copyright (c) 2006-9 University of Washington. All rights reserved.\n",
      "Written by Lukas Käll (lukall@u.washington.edu) in the\n",
      "Department of Genome Sciences at the University of Washington.\n",
      "Issued command:\n",
      "percolator -i 10 --default-direction MainScore --testFDR 0.01 --trainFDR 0.01 --weights IN81T.feat.weights --results-psms IN81T.feat.target.psm --decoy-results-psms IN81T.feat.decoy.psm -P random_ -Y -U IN81T.pxg.predfeat.feat.pin --xmloutput IN81T.feat.xml\n",
      "Started Tue May  9 23:26:33 2023\n",
      "Hyperparameters: selectionFdr=0.01, Cpos=0, Cneg=0, maxNiter=10\n"
     ]
    },
    {
     "name": "stdout",
     "output_type": "stream",
     "text": [
      "run percolator: IN81T.pxg.predfeat.feat.pin\n"
     ]
    },
    {
     "name": "stderr",
     "output_type": "stream",
     "text": [
      "Reading tab-delimited input from datafile IN81T.pxg.predfeat.feat.pin\n",
      "Features:\n",
      "MainScore DeltaScore Log2Reads absppm Charge2 Charge3 Charge4 SA BestDeltaRT Log2MeanQScore \n",
      "Found 20967 PSMs\n",
      "Separate target and decoy search inputs detected, using target-decoy competition on Percolator scores.\n",
      "Train/test set contains 15754 positives and 5213 negatives, size ratio=3.02206 and pi0=1\n",
      "Selecting Cpos by cross-validation.\n",
      "Selecting Cneg by cross-validation.\n",
      "Found 905 test set positives with q<0.01 in initial direction\n",
      "Reading in data and feature calculation took 0.0709 cpu seconds or 0 seconds wall clock time.\n",
      "---Training with Cpos selected by cross validation, Cneg selected by cross validation, initial_fdr=0.01, fdr=0.01\n",
      "Iteration 1:\tEstimated 3941 PSMs with q<0.01\n",
      "Iteration 2:\tEstimated 4213 PSMs with q<0.01\n",
      "Iteration 3:\tEstimated 4318 PSMs with q<0.01\n",
      "Iteration 4:\tEstimated 4337 PSMs with q<0.01\n",
      "Iteration 5:\tEstimated 4357 PSMs with q<0.01\n",
      "Iteration 6:\tEstimated 4373 PSMs with q<0.01\n",
      "Iteration 7:\tEstimated 4378 PSMs with q<0.01\n",
      "Iteration 8:\tEstimated 4385 PSMs with q<0.01\n",
      "Iteration 9:\tEstimated 4391 PSMs with q<0.01\n",
      "Iteration 10:\tEstimated 4393 PSMs with q<0.01\n",
      "Learned normalized SVM weights for the 3 cross-validation splits:\n",
      " Split1\t Split2\t Split3\tFeatureName\n",
      " 0.3100\t 0.3860\t 0.5359\tMainScore\n",
      "-0.9845\t-1.0491\t-0.8757\tDeltaScore\n",
      " 0.8105\t 0.9731\t 1.1147\tLog2Reads\n",
      " 0.1466\t-0.2370\t-0.2343\tabsppm\n",
      " 0.0000\t 0.0000\t 0.0000\tCharge2\n",
      " 0.0000\t 0.0000\t 0.0000\tCharge3\n",
      " 0.0000\t 0.0000\t 0.0000\tCharge4\n",
      " 1.1159\t 2.0072\t 1.9268\tSA\n",
      "-1.0571\t-1.7779\t-1.6453\tBestDeltaRT\n",
      " 0.2413\t 0.0543\t 0.2983\tLog2MeanQScore\n",
      "-3.5203\t-4.9197\t-4.8785\tm0\n",
      "Found 4279 test set PSMs with q<0.01.\n",
      "Selected best-scoring PSM per scan+expMass (target-decoy competition): 5596 target PSMs and 1529 decoy PSMs.\n",
      "Calculating q values.\n",
      "Final list yields 3474 target PSMs with q<0.01.\n",
      "Calculating posterior error probabilities (PEPs).\n",
      "Processing took 2.5175 cpu seconds or 1 seconds wall clock time.\n",
      "Protein decoy-preix used is random_\n",
      "All files have been read\n",
      "Percolator version 3.06.0, Build Date May 11 2022 12:45:02\n",
      "Copyright (c) 2006-9 University of Washington. All rights reserved.\n",
      "Written by Lukas Käll (lukall@u.washington.edu) in the\n",
      "Department of Genome Sciences at the University of Washington.\n",
      "Issued command:\n",
      "percolator -i 10 --default-direction MainScore --testFDR 0.01 --trainFDR 0.01 --weights R1_IN403T.feat.weights --results-psms R1_IN403T.feat.target.psm --decoy-results-psms R1_IN403T.feat.decoy.psm -P random_ -Y -U R1_IN403T.pxg.predfeat.feat.pin --xmloutput R1_IN403T.feat.xml\n",
      "Started Tue May  9 23:26:34 2023\n",
      "Hyperparameters: selectionFdr=0.01, Cpos=0, Cneg=0, maxNiter=10\n"
     ]
    },
    {
     "name": "stdout",
     "output_type": "stream",
     "text": [
      "run percolator: R1_IN403T.pxg.predfeat.feat.pin\n"
     ]
    },
    {
     "name": "stderr",
     "output_type": "stream",
     "text": [
      "Reading tab-delimited input from datafile R1_IN403T.pxg.predfeat.feat.pin\n",
      "Features:\n",
      "MainScore DeltaScore Log2Reads absppm Charge2 Charge3 Charge4 SA BestDeltaRT Log2MeanQScore \n",
      "Found 9256 PSMs\n",
      "Separate target and decoy search inputs detected, using target-decoy competition on Percolator scores.\n",
      "Train/test set contains 7775 positives and 1481 negatives, size ratio=5.24983 and pi0=1\n",
      "Selecting Cpos by cross-validation.\n",
      "Selecting Cneg by cross-validation.\n",
      "Found 976 test set positives with q<0.01 in initial direction\n",
      "Reading in data and feature calculation took 0.0336 cpu seconds or 1 seconds wall clock time.\n",
      "---Training with Cpos selected by cross validation, Cneg selected by cross validation, initial_fdr=0.01, fdr=0.01\n",
      "Iteration 1:\tEstimated 3960 PSMs with q<0.01\n",
      "Iteration 2:\tEstimated 4252 PSMs with q<0.01\n",
      "Iteration 3:\tEstimated 4324 PSMs with q<0.01\n",
      "Iteration 4:\tEstimated 4339 PSMs with q<0.01\n",
      "Iteration 5:\tEstimated 4352 PSMs with q<0.01\n",
      "Iteration 6:\tEstimated 4365 PSMs with q<0.01\n",
      "Iteration 7:\tEstimated 4369 PSMs with q<0.01\n",
      "Iteration 8:\tEstimated 4365 PSMs with q<0.01\n",
      "Iteration 9:\tEstimated 4362 PSMs with q<0.01\n",
      "Iteration 10:\tEstimated 4365 PSMs with q<0.01\n",
      "Learned normalized SVM weights for the 3 cross-validation splits:\n",
      " Split1\t Split2\t Split3\tFeatureName\n",
      " 0.2084\t 0.6655\t 0.5153\tMainScore\n",
      "-0.8819\t-0.7516\t-0.8593\tDeltaScore\n",
      " 1.6377\t 1.3366\t 1.5620\tLog2Reads\n",
      " 0.1988\t 0.0236\t 0.0801\tabsppm\n",
      " 0.0000\t 0.0000\t 0.0000\tCharge2\n",
      " 0.0000\t 0.0000\t 0.0000\tCharge3\n",
      " 0.0000\t 0.0000\t 0.0000\tCharge4\n",
      " 0.2064\t 0.1820\t 0.3626\tSA\n",
      "-1.3283\t-1.3785\t-1.5394\tBestDeltaRT\n",
      " 2.0152\t 1.0833\t 1.6632\tLog2MeanQScore\n",
      "-1.6469\t-1.1738\t-1.2315\tm0\n",
      "Found 4324 test set PSMs with q<0.01.\n",
      "Selected best-scoring PSM per scan+expMass (target-decoy competition): 3648 target PSMs and 287 decoy PSMs.\n",
      "Calculating q values.\n",
      "Final list yields 3299 target PSMs with q<0.01.\n",
      "Calculating posterior error probabilities (PEPs).\n",
      "Processing took 2.1425 cpu seconds or 1 seconds wall clock time.\n",
      "Protein decoy-preix used is random_\n",
      "All files have been read\n",
      "Percolator version 3.06.0, Build Date May 11 2022 12:45:02\n",
      "Copyright (c) 2006-9 University of Washington. All rights reserved.\n",
      "Written by Lukas Käll (lukall@u.washington.edu) in the\n",
      "Department of Genome Sciences at the University of Washington.\n",
      "Issued command:\n",
      "percolator -i 10 --default-direction MainScore --testFDR 0.01 --trainFDR 0.01 --weights R2_IN403T.feat.weights --results-psms R2_IN403T.feat.target.psm --decoy-results-psms R2_IN403T.feat.decoy.psm -P random_ -Y -U R2_IN403T.pxg.predfeat.feat.pin --xmloutput R2_IN403T.feat.xml\n",
      "Started Tue May  9 23:26:36 2023\n",
      "Hyperparameters: selectionFdr=0.01, Cpos=0, Cneg=0, maxNiter=10\n",
      "Reading tab-delimited input from datafile R2_IN403T.pxg.predfeat.feat.pin\n",
      "Features:\n",
      "MainScore DeltaScore Log2Reads absppm Charge2 Charge3 Charge4 SA BestDeltaRT Log2MeanQScore \n"
     ]
    },
    {
     "name": "stdout",
     "output_type": "stream",
     "text": [
      "run percolator: R2_IN403T.pxg.predfeat.feat.pin\n"
     ]
    },
    {
     "name": "stderr",
     "output_type": "stream",
     "text": [
      "Found 9352 PSMs\n",
      "Separate target and decoy search inputs detected, using target-decoy competition on Percolator scores.\n",
      "Train/test set contains 7804 positives and 1548 negatives, size ratio=5.04134 and pi0=1\n",
      "Selecting Cpos by cross-validation.\n",
      "Selecting Cneg by cross-validation.\n",
      "Found 828 test set positives with q<0.01 in initial direction\n",
      "Reading in data and feature calculation took 0.0344 cpu seconds or 0 seconds wall clock time.\n",
      "---Training with Cpos selected by cross validation, Cneg selected by cross validation, initial_fdr=0.01, fdr=0.01\n",
      "Iteration 1:\tEstimated 3701 PSMs with q<0.01\n",
      "Iteration 2:\tEstimated 4135 PSMs with q<0.01\n",
      "Iteration 3:\tEstimated 4190 PSMs with q<0.01\n",
      "Iteration 4:\tEstimated 4203 PSMs with q<0.01\n",
      "Iteration 5:\tEstimated 4204 PSMs with q<0.01\n",
      "Iteration 6:\tEstimated 4218 PSMs with q<0.01\n",
      "Iteration 7:\tEstimated 4223 PSMs with q<0.01\n",
      "Iteration 8:\tEstimated 4218 PSMs with q<0.01\n",
      "Iteration 9:\tEstimated 4227 PSMs with q<0.01\n",
      "Iteration 10:\tEstimated 4227 PSMs with q<0.01\n",
      "Learned normalized SVM weights for the 3 cross-validation splits:\n",
      " Split1\t Split2\t Split3\tFeatureName\n",
      " 0.5108\t 0.6549\t 0.6800\tMainScore\n",
      "-0.5834\t-0.6546\t-0.5604\tDeltaScore\n",
      " 1.0819\t 1.3746\t 1.4317\tLog2Reads\n",
      " 0.1609\t 0.1861\t 0.2727\tabsppm\n",
      " 0.0000\t 0.0000\t 0.0000\tCharge2\n",
      " 0.0000\t 0.0000\t 0.0000\tCharge3\n",
      " 0.0000\t 0.0000\t 0.0000\tCharge4\n",
      " 0.3369\t 0.3760\t 0.3594\tSA\n",
      "-0.3966\t-1.3358\t-1.0183\tBestDeltaRT\n",
      " 1.6643\t 1.0726\t 1.1842\tLog2MeanQScore\n",
      "-1.4119\t-1.0389\t-1.2363\tm0\n",
      "Found 4186 test set PSMs with q<0.01.\n",
      "Selected best-scoring PSM per scan+expMass (target-decoy competition): 3523 target PSMs and 305 decoy PSMs.\n",
      "Calculating q values.\n",
      "Final list yields 3080 target PSMs with q<0.01.\n",
      "Calculating posterior error probabilities (PEPs).\n",
      "Processing took 2.6371 cpu seconds or 2 seconds wall clock time.\n",
      "Protein decoy-preix used is random_\n",
      "All files have been read\n",
      "Percolator version 3.06.0, Build Date May 11 2022 12:45:02\n",
      "Copyright (c) 2006-9 University of Washington. All rights reserved.\n",
      "Written by Lukas Käll (lukall@u.washington.edu) in the\n",
      "Department of Genome Sciences at the University of Washington.\n",
      "Issued command:\n",
      "percolator -i 10 --default-direction MainScore --testFDR 0.01 --trainFDR 0.01 --weights IN407T.feat.weights --results-psms IN407T.feat.target.psm --decoy-results-psms IN407T.feat.decoy.psm -P random_ -Y -U IN407T.pxg.predfeat.feat.pin --xmloutput IN407T.feat.xml\n",
      "Started Tue May  9 23:26:38 2023\n",
      "Hyperparameters: selectionFdr=0.01, Cpos=0, Cneg=0, maxNiter=10\n",
      "Reading tab-delimited input from datafile IN407T.pxg.predfeat.feat.pin\n",
      "Features:\n",
      "MainScore DeltaScore Log2Reads absppm Charge2 Charge3 Charge4 SA BestDeltaRT Log2MeanQScore \n"
     ]
    },
    {
     "name": "stdout",
     "output_type": "stream",
     "text": [
      "run percolator: IN407T.pxg.predfeat.feat.pin\n"
     ]
    },
    {
     "name": "stderr",
     "output_type": "stream",
     "text": [
      "Found 18298 PSMs\n",
      "Separate target and decoy search inputs detected, using target-decoy competition on Percolator scores.\n",
      "Train/test set contains 14587 positives and 3711 negatives, size ratio=3.93075 and pi0=1\n",
      "Selecting Cpos by cross-validation.\n",
      "Selecting Cneg by cross-validation.\n",
      "Found 2960 test set positives with q<0.01 in initial direction\n",
      "Reading in data and feature calculation took 0.0637 cpu seconds or 0 seconds wall clock time.\n",
      "---Training with Cpos selected by cross validation, Cneg selected by cross validation, initial_fdr=0.01, fdr=0.01\n",
      "Iteration 1:\tEstimated 6522 PSMs with q<0.01\n",
      "Iteration 2:\tEstimated 7212 PSMs with q<0.01\n",
      "Iteration 3:\tEstimated 7301 PSMs with q<0.01\n",
      "Iteration 4:\tEstimated 7313 PSMs with q<0.01\n",
      "Iteration 5:\tEstimated 7310 PSMs with q<0.01\n",
      "Iteration 6:\tEstimated 7319 PSMs with q<0.01\n",
      "Iteration 7:\tEstimated 7306 PSMs with q<0.01\n",
      "Iteration 8:\tEstimated 7309 PSMs with q<0.01\n",
      "Iteration 9:\tEstimated 7323 PSMs with q<0.01\n",
      "Iteration 10:\tEstimated 7320 PSMs with q<0.01\n",
      "Learned normalized SVM weights for the 3 cross-validation splits:\n",
      " Split1\t Split2\t Split3\tFeatureName\n",
      " 0.4300\t 0.6256\t 0.3424\tMainScore\n",
      "-0.8100\t-0.8172\t-0.6533\tDeltaScore\n",
      " 0.9204\t 1.1282\t 0.8764\tLog2Reads\n",
      "-0.0159\t-0.0214\t-0.0496\tabsppm\n",
      " 0.0000\t 0.0000\t 0.0000\tCharge2\n",
      " 0.0000\t 0.0000\t 0.0000\tCharge3\n",
      " 0.0000\t 0.0000\t 0.0000\tCharge4\n",
      " 1.3477\t 1.1855\t 1.4839\tSA\n",
      "-1.0855\t-1.2266\t-0.7398\tBestDeltaRT\n",
      " 0.7110\t 1.4966\t 0.8531\tLog2MeanQScore\n",
      "-2.1678\t-2.0352\t-2.4627\tm0\n",
      "Found 7256 test set PSMs with q<0.01.\n",
      "Selected best-scoring PSM per scan+expMass (target-decoy competition): 6031 target PSMs and 990 decoy PSMs.\n",
      "Calculating q values.\n",
      "Final list yields 4655 target PSMs with q<0.01.\n",
      "Calculating posterior error probabilities (PEPs).\n",
      "Processing took 3.2557 cpu seconds or 2 seconds wall clock time.\n"
     ]
    },
    {
     "name": "stdout",
     "output_type": "stream",
     "text": [
      "run percolator: IN506T.pxg.predfeat.feat.pin\n"
     ]
    },
    {
     "name": "stderr",
     "output_type": "stream",
     "text": [
      "Protein decoy-preix used is random_\n",
      "All files have been read\n",
      "Percolator version 3.06.0, Build Date May 11 2022 12:45:02\n",
      "Copyright (c) 2006-9 University of Washington. All rights reserved.\n",
      "Written by Lukas Käll (lukall@u.washington.edu) in the\n",
      "Department of Genome Sciences at the University of Washington.\n",
      "Issued command:\n",
      "percolator -i 10 --default-direction MainScore --testFDR 0.01 --trainFDR 0.01 --weights IN506T.feat.weights --results-psms IN506T.feat.target.psm --decoy-results-psms IN506T.feat.decoy.psm -P random_ -Y -U IN506T.pxg.predfeat.feat.pin --xmloutput IN506T.feat.xml\n",
      "Started Tue May  9 23:26:41 2023\n",
      "Hyperparameters: selectionFdr=0.01, Cpos=0, Cneg=0, maxNiter=10\n",
      "Reading tab-delimited input from datafile IN506T.pxg.predfeat.feat.pin\n",
      "Features:\n",
      "MainScore DeltaScore Log2Reads absppm Charge2 Charge3 Charge4 SA BestDeltaRT Log2MeanQScore \n",
      "Found 9433 PSMs\n",
      "Separate target and decoy search inputs detected, using target-decoy competition on Percolator scores.\n",
      "Train/test set contains 7258 positives and 2175 negatives, size ratio=3.33701 and pi0=1\n",
      "Selecting Cpos by cross-validation.\n",
      "Selecting Cneg by cross-validation.\n",
      "Found 119 test set positives with q<0.01 in initial direction\n",
      "Reading in data and feature calculation took 0.0337 cpu seconds or 0 seconds wall clock time.\n",
      "---Training with Cpos selected by cross validation, Cneg selected by cross validation, initial_fdr=0.01, fdr=0.01\n",
      "Iteration 1:\tEstimated 2985 PSMs with q<0.01\n",
      "Iteration 2:\tEstimated 3269 PSMs with q<0.01\n",
      "Iteration 3:\tEstimated 3275 PSMs with q<0.01\n",
      "Iteration 4:\tEstimated 3278 PSMs with q<0.01\n",
      "Iteration 5:\tEstimated 3316 PSMs with q<0.01\n",
      "Iteration 6:\tEstimated 3315 PSMs with q<0.01\n",
      "Iteration 7:\tEstimated 3317 PSMs with q<0.01\n",
      "Iteration 8:\tEstimated 3325 PSMs with q<0.01\n",
      "Iteration 9:\tEstimated 3325 PSMs with q<0.01\n",
      "Iteration 10:\tEstimated 3326 PSMs with q<0.01\n",
      "Learned normalized SVM weights for the 3 cross-validation splits:\n",
      " Split1\t Split2\t Split3\tFeatureName\n",
      " 0.4758\t 0.6243\t 0.3929\tMainScore\n",
      "-0.7763\t-0.9929\t-0.6622\tDeltaScore\n",
      " 0.7481\t 0.8011\t 0.6030\tLog2Reads\n",
      " 0.0470\t 0.0200\t-0.0122\tabsppm\n",
      " 0.0000\t 0.0000\t 0.0000\tCharge2\n",
      " 0.0000\t 0.0000\t 0.0000\tCharge3\n",
      " 0.0000\t 0.0000\t 0.0000\tCharge4\n",
      " 1.2693\t 1.5658\t 1.3439\tSA\n",
      "-1.1543\t-1.4667\t-0.8871\tBestDeltaRT\n",
      " 0.8103\t 1.1941\t 0.3788\tLog2MeanQScore\n",
      "-2.9564\t-3.0870\t-2.1933\tm0\n",
      "Found 3288 test set PSMs with q<0.01.\n",
      "Selected best-scoring PSM per scan+expMass (target-decoy competition): 3663 target PSMs and 809 decoy PSMs.\n",
      "Calculating q values.\n",
      "Final list yields 2576 target PSMs with q<0.01.\n",
      "Calculating posterior error probabilities (PEPs).\n",
      "Processing took 2.3476 cpu seconds or 1 seconds wall clock time.\n",
      "Protein decoy-preix used is random_\n",
      "All files have been read\n",
      "Percolator version 3.06.0, Build Date May 11 2022 12:45:02\n",
      "Copyright (c) 2006-9 University of Washington. All rights reserved.\n",
      "Written by Lukas Käll (lukall@u.washington.edu) in the\n",
      "Department of Genome Sciences at the University of Washington.\n",
      "Issued command:\n",
      "percolator -i 10 --default-direction MainScore --testFDR 0.01 --trainFDR 0.01 --weights IN524T.feat.weights --results-psms IN524T.feat.target.psm --decoy-results-psms IN524T.feat.decoy.psm -P random_ -Y -U IN524T.pxg.predfeat.feat.pin --xmloutput IN524T.feat.xml\n",
      "Started Tue May  9 23:26:42 2023\n",
      "Hyperparameters: selectionFdr=0.01, Cpos=0, Cneg=0, maxNiter=10\n",
      "Reading tab-delimited input from datafile IN524T.pxg.predfeat.feat.pin\n",
      "Features:\n",
      "MainScore DeltaScore Log2Reads absppm Charge2 Charge3 Charge4 SA BestDeltaRT Log2MeanQScore \n"
     ]
    },
    {
     "name": "stdout",
     "output_type": "stream",
     "text": [
      "run percolator: IN524T.pxg.predfeat.feat.pin\n"
     ]
    },
    {
     "name": "stderr",
     "output_type": "stream",
     "text": [
      "Found 12182 PSMs\n",
      "Separate target and decoy search inputs detected, using target-decoy competition on Percolator scores.\n",
      "Train/test set contains 9521 positives and 2661 negatives, size ratio=3.57798 and pi0=1\n",
      "Selecting Cpos by cross-validation.\n",
      "Selecting Cneg by cross-validation.\n",
      "Found 3069 test set positives with q<0.01 in initial direction\n",
      "Reading in data and feature calculation took 0.0424 cpu seconds or 0 seconds wall clock time.\n",
      "---Training with Cpos selected by cross validation, Cneg selected by cross validation, initial_fdr=0.01, fdr=0.01\n",
      "Iteration 1:\tEstimated 4600 PSMs with q<0.01\n",
      "Iteration 2:\tEstimated 4811 PSMs with q<0.01\n",
      "Iteration 3:\tEstimated 4866 PSMs with q<0.01\n",
      "Iteration 4:\tEstimated 4887 PSMs with q<0.01\n",
      "Iteration 5:\tEstimated 4875 PSMs with q<0.01\n",
      "Iteration 6:\tEstimated 4895 PSMs with q<0.01\n",
      "Iteration 7:\tEstimated 4895 PSMs with q<0.01\n",
      "Iteration 8:\tEstimated 4891 PSMs with q<0.01\n",
      "Iteration 9:\tEstimated 4897 PSMs with q<0.01\n",
      "Iteration 10:\tEstimated 4893 PSMs with q<0.01\n",
      "Learned normalized SVM weights for the 3 cross-validation splits:\n",
      " Split1\t Split2\t Split3\tFeatureName\n",
      " 0.7492\t 0.7679\t 1.1172\tMainScore\n",
      "-0.4648\t-0.3876\t-0.4588\tDeltaScore\n",
      " 0.7199\t 0.6737\t 0.9741\tLog2Reads\n",
      " 0.1327\t-0.0077\t-0.1805\tabsppm\n",
      " 0.0000\t 0.0000\t 0.0000\tCharge2\n",
      " 0.0000\t 0.0000\t 0.0000\tCharge3\n",
      " 0.0000\t 0.0000\t 0.0000\tCharge4\n",
      " 1.0585\t 1.0704\t 1.2117\tSA\n",
      "-0.8663\t-0.7117\t-0.8520\tBestDeltaRT\n",
      " 0.9657\t 0.9914\t 1.7017\tLog2MeanQScore\n",
      "-2.0694\t-1.9594\t-2.6340\tm0\n",
      "Found 4853 test set PSMs with q<0.01.\n",
      "Selected best-scoring PSM per scan+expMass (target-decoy competition): 4479 target PSMs and 896 decoy PSMs.\n",
      "Calculating q values.\n",
      "Final list yields 3354 target PSMs with q<0.01.\n",
      "Calculating posterior error probabilities (PEPs).\n",
      "Processing took 2.3076 cpu seconds or 2 seconds wall clock time.\n",
      "Protein decoy-preix used is random_\n",
      "All files have been read\n",
      "Percolator version 3.06.0, Build Date May 11 2022 12:45:02\n",
      "Copyright (c) 2006-9 University of Washington. All rights reserved.\n",
      "Written by Lukas Käll (lukall@u.washington.edu) in the\n",
      "Department of Genome Sciences at the University of Washington.\n",
      "Issued command:\n",
      "percolator -i 10 --default-direction MainScore --testFDR 0.01 --trainFDR 0.01 --weights IN525T.feat.weights --results-psms IN525T.feat.target.psm --decoy-results-psms IN525T.feat.decoy.psm -P random_ -Y -U IN525T.pxg.predfeat.feat.pin --xmloutput IN525T.feat.xml\n",
      "Started Tue May  9 23:26:44 2023\n",
      "Hyperparameters: selectionFdr=0.01, Cpos=0, Cneg=0, maxNiter=10\n"
     ]
    },
    {
     "name": "stdout",
     "output_type": "stream",
     "text": [
      "run percolator: IN525T.pxg.predfeat.feat.pin\n"
     ]
    },
    {
     "name": "stderr",
     "output_type": "stream",
     "text": [
      "Reading tab-delimited input from datafile IN525T.pxg.predfeat.feat.pin\n",
      "Features:\n",
      "MainScore DeltaScore Log2Reads absppm Charge2 Charge3 Charge4 SA BestDeltaRT Log2MeanQScore \n",
      "Found 17385 PSMs\n",
      "Separate target and decoy search inputs detected, using target-decoy competition on Percolator scores.\n",
      "Train/test set contains 12451 positives and 4934 negatives, size ratio=2.52351 and pi0=1\n",
      "Selecting Cpos by cross-validation.\n",
      "Selecting Cneg by cross-validation.\n",
      "Found 773 test set positives with q<0.01 in initial direction\n",
      "Reading in data and feature calculation took 0.0613 cpu seconds or 0 seconds wall clock time.\n",
      "---Training with Cpos selected by cross validation, Cneg selected by cross validation, initial_fdr=0.01, fdr=0.01\n",
      "Iteration 1:\tEstimated 2972 PSMs with q<0.01\n",
      "Iteration 2:\tEstimated 3132 PSMs with q<0.01\n",
      "Iteration 3:\tEstimated 3218 PSMs with q<0.01\n",
      "Iteration 4:\tEstimated 3245 PSMs with q<0.01\n",
      "Iteration 5:\tEstimated 3265 PSMs with q<0.01\n",
      "Iteration 6:\tEstimated 3263 PSMs with q<0.01\n",
      "Iteration 7:\tEstimated 3271 PSMs with q<0.01\n",
      "Iteration 8:\tEstimated 3268 PSMs with q<0.01\n",
      "Iteration 9:\tEstimated 3264 PSMs with q<0.01\n",
      "Iteration 10:\tEstimated 3266 PSMs with q<0.01\n",
      "Learned normalized SVM weights for the 3 cross-validation splits:\n",
      " Split1\t Split2\t Split3\tFeatureName\n",
      " 0.7309\t 0.8185\t 0.9453\tMainScore\n",
      "-0.8425\t-1.0485\t-0.8899\tDeltaScore\n",
      " 0.7557\t 0.8865\t 0.9196\tLog2Reads\n",
      "-0.1770\t-0.2364\t-0.0071\tabsppm\n",
      " 0.0000\t 0.0000\t 0.0000\tCharge2\n",
      " 0.0000\t 0.0000\t 0.0000\tCharge3\n",
      " 0.0000\t 0.0000\t 0.0000\tCharge4\n",
      " 1.4518\t 3.1173\t 2.4842\tSA\n",
      "-1.3025\t-1.6097\t-0.1968\tBestDeltaRT\n",
      " 0.6136\t 0.8562\t 0.6014\tLog2MeanQScore\n",
      "-4.9061\t-6.8311\t-5.2958\tm0\n",
      "Found 3131 test set PSMs with q<0.01.\n",
      "Selected best-scoring PSM per scan+expMass (target-decoy competition): 5225 target PSMs and 1718 decoy PSMs.\n",
      "Calculating q values.\n",
      "Final list yields 2741 target PSMs with q<0.01.\n",
      "Calculating posterior error probabilities (PEPs).\n",
      "Processing took 1.9870 cpu seconds or 1 seconds wall clock time.\n",
      "Protein decoy-preix used is random_\n",
      "All files have been read\n",
      "Percolator version 3.06.0, Build Date May 11 2022 12:45:02\n",
      "Copyright (c) 2006-9 University of Washington. All rights reserved.\n",
      "Written by Lukas Käll (lukall@u.washington.edu) in the\n",
      "Department of Genome Sciences at the University of Washington.\n",
      "Issued command:\n",
      "percolator -i 10 --default-direction MainScore --testFDR 0.01 --trainFDR 0.01 --weights IN526T.feat.weights --results-psms IN526T.feat.target.psm --decoy-results-psms IN526T.feat.decoy.psm -P random_ -Y -U IN526T.pxg.predfeat.feat.pin --xmloutput IN526T.feat.xml\n",
      "Started Tue May  9 23:26:45 2023\n",
      "Hyperparameters: selectionFdr=0.01, Cpos=0, Cneg=0, maxNiter=10\n"
     ]
    },
    {
     "name": "stdout",
     "output_type": "stream",
     "text": [
      "run percolator: IN526T.pxg.predfeat.feat.pin\n"
     ]
    },
    {
     "name": "stderr",
     "output_type": "stream",
     "text": [
      "Reading tab-delimited input from datafile IN526T.pxg.predfeat.feat.pin\n",
      "Features:\n",
      "MainScore DeltaScore Log2Reads absppm Charge2 Charge3 Charge4 SA BestDeltaRT Log2MeanQScore \n",
      "Found 7349 PSMs\n",
      "Separate target and decoy search inputs detected, using target-decoy competition on Percolator scores.\n",
      "Train/test set contains 6631 positives and 718 negatives, size ratio=9.23538 and pi0=1\n",
      "Selecting Cpos by cross-validation.\n",
      "Selecting Cneg by cross-validation.\n",
      "Found 2212 test set positives with q<0.01 in initial direction\n",
      "Reading in data and feature calculation took 0.0276 cpu seconds or 0 seconds wall clock time.\n",
      "---Training with Cpos selected by cross validation, Cneg selected by cross validation, initial_fdr=0.01, fdr=0.01\n",
      "Iteration 1:\tEstimated 4715 PSMs with q<0.01\n",
      "Iteration 2:\tEstimated 4979 PSMs with q<0.01\n",
      "Iteration 3:\tEstimated 5027 PSMs with q<0.01\n",
      "Iteration 4:\tEstimated 5042 PSMs with q<0.01\n",
      "Iteration 5:\tEstimated 5045 PSMs with q<0.01\n",
      "Iteration 6:\tEstimated 5041 PSMs with q<0.01\n",
      "Iteration 7:\tEstimated 5043 PSMs with q<0.01\n",
      "Iteration 8:\tEstimated 5042 PSMs with q<0.01\n",
      "Iteration 9:\tEstimated 5039 PSMs with q<0.01\n",
      "Iteration 10:\tEstimated 5042 PSMs with q<0.01\n",
      "Learned normalized SVM weights for the 3 cross-validation splits:\n",
      " Split1\t Split2\t Split3\tFeatureName\n",
      " 0.5365\t 0.5614\t 0.6921\tMainScore\n",
      "-0.8628\t-1.2955\t-0.9746\tDeltaScore\n",
      " 0.9123\t 0.8862\t 0.8281\tLog2Reads\n",
      " 0.2456\t 0.2439\t 0.1928\tabsppm\n",
      " 0.0000\t 0.0000\t 0.0000\tCharge2\n",
      " 0.0000\t 0.0000\t 0.0000\tCharge3\n",
      " 0.0000\t 0.0000\t 0.0000\tCharge4\n",
      " 0.1259\t 0.0267\t 0.2302\tSA\n",
      "-1.0477\t-1.0656\t-0.8301\tBestDeltaRT\n",
      " 0.3334\t 0.4337\t 0.5801\tLog2MeanQScore\n",
      " 0.2726\t-0.5251\t 0.3636\tm0\n",
      "Found 4999 test set PSMs with q<0.01.\n",
      "Selected best-scoring PSM per scan+expMass (target-decoy competition): 4452 target PSMs and 157 decoy PSMs.\n",
      "Calculating q values.\n",
      "Final list yields 4220 target PSMs with q<0.01.\n",
      "Calculating posterior error probabilities (PEPs).\n",
      "Processing took 2.4378 cpu seconds or 2 seconds wall clock time.\n",
      "Protein decoy-preix used is random_\n",
      "All files have been read\n",
      "Percolator version 3.06.0, Build Date May 11 2022 12:45:02\n",
      "Copyright (c) 2006-9 University of Washington. All rights reserved.\n",
      "Written by Lukas Käll (lukall@u.washington.edu) in the\n",
      "Department of Genome Sciences at the University of Washington.\n",
      "Issued command:\n",
      "percolator -i 10 --default-direction MainScore --testFDR 0.01 --trainFDR 0.01 --weights IN529T.feat.weights --results-psms IN529T.feat.target.psm --decoy-results-psms IN529T.feat.decoy.psm -P random_ -Y -U IN529T.pxg.predfeat.feat.pin --xmloutput IN529T.feat.xml\n",
      "Started Tue May  9 23:26:47 2023\n",
      "Hyperparameters: selectionFdr=0.01, Cpos=0, Cneg=0, maxNiter=10\n",
      "Reading tab-delimited input from datafile IN529T.pxg.predfeat.feat.pin\n",
      "Features:\n",
      "MainScore DeltaScore Log2Reads absppm Charge2 Charge3 Charge4 SA BestDeltaRT Log2MeanQScore \n"
     ]
    },
    {
     "name": "stdout",
     "output_type": "stream",
     "text": [
      "run percolator: IN529T.pxg.predfeat.feat.pin\n"
     ]
    },
    {
     "name": "stderr",
     "output_type": "stream",
     "text": [
      "Found 10585 PSMs\n",
      "Separate target and decoy search inputs detected, using target-decoy competition on Percolator scores.\n",
      "Train/test set contains 8170 positives and 2415 negatives, size ratio=3.38302 and pi0=1\n",
      "Selecting Cpos by cross-validation.\n",
      "Selecting Cneg by cross-validation.\n",
      "Found 1592 test set positives with q<0.01 in initial direction\n",
      "Reading in data and feature calculation took 0.0379 cpu seconds or 0 seconds wall clock time.\n",
      "---Training with Cpos selected by cross validation, Cneg selected by cross validation, initial_fdr=0.01, fdr=0.01\n",
      "Iteration 1:\tEstimated 3472 PSMs with q<0.01\n",
      "Iteration 2:\tEstimated 3617 PSMs with q<0.01\n",
      "Iteration 3:\tEstimated 3654 PSMs with q<0.01\n",
      "Iteration 4:\tEstimated 3669 PSMs with q<0.01\n",
      "Iteration 5:\tEstimated 3660 PSMs with q<0.01\n",
      "Iteration 6:\tEstimated 3669 PSMs with q<0.01\n",
      "Iteration 7:\tEstimated 3674 PSMs with q<0.01\n",
      "Iteration 8:\tEstimated 3684 PSMs with q<0.01\n",
      "Iteration 9:\tEstimated 3673 PSMs with q<0.01\n",
      "Iteration 10:\tEstimated 3672 PSMs with q<0.01\n",
      "Learned normalized SVM weights for the 3 cross-validation splits:\n",
      " Split1\t Split2\t Split3\tFeatureName\n",
      " 0.6492\t 0.5189\t 0.5270\tMainScore\n",
      "-0.5831\t-0.6713\t-0.7023\tDeltaScore\n",
      " 0.7891\t 0.7380\t 0.6721\tLog2Reads\n",
      "-0.0341\t-0.1785\t 0.0416\tabsppm\n",
      " 0.0000\t 0.0000\t 0.0000\tCharge2\n",
      " 0.0000\t 0.0000\t 0.0000\tCharge3\n",
      " 0.0000\t 0.0000\t 0.0000\tCharge4\n",
      " 1.2091\t 0.9735\t 1.0689\tSA\n",
      "-0.6597\t-0.6136\t-0.5759\tBestDeltaRT\n",
      " 0.8986\t 0.8516\t 0.6742\tLog2MeanQScore\n",
      "-2.2819\t-2.0149\t-1.7356\tm0\n",
      "Found 3627 test set PSMs with q<0.01.\n",
      "Selected best-scoring PSM per scan+expMass (target-decoy competition): 3680 target PSMs and 864 decoy PSMs.\n",
      "Calculating q values.\n",
      "Final list yields 2497 target PSMs with q<0.01.\n",
      "Calculating posterior error probabilities (PEPs).\n",
      "Processing took 2.5520 cpu seconds or 2 seconds wall clock time.\n",
      "Protein decoy-preix used is random_\n",
      "All files have been read\n",
      "Percolator version 3.06.0, Build Date May 11 2022 12:45:02\n",
      "Copyright (c) 2006-9 University of Washington. All rights reserved.\n",
      "Written by Lukas Käll (lukall@u.washington.edu) in the\n",
      "Department of Genome Sciences at the University of Washington.\n",
      "Issued command:\n",
      "percolator -i 10 --default-direction MainScore --testFDR 0.01 --trainFDR 0.01 --weights R1_IN532T.feat.weights --results-psms R1_IN532T.feat.target.psm --decoy-results-psms R1_IN532T.feat.decoy.psm -P random_ -Y -U R1_IN532T.pxg.predfeat.feat.pin --xmloutput R1_IN532T.feat.xml\n",
      "Started Tue May  9 23:26:49 2023\n",
      "Hyperparameters: selectionFdr=0.01, Cpos=0, Cneg=0, maxNiter=10\n",
      "Reading tab-delimited input from datafile R1_IN532T.pxg.predfeat.feat.pin\n",
      "Features:\n",
      "MainScore DeltaScore Log2Reads absppm Charge2 Charge3 Charge4 SA BestDeltaRT Log2MeanQScore \n",
      "Found 3754 PSMs\n",
      "Separate target and decoy search inputs detected, using target-decoy competition on Percolator scores.\n",
      "Train/test set contains 3311 positives and 443 negatives, size ratio=7.47404 and pi0=1\n",
      "Selecting Cpos by cross-validation.\n",
      "Selecting Cneg by cross-validation.\n",
      "Found 1337 test set positives with q<0.01 in initial direction\n",
      "Reading in data and feature calculation took 0.0161 cpu seconds or 0 seconds wall clock time.\n",
      "---Training with Cpos selected by cross validation, Cneg selected by cross validation, initial_fdr=0.01, fdr=0.01\n",
      "Iteration 1:\t"
     ]
    },
    {
     "name": "stdout",
     "output_type": "stream",
     "text": [
      "run percolator: R1_IN532T.pxg.predfeat.feat.pin\n"
     ]
    },
    {
     "name": "stderr",
     "output_type": "stream",
     "text": [
      "Estimated 2472 PSMs with q<0.01\n",
      "Iteration 2:\tEstimated 2592 PSMs with q<0.01\n",
      "Iteration 3:\tEstimated 2607 PSMs with q<0.01\n",
      "Iteration 4:\tEstimated 2610 PSMs with q<0.01\n",
      "Iteration 5:\tEstimated 2607 PSMs with q<0.01\n",
      "Iteration 6:\tEstimated 2611 PSMs with q<0.01\n",
      "Iteration 7:\tEstimated 2607 PSMs with q<0.01\n",
      "Iteration 8:\tEstimated 2611 PSMs with q<0.01\n",
      "Iteration 9:\tEstimated 2606 PSMs with q<0.01\n",
      "Iteration 10:\tEstimated 2611 PSMs with q<0.01\n",
      "Learned normalized SVM weights for the 3 cross-validation splits:\n",
      " Split1\t Split2\t Split3\tFeatureName\n",
      " 0.6268\t 0.7500\t 1.0502\tMainScore\n",
      "-0.8458\t-1.0594\t-1.0434\tDeltaScore\n",
      " 1.2885\t 1.5810\t 1.7567\tLog2Reads\n",
      " 0.1300\t 0.1729\t 0.3098\tabsppm\n",
      " 0.0000\t 0.0000\t 0.0000\tCharge2\n",
      " 0.0000\t 0.0000\t 0.0000\tCharge3\n",
      " 0.0000\t 0.0000\t 0.0000\tCharge4\n",
      " 0.1910\t 0.1443\t 0.3752\tSA\n",
      "-1.0735\t-1.0920\t-1.8114\tBestDeltaRT\n",
      "-0.0041\t 0.0257\t-0.0912\tLog2MeanQScore\n",
      " 0.6930\t 0.9682\t 0.9619\tm0\n",
      "Found 2581 test set PSMs with q<0.01.\n",
      "Selected best-scoring PSM per scan+expMass (target-decoy competition): 1842 target PSMs and 118 decoy PSMs.\n",
      "Calculating q values.\n",
      "Final list yields 1711 target PSMs with q<0.01.\n",
      "Calculating posterior error probabilities (PEPs).\n",
      "Processing took 1.7909 cpu seconds or 1 seconds wall clock time.\n",
      "Protein decoy-preix used is random_\n",
      "All files have been read\n",
      "Percolator version 3.06.0, Build Date May 11 2022 12:45:02\n",
      "Copyright (c) 2006-9 University of Washington. All rights reserved.\n",
      "Written by Lukas Käll (lukall@u.washington.edu) in the\n",
      "Department of Genome Sciences at the University of Washington.\n",
      "Issued command:\n",
      "percolator -i 10 --default-direction MainScore --testFDR 0.01 --trainFDR 0.01 --weights R2_IN532T.feat.weights --results-psms R2_IN532T.feat.target.psm --decoy-results-psms R2_IN532T.feat.decoy.psm -P random_ -Y -U R2_IN532T.pxg.predfeat.feat.pin --xmloutput R2_IN532T.feat.xml\n",
      "Started Tue May  9 23:26:51 2023\n",
      "Hyperparameters: selectionFdr=0.01, Cpos=0, Cneg=0, maxNiter=10\n",
      "Reading tab-delimited input from datafile R2_IN532T.pxg.predfeat.feat.pin\n",
      "Features:\n",
      "MainScore DeltaScore Log2Reads absppm Charge2 Charge3 Charge4 SA BestDeltaRT Log2MeanQScore \n",
      "Found 6494 PSMs\n",
      "Separate target and decoy search inputs detected, using target-decoy competition on Percolator scores.\n",
      "Train/test set contains 5502 positives and 992 negatives, size ratio=5.54637 and pi0=1\n",
      "Selecting Cpos by cross-validation.\n",
      "Selecting Cneg by cross-validation.\n",
      "Found 718 test set positives with q<0.01 in initial direction\n",
      "Reading in data and feature calculation took 0.0249 cpu seconds or 0 seconds wall clock time.\n",
      "---Training with Cpos selected by cross validation, Cneg selected by cross validation, initial_fdr=0.01, fdr=0.01\n",
      "Iteration 1:\tEstimated 2810 PSMs with q<0.01\n",
      "Iteration 2:\tEstimated 3327 PSMs with q<0.01\n",
      "Iteration 3:\t"
     ]
    },
    {
     "name": "stdout",
     "output_type": "stream",
     "text": [
      "run percolator: R2_IN532T.pxg.predfeat.feat.pin\n"
     ]
    },
    {
     "name": "stderr",
     "output_type": "stream",
     "text": [
      "Estimated 3447 PSMs with q<0.01\n",
      "Iteration 4:\tEstimated 3496 PSMs with q<0.01\n",
      "Iteration 5:\tEstimated 3504 PSMs with q<0.01\n",
      "Iteration 6:\tEstimated 3525 PSMs with q<0.01\n",
      "Iteration 7:\tEstimated 3513 PSMs with q<0.01\n",
      "Iteration 8:\tEstimated 3518 PSMs with q<0.01\n",
      "Iteration 9:\tEstimated 3518 PSMs with q<0.01\n",
      "Iteration 10:\tEstimated 3529 PSMs with q<0.01\n",
      "Learned normalized SVM weights for the 3 cross-validation splits:\n",
      " Split1\t Split2\t Split3\tFeatureName\n",
      " 0.5852\t 0.3762\t 0.4136\tMainScore\n",
      "-1.0823\t-1.3145\t-1.0379\tDeltaScore\n",
      " 1.2346\t 1.1424\t 1.0752\tLog2Reads\n",
      " 0.1139\t 0.0047\t 0.0671\tabsppm\n",
      " 0.0000\t 0.0000\t 0.0000\tCharge2\n",
      " 0.0000\t 0.0000\t 0.0000\tCharge3\n",
      " 0.0000\t 0.0000\t 0.0000\tCharge4\n",
      " 0.1349\t 0.1611\t 0.0885\tSA\n",
      "-1.2777\t-1.0071\t-1.0131\tBestDeltaRT\n",
      " 0.2194\t 0.2762\t 0.1674\tLog2MeanQScore\n",
      "-0.3632\t-0.4846\t-0.4081\tm0\n",
      "Found 3490 test set PSMs with q<0.01.\n",
      "Selected best-scoring PSM per scan+expMass (target-decoy competition): 3339 target PSMs and 250 decoy PSMs.\n",
      "Calculating q values.\n",
      "Final list yields 2908 target PSMs with q<0.01.\n",
      "Calculating posterior error probabilities (PEPs).\n",
      "Processing took 2.8891 cpu seconds or 2 seconds wall clock time.\n",
      "Protein decoy-preix used is random_\n",
      "All files have been read\n",
      "Percolator version 3.06.0, Build Date May 11 2022 12:45:02\n",
      "Copyright (c) 2006-9 University of Washington. All rights reserved.\n",
      "Written by Lukas Käll (lukall@u.washington.edu) in the\n",
      "Department of Genome Sciences at the University of Washington.\n",
      "Issued command:\n",
      "percolator -i 10 --default-direction MainScore --testFDR 0.01 --trainFDR 0.01 --weights M004T.feat.weights --results-psms M004T.feat.target.psm --decoy-results-psms M004T.feat.decoy.psm -P random_ -Y -U M004T.pxg.predfeat.feat.pin --xmloutput M004T.feat.xml\n",
      "Started Tue May  9 23:26:53 2023\n",
      "Hyperparameters: selectionFdr=0.01, Cpos=0, Cneg=0, maxNiter=10\n",
      "Reading tab-delimited input from datafile M004T.pxg.predfeat.feat.pin\n",
      "Features:\n",
      "MainScore DeltaScore Log2Reads absppm Charge2 Charge3 Charge4 SA BestDeltaRT Log2MeanQScore \n"
     ]
    },
    {
     "name": "stdout",
     "output_type": "stream",
     "text": [
      "run percolator: M004T.pxg.predfeat.feat.pin\n"
     ]
    },
    {
     "name": "stderr",
     "output_type": "stream",
     "text": [
      "Found 11009 PSMs\n",
      "Separate target and decoy search inputs detected, using target-decoy competition on Percolator scores.\n",
      "Train/test set contains 8895 positives and 2114 negatives, size ratio=4.20766 and pi0=1\n",
      "Selecting Cpos by cross-validation.\n",
      "Selecting Cneg by cross-validation.\n",
      "Found 3001 test set positives with q<0.01 in initial direction\n",
      "Reading in data and feature calculation took 0.0390 cpu seconds or 0 seconds wall clock time.\n",
      "---Training with Cpos selected by cross validation, Cneg selected by cross validation, initial_fdr=0.01, fdr=0.01\n",
      "Iteration 1:\tEstimated 4431 PSMs with q<0.01\n",
      "Iteration 2:\tEstimated 4891 PSMs with q<0.01\n",
      "Iteration 3:\tEstimated 4982 PSMs with q<0.01\n",
      "Iteration 4:\tEstimated 4994 PSMs with q<0.01\n",
      "Iteration 5:\tEstimated 5017 PSMs with q<0.01\n",
      "Iteration 6:\tEstimated 5033 PSMs with q<0.01\n",
      "Iteration 7:\tEstimated 5029 PSMs with q<0.01\n",
      "Iteration 8:\tEstimated 5016 PSMs with q<0.01\n",
      "Iteration 9:\tEstimated 5035 PSMs with q<0.01\n",
      "Iteration 10:\tEstimated 5038 PSMs with q<0.01\n",
      "Learned normalized SVM weights for the 3 cross-validation splits:\n",
      " Split1\t Split2\t Split3\tFeatureName\n",
      " 0.4125\t 0.6546\t 0.5092\tMainScore\n",
      "-0.4727\t-0.3563\t-0.5255\tDeltaScore\n",
      " 0.6747\t 0.5147\t 0.5606\tLog2Reads\n",
      " 0.0414\t 0.0231\t 0.0761\tabsppm\n",
      " 0.0000\t 0.0000\t 0.0000\tCharge2\n",
      " 0.0000\t 0.0000\t 0.0000\tCharge3\n",
      " 0.0000\t 0.0000\t 0.0000\tCharge4\n",
      " 1.3731\t 1.1307\t 1.2897\tSA\n",
      "-0.8854\t-0.6469\t-0.4543\tBestDeltaRT\n",
      " 0.3930\t 0.3804\t 0.5379\tLog2MeanQScore\n",
      "-1.2498\t-1.4671\t-1.2335\tm0\n",
      "Found 4951 test set PSMs with q<0.01.\n",
      "Selected best-scoring PSM per scan+expMass (target-decoy competition): 4901 target PSMs and 830 decoy PSMs.\n",
      "Calculating q values.\n",
      "Final list yields 3891 target PSMs with q<0.01.\n",
      "Calculating posterior error probabilities (PEPs).\n",
      "Processing took 2.6364 cpu seconds or 2 seconds wall clock time.\n",
      "Protein decoy-preix used is random_\n",
      "All files have been read\n",
      "Percolator version 3.06.0, Build Date May 11 2022 12:45:02\n",
      "Copyright (c) 2006-9 University of Washington. All rights reserved.\n",
      "Written by Lukas Käll (lukall@u.washington.edu) in the\n",
      "Department of Genome Sciences at the University of Washington.\n",
      "Issued command:\n",
      "percolator -i 10 --default-direction MainScore --testFDR 0.01 --trainFDR 0.01 --weights M009T.feat.weights --results-psms M009T.feat.target.psm --decoy-results-psms M009T.feat.decoy.psm -P random_ -Y -U M009T.pxg.predfeat.feat.pin --xmloutput M009T.feat.xml\n",
      "Started Tue May  9 23:26:55 2023\n",
      "Hyperparameters: selectionFdr=0.01, Cpos=0, Cneg=0, maxNiter=10\n"
     ]
    },
    {
     "name": "stdout",
     "output_type": "stream",
     "text": [
      "run percolator: M009T.pxg.predfeat.feat.pin\n"
     ]
    },
    {
     "name": "stderr",
     "output_type": "stream",
     "text": [
      "Reading tab-delimited input from datafile M009T.pxg.predfeat.feat.pin\n",
      "Features:\n",
      "MainScore DeltaScore Log2Reads absppm Charge2 Charge3 SA BestDeltaRT Log2MeanQScore \n",
      "Found 21949 PSMs\n",
      "Separate target and decoy search inputs detected, using target-decoy competition on Percolator scores.\n",
      "Train/test set contains 15141 positives and 6808 negatives, size ratio=2.224 and pi0=1\n",
      "Selecting Cpos by cross-validation.\n",
      "Selecting Cneg by cross-validation.\n",
      "Found 1191 test set positives with q<0.01 in initial direction\n",
      "Reading in data and feature calculation took 0.0739 cpu seconds or 0 seconds wall clock time.\n",
      "---Training with Cpos selected by cross validation, Cneg selected by cross validation, initial_fdr=0.01, fdr=0.01\n",
      "Iteration 1:\tEstimated 3154 PSMs with q<0.01\n",
      "Iteration 2:\tEstimated 3284 PSMs with q<0.01\n",
      "Iteration 3:\tEstimated 3286 PSMs with q<0.01\n",
      "Iteration 4:\tEstimated 3304 PSMs with q<0.01\n",
      "Iteration 5:\tEstimated 3301 PSMs with q<0.01\n",
      "Iteration 6:\tEstimated 3315 PSMs with q<0.01\n",
      "Iteration 7:\tEstimated 3316 PSMs with q<0.01\n",
      "Iteration 8:\tEstimated 3313 PSMs with q<0.01\n",
      "Iteration 9:\tEstimated 3308 PSMs with q<0.01\n",
      "Iteration 10:\tEstimated 3310 PSMs with q<0.01\n",
      "Learned normalized SVM weights for the 3 cross-validation splits:\n",
      " Split1\t Split2\t Split3\tFeatureName\n",
      " 0.8086\t 0.8717\t 1.1202\tMainScore\n",
      "-0.5314\t-0.6109\t-0.9283\tDeltaScore\n",
      " 0.5794\t 0.5910\t 0.8168\tLog2Reads\n",
      " 0.0563\t-0.0448\t 0.3137\tabsppm\n",
      " 0.0000\t 0.0000\t 0.0000\tCharge2\n",
      " 0.0000\t 0.0000\t 0.0000\tCharge3\n",
      " 1.3715\t 0.9729\t 1.4476\tSA\n",
      "-0.2601\t-0.0457\t-0.7653\tBestDeltaRT\n",
      " 0.2007\t 0.3021\t 0.3690\tLog2MeanQScore\n",
      "-3.8342\t-2.8775\t-4.3569\tm0\n",
      "Found 3289 test set PSMs with q<0.01.\n",
      "Selected best-scoring PSM per scan+expMass (target-decoy competition): 6987 target PSMs and 2983 decoy PSMs.\n",
      "Calculating q values.\n",
      "Final list yields 2862 target PSMs with q<0.01.\n",
      "Calculating posterior error probabilities (PEPs).\n",
      "Processing took 2.6120 cpu seconds or 1 seconds wall clock time.\n"
     ]
    }
   ],
   "source": [
    "os.chdir(\"/Users/gistar/projects/GastricCancer_NCC/percolator/\")\n",
    "\n",
    "#features = ['feat1', 'feat2', 'feat3', 'feat4', 'feat5', 'feat6', 'feat7']\n",
    "features = ['feat']\n",
    "\n",
    "\n",
    "\n",
    "for feature in features:\n",
    "    for idx in range(len(sample_names)):\n",
    "        if(not select[idx]):\n",
    "            continue\n",
    "        \n",
    "        sample_name = sample_names[idx]\n",
    "        output_name = sample_name+\".\"+feature\n",
    "        input_name = sample_name+\".pxg.predfeat.\"+feature+\".pin\"\n",
    "        print(\"run percolator: \" + input_name)\n",
    "        \n",
    "        p_target_psm = output_name+\".target.psm\"\n",
    "        p_decoy_psm = output_name+\".decoy.psm\"\n",
    "        p_weights = output_name+\".weights\"\n",
    "        p_xml_out = output_name +\".xml\"\n",
    "        os.system(\"percolator -i 10 --default-direction MainScore --testFDR 0.01 --trainFDR 0.01 --weights \"+p_weights+\" --results-psms \"+p_target_psm+\" --decoy-results-psms \"+p_decoy_psm+ \" -P random_ -Y -U \" +input_name +\" --xmloutput \"+ p_xml_out +\" > out\")\n",
    "\n"
   ]
  },
  {
   "cell_type": "code",
   "execution_count": null,
   "id": "4daeab70",
   "metadata": {},
   "outputs": [],
   "source": []
  }
 ],
 "metadata": {
  "kernelspec": {
   "display_name": "Python 3 (ipykernel)",
   "language": "python",
   "name": "python3"
  },
  "language_info": {
   "codemirror_mode": {
    "name": "ipython",
    "version": 3
   },
   "file_extension": ".py",
   "mimetype": "text/x-python",
   "name": "python",
   "nbconvert_exporter": "python",
   "pygments_lexer": "ipython3",
   "version": "3.9.16"
  }
 },
 "nbformat": 4,
 "nbformat_minor": 5
}
