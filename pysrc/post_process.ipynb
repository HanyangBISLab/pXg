{
 "cells": [
  {
   "cell_type": "code",
   "execution_count": 1,
   "id": "5229362b",
   "metadata": {},
   "outputs": [],
   "source": [
    "import pandas as pd\n",
    "import math\n",
    "import numpy as np\n",
    "import os\n",
    "from matplotlib import pyplot"
   ]
  },
  {
   "cell_type": "code",
   "execution_count": 13,
   "id": "074ec3cf",
   "metadata": {},
   "outputs": [],
   "source": [
    "\n",
    "\n",
    "def run_percolator(pin_file, out_target, out_decoy):\n",
    "    os.system(\"percolator -i 10 --default-direction MainScore \\\n",
    "    --testFDR 0.01 --trainFDR 0.01 --results-psms \"+out_target+\" \\\n",
    "    --decoy-results-psms \"+out_decoy+\" -P random_ -Y -U \"+pin_file)\n",
    "\n",
    "def filter_pxg_res(pxg_res_file, p_target_file, p_decoy_file):\n",
    "    pxg_res = pd.read_table(pxg_res_file)\n",
    "    p_target = pd.read_table(p_target_file)\n",
    "    p_decoy = pd.read_table(p_decoy_file)\n",
    "    \n",
    "    ## remove \"random_\" mark in decoy\n",
    "    p_decoy = p_decoy.replace({'XXX_': ''}, regex=True)\n",
    "    \n",
    "    df = pd.DataFrame(columns=pxg_res.columns)\n",
    "    df['percolator_score'] = 0\n",
    "\n",
    "    ## mak\n",
    "    id_dict = {}\n",
    "    score_dict = {}\n",
    "    for idx in p_target.index:\n",
    "        id_dict[p_target['PSMId'][idx]] = p_target['proteinIds'][idx]\n",
    "        score_dict[p_target['PSMId'][idx]] = p_target['score'][idx]\n",
    "    \n",
    "    for idx in p_decoy.index:\n",
    "        id_dict[p_decoy['PSMId'][idx]] = p_decoy['proteinIds'][idx]\n",
    "        score_dict[p_decoy['PSMId'][idx]] = p_decoy['score'][idx]\n",
    "\n",
    "    #SpecID\n",
    "    #GenomicID\n",
    "    for idx in pxg_res.index:\n",
    "        spec_id = pxg_res['SpecID'][idx]\n",
    "        genomic_id = pxg_res['GenomicID'][idx]\n",
    "        if spec_id in id_dict:\n",
    "            if int(id_dict[spec_id]) == int(genomic_id):\n",
    "                df.loc[len(df)] = pxg_res.iloc[idx]\n",
    "                df['percolator_score'][len(df)-1] = score_dict[spec_id]\n",
    "    \n",
    "    \n",
    "    return df\n",
    "\n",
    "def run_global_fdr(df, target_fdr):\n",
    "    \n",
    "    target_cnt = 0\n",
    "    decoy_cnt = 0\n",
    "    target_idx = 0\n",
    "    \n",
    "    x_max = max(df['percolator_score'])\n",
    "    x_min = min(df['percolator_score'])\n",
    "    \n",
    "    bins = np.linspace(x_min, x_max, 100)\n",
    "    pyplot.hist(df[df['Label']==1]['percolator_score'], bins, alpha=0.5, label='target')\n",
    "    pyplot.hist(df[df['Label']==-1]['percolator_score'], bins, alpha=0.5, label='decoy')\n",
    "    pyplot.legend(loc='upper right')\n",
    "    pyplot.show()\n",
    "    \n",
    "    ## Pass stat.\n",
    "    estimated_fdr = 0\n",
    "    estimated_target = 0\n",
    "    estimated_decoy = 0\n",
    "    for idx in df.index:\n",
    "        label = df['Label'][idx]\n",
    "        \n",
    "        if label == 1:\n",
    "            target_cnt += 1\n",
    "        elif label == -1:\n",
    "            decoy_cnt += 1\n",
    "        \n",
    "        if target_cnt != 0:\n",
    "            fdr = decoy_cnt/target_cnt\n",
    "            \n",
    "            # pass target FDR?\n",
    "            if fdr < target_fdr:\n",
    "                target_idx = idx\n",
    "                estimated_fdr = fdr\n",
    "                estimated_target = target_cnt\n",
    "                estimated_decoy = decoy_cnt\n",
    "    \n",
    "    print(\"FDR at \"+str(estimated_fdr))\n",
    "    print(\"# of targets: \"+ str(estimated_target))\n",
    "    print(\"# of decoys: \"+ str(estimated_decoy))\n",
    "    \n",
    "    pass_df = df.iloc[0:(target_idx+1)]\n",
    "    pass_df = pass_df[pass_df['Label'] == 1]\n",
    "    \n",
    "    return pass_df\n",
    "\n",
    "def run_separate_fdr(filter_df, target_fdr):\n",
    "    filter_df = filter_df.sort_values(by=['percolator_score'], ascending=False)\n",
    "    \n",
    "    ## Separte canonical and noncanonical PSMs\n",
    "    canonical_list = filter_df[filter_df['IsCanonical'] == True]\n",
    "    noncanonical_list = filter_df[filter_df['IsCanonical'] == False]\n",
    "    \n",
    "    return (run_global_fdr(canonical_list, target_fdr), run_global_fdr(noncanonical_list, target_fdr))\n",
    "        \n",
    "    \n",
    "    "
   ]
  },
  {
   "cell_type": "code",
   "execution_count": 195,
   "id": "e92ed266",
   "metadata": {
    "scrolled": true
   },
   "outputs": [
    {
     "name": "stderr",
     "output_type": "stream",
     "text": [
      "Protein decoy-prefix used is random_\n",
      "All files have been read\n",
      "Percolator version 3.06.1, Build Date Jun 15 2023 15:03:57\n",
      "Copyright (c) 2006-9 University of Washington. All rights reserved.\n",
      "Written by Lukas Käll (lukall@u.washington.edu) in the\n",
      "Department of Genome Sciences at the University of Washington.\n",
      "Issued command:\n",
      "percolator -i 10 --default-direction MainScore --testFDR 0.01 --trainFDR 0.01 --results-psms toy.target.psm --decoy-results-psms toy.decoy.psm -P random_ -Y -U toy.pXg.pin\n",
      "Started Thu Jun 22 16:50:40 2023\n",
      "Hyperparameters: selectionFdr=0.01, Cpos=0, Cneg=0, maxNiter=10\n",
      "Reading tab-delimited input from datafile toy.pXg.pin\n",
      "Features:\n",
      "MainScore Log2Reads Charge2 Charge3 Charge4 ppm DeltaScore MeanQScore \n",
      "Found 7723 PSMs\n",
      "Separate target and decoy search inputs detected, using target-decoy competition on Percolator scores.\n",
      "Train/test set contains 5827 positives and 1896 negatives, size ratio=3.07331 and pi0=1\n",
      "Selecting Cpos by cross-validation.\n",
      "Selecting Cneg by cross-validation.\n",
      "Found 0 test set positives with q<0.01 in initial direction\n",
      "Reading in data and feature calculation took 0.0282 cpu seconds or 0 seconds wall clock time.\n",
      "---Training with Cpos selected by cross validation, Cneg selected by cross validation, initial_fdr=0.01, fdr=0.01\n",
      "Iteration 1:\tEstimated 1582 PSMs with q<0.01\n",
      "Iteration 2:\tEstimated 2184 PSMs with q<0.01\n",
      "Iteration 3:\tEstimated 2347 PSMs with q<0.01\n",
      "Iteration 4:\tEstimated 2386 PSMs with q<0.01\n",
      "Iteration 5:\tEstimated 2453 PSMs with q<0.01\n",
      "Iteration 6:\tEstimated 2489 PSMs with q<0.01\n",
      "Iteration 7:\tEstimated 2517 PSMs with q<0.01\n",
      "Iteration 8:\tEstimated 2521 PSMs with q<0.01\n",
      "Iteration 9:\tEstimated 2537 PSMs with q<0.01\n",
      "Iteration 10:\tEstimated 2526 PSMs with q<0.01\n",
      "Learned normalized SVM weights for the 3 cross-validation splits:\n",
      " Split1\t Split2\t Split3\tFeatureName\n",
      " 0.9447\t 0.9998\t 1.1485\tMainScore\n",
      " 1.3296\t 1.3756\t 1.5678\tLog2Reads\n",
      "-0.1406\t-0.1224\t-0.2148\tCharge2\n",
      " 0.0896\t 0.0494\t 0.1147\tCharge3\n",
      " 0.2570\t 0.3647\t 0.5022\tCharge4\n",
      " 0.0177\t-0.0953\t 0.0906\tppm\n",
      "-1.0034\t-0.9752\t-1.2571\tDeltaScore\n",
      "-0.2848\t-0.2515\t-0.3789\tMeanQScore\n",
      "-1.1612\t-1.1597\t-1.8790\tm0\n",
      "Found 2466 test set PSMs with q<0.01.\n",
      "Selected best-scoring PSM per scan+expMass (target-decoy competition): 4407 target PSMs and 1112 decoy PSMs.\n",
      "Calculating q values.\n",
      "Final list yields 2223 target PSMs with q<0.01.\n",
      "Calculating posterior error probabilities (PEPs).\n",
      "Processing took 0.9920 cpu seconds or 1 seconds wall clock time.\n"
     ]
    }
   ],
   "source": [
    "run_percolator(\"toy.pXg.pin\", \"toy.target.psm\", \"toy.decoy.psm\")"
   ]
  },
  {
   "cell_type": "code",
   "execution_count": 3,
   "id": "46c4d102",
   "metadata": {},
   "outputs": [],
   "source": [
    "os.chdir(\"/Users/gistar/Documents/ZhangLab/2023_Immunopeptidomics_LUAD/Test/4sample_test_pin\")"
   ]
  },
  {
   "cell_type": "code",
   "execution_count": 14,
   "id": "9b84a20e",
   "metadata": {
    "scrolled": true
   },
   "outputs": [],
   "source": [
    "\n",
    "## select top-scored PRSMs in the pXg result file.\n",
    "df = filter_pxg_res(\"KZ2022_C3N-01488.T.csnv.pXg.feat\", \n",
    "                    \"KZ2022_C3N-01488.T.csnv.pXg.feat.target.psm\", \n",
    "                    \"KZ2022_C3N-01488.T.csnv.pXg.feat.decoy.psm\")"
   ]
  },
  {
   "cell_type": "code",
   "execution_count": null,
   "id": "c8aef6aa",
   "metadata": {},
   "outputs": [],
   "source": []
  },
  {
   "cell_type": "code",
   "execution_count": 15,
   "id": "1f894f94",
   "metadata": {},
   "outputs": [
    {
     "data": {
      "image/png": "[encoded data removed]",
      "text/plain": [
       "<Figure size 432x288 with 1 Axes>"
      ]
     },
     "metadata": {
      "needs_background": "light"
     },
     "output_type": "display_data"
    },
    {
     "name": "stdout",
     "output_type": "stream",
     "text": [
      "FDR at 0.0007705986959098992\n",
      "# of targets: 33740\n",
      "# of decoys: 26\n"
     ]
    },
    {
     "data": {
      "image/png": "[encoded data removed]",
      "text/plain": [
       "<Figure size 432x288 with 1 Axes>"
      ]
     },
     "metadata": {
      "needs_background": "light"
     },
     "output_type": "display_data"
    },
    {
     "name": "stdout",
     "output_type": "stream",
     "text": [
      "FDR at 0.049818370524130774\n",
      "# of targets: 1927\n",
      "# of decoys: 96\n"
     ]
    }
   ],
   "source": [
    "c_df, nc_df = run_separate_fdr(df, 0.05)"
   ]
  },
  {
   "cell_type": "code",
   "execution_count": null,
   "id": "58b00cbe",
   "metadata": {},
   "outputs": [],
   "source": []
  }
 ],
 "metadata": {
  "kernelspec": {
   "display_name": "Python 3 (ipykernel)",
   "language": "python",
   "name": "python3"
  },
  "language_info": {
   "codemirror_mode": {
    "name": "ipython",
    "version": 3
   },
   "file_extension": ".py",
   "mimetype": "text/x-python",
   "name": "python",
   "nbconvert_exporter": "python",
   "pygments_lexer": "ipython3",
   "version": "3.9.17"
  }
 },
 "nbformat": 4,
 "nbformat_minor": 5
}
